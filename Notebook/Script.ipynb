{
 "cells": [
  {
   "cell_type": "code",
   "execution_count": 1,
   "metadata": {},
   "outputs": [],
   "source": [
    "import requests \n",
    "import time \n",
    "import torch\n",
    "import re\n",
    "import pandas as pd\n",
    "from datasets import Dataset\n",
    "from bs4 import BeautifulSoup\n",
    "import datetime\n",
    "from langchain.text_splitter import (\n",
    "    RecursiveCharacterTextSplitter ,\n",
    "    Language \n",
    ")"
   ]
  },
  {
   "cell_type": "code",
   "execution_count": 2,
   "metadata": {},
   "outputs": [
    {
     "name": "stdout",
     "output_type": "stream",
     "text": [
      "2024-05-09 2024-06-07\n"
     ]
    }
   ],
   "source": [
    "f = (datetime.datetime.now() - datetime.timedelta(days=29)).strftime(\"%Y-%m-%d\")\n",
    "to = datetime.datetime.now().strftime(\"%Y-%m-%d\")\n",
    "print(f, to)"
   ]
  },
  {
   "cell_type": "markdown",
   "metadata": {},
   "source": [
    "## Function to remove tags and clear the document : "
   ]
  },
  {
   "cell_type": "code",
   "execution_count": 3,
   "metadata": {},
   "outputs": [],
   "source": [
    "def remove_tags(input_text):\n",
    "    clean_text = re.sub('<.*?>', '', input_text)\n",
    "    timing_pattern = r'\\b\\d{1,2}\\.\\d{2}[apmAPM]+\\s+[GMTgmt]+\\b' \n",
    "    clean_text = re.sub(timing_pattern, '', clean_text) \n",
    "    clean_text = re.sub(r'\\s+', ' ', clean_text)\n",
    "    clean_text = clean_text.replace('\\n', ' ')\n",
    "    pattern = r'© \\d+ BBC\\. The BBC is not responsible for the content of external sites\\. Read about our approach to external linking\\.'\n",
    "    clean_text = re.sub(pattern, '', clean_text)\n",
    "    # clean_text = re.sub(r' - .*', '', clean_text)\n",
    "\n",
    "    return clean_text"
   ]
  },
  {
   "cell_type": "markdown",
   "metadata": {},
   "source": [
    "<h1> Collect documents from APIs : <h1>"
   ]
  },
  {
   "cell_type": "code",
   "execution_count": 5,
   "metadata": {},
   "outputs": [],
   "source": [
    "def scrape_article_engadget(url):\n",
    "    try:\n",
    "        response = requests.get(url)\n",
    "        response.raise_for_status() \n",
    "        html_content = response.text\n",
    "        soup = BeautifulSoup(html_content, 'html.parser')\n",
    "        section_element = soup.find('div', class_='caas-body-content')\n",
    "    \n",
    "        if not section_element:\n",
    "            return None\n",
    "       \n",
    "        article_text = ''\n",
    "        for p_tag in section_element.find_all('p'):\n",
    "        # Remove HTML tags and leading/trailing whitespaces\n",
    "            article_text += p_tag.get_text(strip=True) + '\\n'\n",
    "\n",
    "        # Return cleaned text (optional: additional cleaning steps here)\n",
    "        return article_text\n",
    "    except requests.exceptions.RequestException as e:\n",
    "        print(f\"Error: An error occurred while fetching the webpage: {e}\")\n",
    "        return None\n",
    "    except Exception as e:\n",
    "        print(f\"Error: An unexpected error occurred: {e}\")\n",
    "        return None\n",
    "\n",
    "scrape_article_engadget(f'https://newsapi.org/v2/everything?domains=engadget.com&from={f}&to={to}&apiKey=00664c93e32e4db8ae93f46a260d5fd1')"
   ]
  },
  {
   "cell_type": "code",
   "execution_count": 9,
   "metadata": {},
   "outputs": [],
   "source": [
    "def fetch_engadget_news():\n",
    "        to = datetime.datetime.now().strftime('%Y-%m-%d')\n",
    "        url=f'https://newsapi.org/v2/everything?domains=engadget.com&from={f}&to={to}&apiKey=00664c93e32e4db8ae93f46a260d5fd1'\n",
    "        Engadget_articles = []\n",
    "        publish_dates=set()\n",
    "        response = requests.get(url)\n",
    "        print(response.status_code)\n",
    "        if response.status_code == 200:\n",
    "            data = response.json()\n",
    "            articles = data.get('articles', [])\n",
    "            print(articles)\n",
    "            for article in articles:\n",
    "                title = article['title']\n",
    "                content = scrape_article_engadget(article['url'])\n",
    "                if content is None:\n",
    "                    break\n",
    "                content = remove_tags(content)\n",
    "                publish_date=article['publishedAt']\n",
    "                if publish_date not in publish_dates:\n",
    "                    publish_dates.add(publish_date)\n",
    "                    Engadget_articles.append({'title': title, 'content': content, 'publishdate':publish_date})\n",
    "        else:\n",
    "            print(f\"Number of total articles retrieved from fortune news source is : {len(Engadget_articles)}\")\n",
    "        return Engadget_articles"
   ]
  },
  {
   "cell_type": "code",
   "execution_count": 10,
   "metadata": {},
   "outputs": [
    {
     "name": "stdout",
     "output_type": "stream",
     "text": [
      "200\n",
      "[{'source': {'id': None, 'name': '[Removed]'}, 'author': None, 'title': '[Removed]', 'description': '[Removed]', 'url': 'https://removed.com', 'urlToImage': None, 'publishedAt': '1970-01-01T00:00:00Z', 'content': '[Removed]'}, {'source': {'id': None, 'name': '[Removed]'}, 'author': None, 'title': '[Removed]', 'description': '[Removed]', 'url': 'https://removed.com', 'urlToImage': None, 'publishedAt': '1970-01-01T00:00:00Z', 'content': '[Removed]'}, {'source': {'id': None, 'name': '[Removed]'}, 'author': None, 'title': '[Removed]', 'description': '[Removed]', 'url': 'https://removed.com', 'urlToImage': None, 'publishedAt': '1970-01-01T00:00:00Z', 'content': '[Removed]'}, {'source': {'id': None, 'name': '[Removed]'}, 'author': None, 'title': '[Removed]', 'description': '[Removed]', 'url': 'https://removed.com', 'urlToImage': None, 'publishedAt': '1970-01-01T00:00:00Z', 'content': '[Removed]'}, {'source': {'id': None, 'name': '[Removed]'}, 'author': None, 'title': '[Removed]', 'description': '[Removed]', 'url': 'https://removed.com', 'urlToImage': None, 'publishedAt': '1970-01-01T00:00:00Z', 'content': '[Removed]'}, {'source': {'id': None, 'name': '[Removed]'}, 'author': None, 'title': '[Removed]', 'description': '[Removed]', 'url': 'https://removed.com', 'urlToImage': None, 'publishedAt': '1970-01-01T00:00:00Z', 'content': '[Removed]'}, {'source': {'id': None, 'name': '[Removed]'}, 'author': None, 'title': '[Removed]', 'description': '[Removed]', 'url': 'https://removed.com', 'urlToImage': None, 'publishedAt': '1970-01-01T00:00:00Z', 'content': '[Removed]'}, {'source': {'id': None, 'name': '[Removed]'}, 'author': None, 'title': '[Removed]', 'description': '[Removed]', 'url': 'https://removed.com', 'urlToImage': None, 'publishedAt': '1970-01-01T00:00:00Z', 'content': '[Removed]'}, {'source': {'id': None, 'name': '[Removed]'}, 'author': None, 'title': '[Removed]', 'description': '[Removed]', 'url': 'https://removed.com', 'urlToImage': None, 'publishedAt': '1970-01-01T00:00:00Z', 'content': '[Removed]'}, {'source': {'id': None, 'name': '[Removed]'}, 'author': None, 'title': '[Removed]', 'description': '[Removed]', 'url': 'https://removed.com', 'urlToImage': None, 'publishedAt': '1970-01-01T00:00:00Z', 'content': '[Removed]'}, {'source': {'id': None, 'name': '[Removed]'}, 'author': None, 'title': '[Removed]', 'description': '[Removed]', 'url': 'https://removed.com', 'urlToImage': None, 'publishedAt': '1970-01-01T00:00:00Z', 'content': '[Removed]'}, {'source': {'id': None, 'name': '[Removed]'}, 'author': None, 'title': '[Removed]', 'description': '[Removed]', 'url': 'https://removed.com', 'urlToImage': None, 'publishedAt': '1970-01-01T00:00:00Z', 'content': '[Removed]'}, {'source': {'id': None, 'name': '[Removed]'}, 'author': None, 'title': '[Removed]', 'description': '[Removed]', 'url': 'https://removed.com', 'urlToImage': None, 'publishedAt': '1970-01-01T00:00:00Z', 'content': '[Removed]'}, {'source': {'id': None, 'name': '[Removed]'}, 'author': None, 'title': '[Removed]', 'description': '[Removed]', 'url': 'https://removed.com', 'urlToImage': None, 'publishedAt': '1970-01-01T00:00:00Z', 'content': '[Removed]'}, {'source': {'id': None, 'name': '[Removed]'}, 'author': None, 'title': '[Removed]', 'description': '[Removed]', 'url': 'https://removed.com', 'urlToImage': None, 'publishedAt': '1970-01-01T00:00:00Z', 'content': '[Removed]'}, {'source': {'id': None, 'name': '[Removed]'}, 'author': None, 'title': '[Removed]', 'description': '[Removed]', 'url': 'https://removed.com', 'urlToImage': None, 'publishedAt': '1970-01-01T00:00:00Z', 'content': '[Removed]'}, {'source': {'id': None, 'name': '[Removed]'}, 'author': None, 'title': '[Removed]', 'description': '[Removed]', 'url': 'https://removed.com', 'urlToImage': None, 'publishedAt': '1970-01-01T00:00:00Z', 'content': '[Removed]'}, {'source': {'id': None, 'name': '[Removed]'}, 'author': None, 'title': '[Removed]', 'description': '[Removed]', 'url': 'https://removed.com', 'urlToImage': None, 'publishedAt': '1970-01-01T00:00:00Z', 'content': '[Removed]'}, {'source': {'id': None, 'name': '[Removed]'}, 'author': None, 'title': '[Removed]', 'description': '[Removed]', 'url': 'https://removed.com', 'urlToImage': None, 'publishedAt': '1970-01-01T00:00:00Z', 'content': '[Removed]'}, {'source': {'id': None, 'name': '[Removed]'}, 'author': None, 'title': '[Removed]', 'description': '[Removed]', 'url': 'https://removed.com', 'urlToImage': None, 'publishedAt': '1970-01-01T00:00:00Z', 'content': '[Removed]'}, {'source': {'id': None, 'name': '[Removed]'}, 'author': None, 'title': '[Removed]', 'description': '[Removed]', 'url': 'https://removed.com', 'urlToImage': None, 'publishedAt': '1970-01-01T00:00:00Z', 'content': '[Removed]'}, {'source': {'id': None, 'name': '[Removed]'}, 'author': None, 'title': '[Removed]', 'description': '[Removed]', 'url': 'https://removed.com', 'urlToImage': None, 'publishedAt': '1970-01-01T00:00:00Z', 'content': '[Removed]'}, {'source': {'id': None, 'name': '[Removed]'}, 'author': None, 'title': '[Removed]', 'description': '[Removed]', 'url': 'https://removed.com', 'urlToImage': None, 'publishedAt': '1970-01-01T00:00:00Z', 'content': '[Removed]'}, {'source': {'id': None, 'name': '[Removed]'}, 'author': None, 'title': '[Removed]', 'description': '[Removed]', 'url': 'https://removed.com', 'urlToImage': None, 'publishedAt': '1970-01-01T00:00:00Z', 'content': '[Removed]'}, {'source': {'id': None, 'name': '[Removed]'}, 'author': None, 'title': '[Removed]', 'description': '[Removed]', 'url': 'https://removed.com', 'urlToImage': None, 'publishedAt': '1970-01-01T00:00:00Z', 'content': '[Removed]'}, {'source': {'id': None, 'name': '[Removed]'}, 'author': None, 'title': '[Removed]', 'description': '[Removed]', 'url': 'https://removed.com', 'urlToImage': None, 'publishedAt': '1970-01-01T00:00:00Z', 'content': '[Removed]'}, {'source': {'id': None, 'name': '[Removed]'}, 'author': None, 'title': '[Removed]', 'description': '[Removed]', 'url': 'https://removed.com', 'urlToImage': None, 'publishedAt': '1970-01-01T00:00:00Z', 'content': '[Removed]'}, {'source': {'id': None, 'name': '[Removed]'}, 'author': None, 'title': '[Removed]', 'description': '[Removed]', 'url': 'https://removed.com', 'urlToImage': None, 'publishedAt': '1970-01-01T00:00:00Z', 'content': '[Removed]'}, {'source': {'id': None, 'name': '[Removed]'}, 'author': None, 'title': '[Removed]', 'description': '[Removed]', 'url': 'https://removed.com', 'urlToImage': None, 'publishedAt': '1970-01-01T00:00:00Z', 'content': '[Removed]'}, {'source': {'id': None, 'name': '[Removed]'}, 'author': None, 'title': '[Removed]', 'description': '[Removed]', 'url': 'https://removed.com', 'urlToImage': None, 'publishedAt': '1970-01-01T00:00:00Z', 'content': '[Removed]'}, {'source': {'id': None, 'name': '[Removed]'}, 'author': None, 'title': '[Removed]', 'description': '[Removed]', 'url': 'https://removed.com', 'urlToImage': None, 'publishedAt': '1970-01-01T00:00:00Z', 'content': '[Removed]'}, {'source': {'id': None, 'name': '[Removed]'}, 'author': None, 'title': '[Removed]', 'description': '[Removed]', 'url': 'https://removed.com', 'urlToImage': None, 'publishedAt': '1970-01-01T00:00:00Z', 'content': '[Removed]'}, {'source': {'id': None, 'name': '[Removed]'}, 'author': None, 'title': '[Removed]', 'description': '[Removed]', 'url': 'https://removed.com', 'urlToImage': None, 'publishedAt': '1970-01-01T00:00:00Z', 'content': '[Removed]'}, {'source': {'id': None, 'name': '[Removed]'}, 'author': None, 'title': '[Removed]', 'description': '[Removed]', 'url': 'https://removed.com', 'urlToImage': None, 'publishedAt': '1970-01-01T00:00:00Z', 'content': '[Removed]'}]\n",
      "Error: An error occurred while fetching the webpage: 436 Client Error: status code 436 for url: https://removed.com/\n"
     ]
    },
    {
     "data": {
      "text/plain": [
       "[]"
      ]
     },
     "execution_count": 10,
     "metadata": {},
     "output_type": "execute_result"
    }
   ],
   "source": [
    "fetch_engadget_news()"
   ]
  },
  {
   "cell_type": "markdown",
   "metadata": {},
   "source": [
    "<h1>CNN</h1>"
   ]
  },
  {
   "cell_type": "code",
   "execution_count": 16,
   "metadata": {},
   "outputs": [
    {
     "name": "stdout",
     "output_type": "stream",
     "text": [
      "The top stories and transfer rumours from Friday's newspapers...DAILY TELEGRAPHJack Grealish's omission from the England squad for Euro 2024 was such a surprise that one senior member of the party approached Gareth Southgate to try and get an understanding of his decision.Please use Chrome browser for a more accessible video playerOne of Europe's youngest coaches, St Pauli's Fabian Hurzeler, has emerged as a shock leading candidate for the Brighton job.Neal Maupay appeared to taunt nemesis James Maddison over the midfielder's exclusion from England's European Championship squad in a picture of himself smiling in front of a dartboard holding three darts.Romelu Lukaku has opened the door to a Saudi Pro League move but also has interest from AC Milan, Napoli and Jose Mourinho for a reunion with his former manager at Fenerbahce.Any Napoli move for Romelu Lukaku would only happen if they manage to sell Nigeria striker Victor Osimhen first.\n",
      "              Transfer Centre LIVE!\n",
      "            \n",
      "              Stream Sky Sports on NOW\n",
      "            \n",
      "              Get Sky Sports\n",
      "            \n",
      "              Download the Sky Sports app\n",
      "            Brighton have put 31-year-old Fabian Hurzeler on their next manager shortlist.Arron Banks, the businessman and prominent Brexit supporter, is facing a backlash over his takeover bid at Gloucestershire County Cricket Club after he sent an open letter to members outlining his plans which would see him appointed as deputy chairman.The MCC has confirmed members will have the chance to vote in September over whether to allow the sale of 49 per cent of the Hundred's London Spirit franchise.DAILY MAILChelsea are monitoring developments with Everton striker Dominic Calvert-Lewin as they assess forward targets this summer.Chelsea winger Raheem Sterling has no interest in a move to Fenerbahce and no talks have taken place about the forward moving to Turkey.The FA is creating a new board to improve security at Wembley following repeated crowd problems and public order issues.Bournemouth's Wales centre-back Chris Mepham is among the defensive players being looked at by Celtic boss Brendan Rodgers.THE TIMESManchester City's rivals fear there will be political pressure on ministers to intervene over the 115 charges brought by the Premier League.New Napoli manager Antonio Conte plans to take Romelu Lukaku off Chelsea's hands by making the striker his first signing.THE GUARDIANChelsea and England midfielder Conor Gallagher is prepared to stay at the club despite interest from Aston Villa and Tottenham.Brighton have held talks with Graham Potter about a potential return to the club but are determined not to rush into an appointment after missing out on Ipswich's Kieran McKenna.Manchester City's chairman, Khaldoon al-Mubarak, has described the City Football Group as a \"financial and economic machine\" after it posted revenue of £877.1m for the year to June 30, 2023, despite a £126.9m pre-tax loss.FIFA's decision to move its legal department to Miami will cause \"major disruption\" with almost two-thirds of staff not relocating to the US, according to employees at world football's governing body.THE SUNHarry Kane's trophy famine would have ended three years ago if Jose Mourinho had not been sacked as Spurs boss, according to the Special One himself.Marcus Rashford will be sentenced in September after admitting to a speeding offence on the M60 a short time after wrecking one of his other Rolls Royce cars outside Manchester United's Carrington training ground.John McEnroe called for Tennis bosses to sort out \"joke\" schedules as injured Novak Djokovic faces missing Wimbledon.Please use Chrome browser for a more accessible video playerDAILY MIRRORManchester United will have to pay more in compensation to Erik ten Hag if they sack him following their FA Cup triumph.Manchester City chairman Khaldoon Al Mubarak says other clubs poaching their staff shows the Premier League champions are the leaders in world football.Arsenal and Brazil centre-back Gabriel said it is \"his dream\" to join Brazilian side Corinthians, the club he has supported since he was a child.THE STANDARDChelsea have made Crystal Palace and France U21 winger Michael Olise one of their top summer transfer targets, with the Blues ready to rival Manchester United to land the £60m-rated player.THE ATHLETICDominic Solanke's contract at Bournemouth includes a release clause of £65m ($83m) that can only be activated by certain clubs.MARCAManchester United have made a €60m (£51m) bid for 18-year-old Lille defender Leny Yoro but face a fight for the French teenager's signature with Real Madrid.DAILY RECORDScotland and Southampton striker Che Adams is set to make a big-money move to Wolves.Veteran goalkeeper Craig Gordon looks set to face the heartbreak of missing out on Scotland's Euro 2024 squad.Correctly predict six scorelines for a chance to win £250,000 for free. Entries by 3pm Saturday.Correctly predict six scorelines for a chance to win £250,000 for free. Entries by 3pm Saturday.\n"
     ]
    }
   ],
   "source": [
    "def scrape_article_content_sky(url):\n",
    "    response = requests.get(url)\n",
    "    if response.status_code == 200:\n",
    "        soup = BeautifulSoup(response.content, 'html.parser')\n",
    "        articles = soup.find('div', class_='section-wrap')\n",
    "        if articles:\n",
    "            body = articles.find('div', class_='sdc-article-body sdc-article-body--lead')\n",
    "            # print(body)\n",
    "            paragraphs = body.find_all('p')\n",
    "            article_text = ''.join([p.text for p in paragraphs])\n",
    "            return article_text\n",
    "        else:\n",
    "            return None\n",
    "\n",
    "\n",
    "print(scrape_article_content_sky('https://www.skysports.com/football/transfer-paper-talk/12709/13149137/senior-england-player-approached-gareth-southgate-over-jack-grealish-squad-omission-paper-talk'))"
   ]
  },
  {
   "cell_type": "code",
   "execution_count": 4,
   "metadata": {},
   "outputs": [
    {
     "name": "stdout",
     "output_type": "stream",
     "text": [
      "{'status': 'ok', 'totalResults': 244, 'articles': [{'source': {'id': None, 'name': 'Sky Sports'}, 'author': 'Ron Walker', 'title': 'Woeful England sign off for Euros with limp Iceland defeat', 'description': 'Woeful England lost their final warm-up game ahead of a tournament for the first time since 1968 as minnows Iceland left Wembley with a deserved 1-0 win.', 'url': 'https://www.skysports.com/football/news/11095/13149144/england-0-1-iceland-jon-dagur-thorsteinsson-nets-winner-as-minnows-stun-three-lions-in-final-euro-2024-warm-up', 'urlToImage': 'https://e0.365dm.com/24/06/1600x900/skysports-harry-kane-england_6575886.jpg?20240607202818', 'publishedAt': '2024-06-06T22:13:00Z', 'content': 'Woeful England lost their final warm-up game ahead of a tournament for the first time since 1968 as minnows Iceland left Wembley with a deserved 1-0 win.\\r\\nThe Three Lions were soundly beaten by the m… [+1369 chars]'}, {'source': {'id': None, 'name': 'Sky Sports'}, 'author': None, 'title': 'Papers: Senior England player approached Southgate on Grealish omission', 'description': \"The top stories and transfer rumours from Friday's newspapers...\", 'url': 'https://www.skysports.com/football/transfer-paper-talk/12709/13149137/senior-england-player-approached-gareth-southgate-over-jack-grealish-squad-omission-paper-talk', 'urlToImage': 'https://e0.365dm.com/19/10/1600x900/skysports-paper-talk-papers_4819668.jpg?20200516213727', 'publishedAt': '2024-06-06T21:30:00Z', 'content': \"The top stories and transfer rumours from Friday's newspapers...\\r\\nDAILY TELEGRAPH\\r\\nJack Grealish's omission from the England squad for Euro 2024 was such a surprise that one senior member of the part… [+3968 chars]\"}, {'source': {'id': None, 'name': 'Sky Sports'}, 'author': None, 'title': 'Wales held to goalless draw by minnows Gibraltar', 'description': 'Wales suffered one of the most embarrassing results in their history against Gibraltar as opponents ranked 203 in the world held them to a 0-0 draw.', 'url': 'https://www.skysports.com/football/news/11095/13149066/gibraltar-0-0-wales-rob-pages-much-changed-side-fail-to-score-against-european-minnows-in-disappointing-stalemate', 'urlToImage': 'https://e0.365dm.com/24/06/1600x900/skysports-wales-brennan-johnson_6575133.jpg?20240606194049', 'publishedAt': '2024-06-06T18:34:00Z', 'content': 'Wales suffered one of the most embarrassing results in their history against Gibraltar as opponents ranked 203 in the world held them to a 0-0 draw.\\r\\nOnly seven teams in the 210-strong international … [+4827 chars]'}, {'source': {'id': None, 'name': 'Sky Sports'}, 'author': None, 'title': \"Scottish FA president determined to keep 'huge asset' Clarke\", 'description': 'Scottish FA president Mike Mulraney wants Steve Clarke to remain as Scotland head coach beyond the Euros and help lead the country to the World Cup and beyond.', 'url': 'https://www.skysports.com/football/news/12017/13148909/steve-clarke-scottish-fa-president-keen-for-huge-asset-to-lead-scotland-into-next-world-cup', 'urlToImage': 'https://e0.365dm.com/24/03/1600x900/skysports-steve-clarke-scotland_6498520.jpg?20240323075357', 'publishedAt': '2024-06-06T17:00:00Z', 'content': 'Scottish FA president Mike Mulraney wants Steve Clarke to remain as Scotland head coach beyond the Euros and help lead the country to the World Cup and beyond.\\r\\nClarke became the first Scotland boss … [+3496 chars]'}, {'source': {'id': None, 'name': 'Sky Sports'}, 'author': None, 'title': 'Southgate gets bold and rips up left side - but who fills Maguire void?', 'description': \"The <em>Sky Sports</em> writers assess the major talking points from England's final Euro 2024 squad selection as boss Gareth Southgate finally gets bold.\", 'url': 'https://www.skysports.com/football/news/32461/13148890/englands-euro-2024-squad-analysis-gareth-southgate-gets-bold-and-rips-up-left-side-but-who-fills-harry-maguire-void', 'urlToImage': 'https://e0.365dm.com/24/06/1600x900/skysports-gareth-southgate_6574927.jpg?20240606163249', 'publishedAt': '2024-06-06T16:30:00Z', 'content': \"Southgate finally gets bold with big calls\\r\\nMarcus Rashford's omission from the provisional squad was the first clue that Gareth Southgate might be approaching this tournament differently. Now we kno… [+13019 chars]\"}, {'source': {'id': None, 'name': 'Sky Sports'}, 'author': None, 'title': 'Southgate: Big-name omissions tough despite exciting squad', 'description': 'Gareth Southgate has explained the thinking behind his 26-man Euro 2024 squad, in which he included Luke Shaw but not Harry Maguire, Jack Grealish and James Maddison.', 'url': 'https://www.skysports.com/football/news/11095/13148970/gareth-southgate-england-manager-explains-euro-2024-squad-omissions-of-jack-grealish-harry-maguire-and-james-maddison', 'urlToImage': 'https://e0.365dm.com/24/06/1600x900/skysports-southgate-grealish_6574964.jpg?20240606170310', 'publishedAt': '2024-06-06T16:04:00Z', 'content': 'Gareth Southgate has explained the thinking behind his 26-player Euro 2024 squad, in which he included Luke Shaw but not Harry Maguire, Jack Grealish and James Maddison.\\r\\nMaguire has played a major p… [+9976 chars]'}, {'source': {'id': None, 'name': 'Sky Sports'}, 'author': 'Adam Bate', 'title': 'Why overlooking Grealish is a big mistake', 'description': 'Jack Grealish’s cameo against Bosnia and Herzegovina was a welcome reminder of what he can bring to this England team. His substitute appearance was brief but he was still able to fashion perhaps the clearest three openings of the match.', 'url': 'https://www.skysports.com/football/news/11095/13148141/jack-grealish-why-manchester-city-winger-should-have-been-in-england-squad-after-omission', 'urlToImage': 'https://e0.365dm.com/24/06/1600x900/skysports-jack-grealish-england_6573587.jpg?20240605083010', 'publishedAt': '2024-06-06T15:05:00Z', 'content': 'Jack Grealishs cameo against Bosnia and Herzegovina was a welcome reminder of what he can bring to this England team. His substitute appearance was brief but he was still able to fashion perhaps the … [+5791 chars]'}, {'source': {'id': None, 'name': 'Sky Sports'}, 'author': None, 'title': 'Grealish left out of England squad for Euro 2024', 'description': \"Jack Grealish and Harry Maguire have been left out of England's final squad for Euro 2024.\", 'url': 'https://www.skysports.com/football/news/11095/13148911/jack-grealish-left-out-of-england-squad-for-euro-2024-by-gareth-southgate', 'urlToImage': 'https://e0.365dm.com/24/06/1600x900/skysports-grealish-maguire_6574882.jpg?20240606153750', 'publishedAt': '2024-06-06T15:03:00Z', 'content': \"Jack Grealish and Harry Maguire have been left out of England's final squad for Euro 2024.\\r\\nJames Maddison and Curtis Jones have also been culled from Gareth Southgate's 26-player squad.\\r\\nBut Grealis… [+3649 chars]\"}, {'source': {'id': None, 'name': 'Sky Sports'}, 'author': None, 'title': \"Grealish, Maguire and Maddison left out of England's Euro 2024 squad\", 'description': \"Jack Grealish and Harry Maguire have been left out of England's final squad for Euro 2024.\", 'url': 'https://www.skysports.com/football/news/11095/13148911/jack-grealish-harry-maguire-and-james-maddison-left-out-of-england-squad-for-euro-2024-by-gareth-southgate', 'urlToImage': 'https://e0.365dm.com/24/06/1600x900/skysports-grealish-maguire_6574882.jpg?20240606153750', 'publishedAt': '2024-06-06T15:03:00Z', 'content': \"Jack Grealish and Harry Maguire have been left out of England's final squad for Euro 2024.\\r\\nJames Maddison and Curtis Jones have also been culled from Gareth Southgate's 26-player squad.\\r\\nBut Grealis… [+4995 chars]\"}, {'source': {'id': None, 'name': 'Sky Sports'}, 'author': 'Alison Conroy', 'title': \"Clarke urges 'negative Normans' to enjoy Scotland's Euros journey\", 'description': 'Steve Clarke insisted he has no time for \"negative Normans\" as he urged everyone to get behind Scotland at Euro 2024.', 'url': 'https://www.skysports.com/football/news/11095/13148838/euro-2024-steve-clarke-urges-negative-normans-to-enjoy-scotlands-journey', 'urlToImage': 'https://e0.365dm.com/24/06/1600x900/skysports-steve-clarke-scotland_6574839.jpg?20240606145454', 'publishedAt': '2024-06-06T13:00:00Z', 'content': 'Steve Clarke insisted he has no time for \"negative Normans\" as he urged everyone to get behind Scotland at Euro 2024. \\r\\nThe head coach was disappointed by some of the reaction to their 2-0 friendly w… [+5233 chars]'}, {'source': {'id': None, 'name': 'Sky Sports'}, 'author': None, 'title': \"'Devastated' Maddison: I thought there would be a space for me\", 'description': 'James Maddison says he is \"devastated\" not to make England\\'s final squad for Euro 2024, adding he felt he deserved a place as he \"brings something different\" to the Three Lions team.', 'url': 'https://www.skysports.com/football/news/11095/13148623/james-maddison-tottenham-midfielder-reveals-he-is-devastated-not-to-make-englands-final-euro-2024-squad', 'urlToImage': 'https://e0.365dm.com/24/06/1600x900/skysports-maddison-england_6574767.jpg?20240606133645', 'publishedAt': '2024-06-06T12:49:00Z', 'content': 'James Maddison says he is \"devastated\" not to make England\\'s final squad for Euro 2024, adding he felt he deserved a place as he \"brings something different\" to the Three Lions team.\\r\\nOn Wednesday ni… [+4033 chars]'}, {'source': {'id': None, 'name': 'Sky Sports'}, 'author': None, 'title': \"Wittmann becomes first female coach of a German men's team\", 'description': \"Sabrina Wittmann has been appointed the permanent head coach of German third-tier club Ingolstadt, marking the first time a female coach has been given the role with a men's team in the country's top three national divisions.\", 'url': 'https://www.skysports.com/football/news/11095/13148814/sabrina-wittmann-ingolstadt-become-first-german-team-in-top-three-divisions-to-hire-a-female-head-coach', 'urlToImage': 'https://e0.365dm.com/24/06/1600x900/skysports-wittmann-ingolstadt_6574757.jpg?20240606132625', 'publishedAt': '2024-06-06T12:05:00Z', 'content': \"Sabrina Wittmann has been appointed the permanent head coach of German third-tier club Ingolstadt, marking the first time a female coach has been given the role with a men's team in the country's top… [+3039 chars]\"}, {'source': {'id': None, 'name': 'Sky Sports'}, 'author': 'Ron Walker', 'title': \"Why is June 30 the new 'Deadline Day' that worries clubs so much?\", 'description': 'For two decades, August and January 31 have been the traditional transfer deadline days. But June 30 is becoming an even bigger mark on the calendar for some clubs...', 'url': 'https://www.skysports.com/football/news/11095/13144913/june-30-the-unofficial-transfer-deadline-day-worrying-premier-league-clubs-over-profit-and-sustainability-rules', 'urlToImage': 'https://e0.365dm.com/24/03/1600x900/skysports-psr-premier-league_6487976.jpg?20240312125624', 'publishedAt': '2024-06-06T11:00:00Z', 'content': 'Since 2002 the transfer window has been an integral, at times even overbearing, part of British football.\\r\\nFrom some time in early June to August 31, and for the entire month of January, clubs can fi… [+7953 chars]'}, {'source': {'id': None, 'name': 'Sky Sports'}, 'author': 'Lyall Thomas and Rob Dorsett', 'title': 'Six PL clubs need to sell players this month to avoid PSR breaches', 'description': 'The clock is ticking for six Premier League clubs who face having to sell players before June 30 or risk breaching PSR regulations - and incurring sanctions as a result.', 'url': 'https://www.skysports.com/football/news/11095/13145428/chelsea-newcastle-aston-villa-everton-nottm-forest-and-leicester-must-all-sell-players-by-june-30-to-avoid-psr-breaches', 'urlToImage': 'https://e0.365dm.com/24/06/1600x900/skysports-psr-premier-league_6573784.jpg?20240605111152', 'publishedAt': '2024-06-06T11:00:00Z', 'content': \"As many as six Premier League clubs face having to sell players before the end of June in order to comply with the division's Profit and Sustainability Rules (PSR).\\r\\nThat date is the cut-off point fo… [+13837 chars]\"}, {'source': {'id': None, 'name': 'Sky Sports'}, 'author': 'Sahil Jaidka', 'title': 'Gray appointed Hibernian head coach', 'description': \"Hibernian's Scottish Cup-winning captain David Gray has been appointed as the club's new head coach on a three-year deal.\", 'url': 'https://www.skysports.com/football/news/11792/13148312/david-gray-named-hibernian-head-coach-on-three-year-deal', 'urlToImage': 'https://e0.365dm.com/24/06/1600x900/skysports-david-gray-hibs_6573992.jpg?20240605135229', 'publishedAt': '2024-06-06T10:00:00Z', 'content': \"Hibernian's Scottish Cup-winning captain David Gray has been appointed as the club's new head coach on a three-year deal.\\r\\nThe 36-year-old was in his fourth stint as temporary boss after replacing Ni… [+2243 chars]\"}, {'source': {'id': None, 'name': 'Sky Sports'}, 'author': 'Alison Conroy', 'title': 'Dramatic Scottish Premiership season draws more viewers to Sky Sports', 'description': 'The thrilling Old Firm title race in a dramatic season across the Scottish Premiership saw a huge rise in viewers watching games live on Sky Sports.', 'url': 'https://www.skysports.com/football/news/11781/13148703/spfl-dramatic-scottish-premiership-season-draws-more-viewers-to-sky-sports', 'urlToImage': 'https://e0.365dm.com/24/06/1600x900/skysports-celtic-rangers-old-firm_6574589.jpg?20240606104328', 'publishedAt': '2024-06-06T09:45:00Z', 'content': 'The thrilling Old Firm title race in a dramatic season across the Scottish Premiership saw a huge rise in viewers watching games live on Sky Sports.\\r\\nAlmost 2.5m extra viewers tuned in across the sea… [+3348 chars]'}, {'source': {'id': None, 'name': 'Sky Sports'}, 'author': None, 'title': 'Premier League clubs vote against scrapping VAR', 'description': 'Premier League clubs have voted against scrapping VAR.', 'url': 'https://www.skysports.com/football/news/11095/13148398/premier-league-clubs-vote-against-scrapping-var-despite-wolves-calling-to-abolish-system-from-next-season', 'urlToImage': 'https://e0.365dm.com/24/04/1600x900/skysports-andrew-madley-referee_6509448.jpg?20240403202956', 'publishedAt': '2024-06-06T09:00:00Z', 'content': 'Premier League clubs have voted against scrapping VAR.\\r\\nWolves - who were on the receiving end of several controversial VAR decisions this season - tabled a vote to abolish the system, saying it is \"… [+3596 chars]'}, {'source': {'id': None, 'name': 'Sky Sports'}, 'author': None, 'title': \"Morgan added to Scotland's provisional Euro 2024 squad\", 'description': 'Scotland head coach Steve Clarke has added New York Red Bulls star Lewis Morgan to his provisional squad ahead of Euro 2024.', 'url': 'https://www.skysports.com/football/news/12017/13148671/lewis-morgan-added-to-scotlands-provisional-euro-2024-squad-by-steve-clarke', 'urlToImage': 'https://e0.365dm.com/24/06/1600x900/skysports-lewis-morgan-new-york-red-bulls_6574525.jpg?20240606094928', 'publishedAt': '2024-06-06T08:50:00Z', 'content': 'Scotland head coach Steve Clarke has added New York Red Bulls star Lewis Morgan to his provisional squad ahead of Euro 2024.\\r\\nThe 27-year-old - who has nine goals and three assists to his name this s… [+1444 chars]'}, {'source': {'id': None, 'name': 'Sky Sports'}, 'author': None, 'title': 'England Euros latest: Why Maddison exit is good for Grealish', 'description': 'Sky Sports senior reporter Rob Dorsett has the latest from the England squad following the news that James Maddison has left and will not be heading to Germany - but who else will follow?', 'url': 'https://www.skysports.com/football/video/11095/13148655/england-euros-latest-james-maddison-leaves-squad-others-to-follow', 'urlToImage': 'https://e0.365dm.com/24/06/1600x900/skysports-england-euros-james_6574503.jpg?20240606093215', 'publishedAt': '2024-06-06T08:22:00Z', 'content': 'Thursday 6 June 2024 09:47, UK'}, {'source': {'id': None, 'name': 'Sky Sports'}, 'author': None, 'title': 'Man found guilty of headbutting Keane at Premier League match', 'description': 'A man has been found guilty of headbutting Roy Keane at a Premier League match.', 'url': 'https://www.skysports.com/football/news/11095/13147159/roy-keane-man-found-guilty-of-assaulting-ex-manchester-united-captain-with-headbutt', 'urlToImage': 'https://e0.365dm.com/22/10/1600x900/skysports-breaking-news-story_5927130.jpg?20221010162109', 'publishedAt': '2024-06-06T08:00:00Z', 'content': 'A man has been found guilty of headbutting Roy Keane at a Premier League match.\\r\\nScott Law, 43, of Waltham Abbey, Essex, was accused of assaulting the former Manchester United captain on September 3 … [+1311 chars]'}, {'source': {'id': None, 'name': 'Sky Sports'}, 'author': None, 'title': 'Maddison and Jones left out of final England Euro 2024 squad', 'description': \"James Maddison and Curtis Jones have been left out of England's 26-player squad for Euro 2024.\", 'url': 'https://www.skysports.com/football/news/12016/13148540/james-maddison-and-curtis-jones-left-out-of-englands-final-26-player-euro-2024-squad', 'urlToImage': 'https://e0.365dm.com/24/06/1600x900/skysports-maddison-jones-england_6574648.jpg?20240606113230', 'publishedAt': '2024-06-06T08:00:00Z', 'content': \"James Maddison and Curtis Jones have been left out of England's 26-player squad for Euro 2024.\\r\\nMaddison - who came off the bench in England's 3-0 win over Bosnia and Herzegovina on Monday - has left… [+6342 chars]\"}, {'source': {'id': None, 'name': 'Sky Sports'}, 'author': None, 'title': \"Next Up: How Mainoo became Man Utd's main man\", 'description': '', 'url': 'https://www.skysports.com/football/story-telling/11096/13148353/next-up-how-kobbie-mainoo-became-manchester-united-s-main-man', 'urlToImage': 'https://e0.365dm.com/24/06/1600x900/skysports-kobbie-mainoo-manchester-united_6574034.png?20240605143413', 'publishedAt': '2024-06-06T07:00:00Z', 'content': \"'As a youngster, he was a centre forward'\\r\\nEntering the Manchester United academy, a famous factory of talent that produced the Busby Babes and the Class of '92, is no mean feat.\\r\\nBut of the thousand… [+1814 chars]\"}, {'source': {'id': None, 'name': 'Sky Sports'}, 'author': None, 'title': 'Salah shows off SHAVED HEAD at Egypt training!', 'description': 'Mohamed Salah trains with Egypt rocking a new trim, as he heads into his final year on his contract with Liverpool.', 'url': 'https://www.skysports.com/football/video/30998/13148614/mohamed-salah-shows-off-new-hair-in-egypt-training-session', 'urlToImage': 'https://e0.365dm.com/24/06/1600x900/skysports-mohamed-salah-egypt_6574435.jpg?20240606080900', 'publishedAt': '2024-06-06T06:54:00Z', 'content': 'Thursday 6 June 2024 08:17, UK'}, {'source': {'id': None, 'name': 'Sky Sports'}, 'author': 'James Savundra', 'title': 'VAR vote looms for Premier League clubs - should it stay or go?', 'description': 'The future of VAR is on the agenda as Premier League clubs meet for their Annual General Meeting (AGM) on Thursday morning.', 'url': 'https://www.skysports.com/football/news/11095/13148510/var-premier-league-clubs-to-vote-on-whether-to-keep-or-scrap-video-assistant-referee-in-thursday-s-annual-general-meeting', 'urlToImage': 'https://e0.365dm.com/24/02/1600x900/skysports-chris-kavanagh-liverpool_6469130.jpg?20240225172052', 'publishedAt': '2024-06-06T06:00:00Z', 'content': 'The future of VAR is on the agenda as Premier League clubs meet for their Annual General Meeting (AGM) on Thursday morning.\\r\\nAll 20 top-flight clubs will meet to decide whether to abolish VAR after W… [+4950 chars]'}, {'source': {'id': None, 'name': 'Sky Sports'}, 'author': None, 'title': 'Maddison left out of final England squad for Euro 2024', 'description': \"James Maddison has been left out of England's 26-player squad for Euro 2024 and has departed the Three Lions camp.\", 'url': 'https://www.skysports.com/football/news/12016/13148540/james-maddison-tottenham-midfielder-left-out-of-england-s-final-26-player-euro-2024-squad', 'urlToImage': 'https://e0.365dm.com/24/06/1600x900/skysports-james-maddison-england_6572627.jpg?20240603214804', 'publishedAt': '2024-06-05T21:35:00Z', 'content': \"James Maddison has been left out of England's 26-player squad for Euro 2024 and has departed the Three Lions camp.\\r\\nThe Tottenham midfielder is the first name from Gareth Southgate's 33-player provis… [+2414 chars]\"}, {'source': {'id': None, 'name': 'Sky Sports'}, 'author': 'Anton Toloui', 'title': \"Barcelona's Caldentey agrees to join Arsenal\", 'description': 'Barcelona attacker Mariona Caldentey has agreed to join Arsenal when her contract at the Spanish club expires at the end of June.', 'url': 'https://www.skysports.com/football/news/11095/13148470/mariona-caldentey-barcelona-forward-agrees-to-join-arsenal-as-gunners-seek-vivianne-miedema-replacement', 'urlToImage': 'https://e0.365dm.com/24/06/1600x900/skysports-barcelona-caldentey_6574248.jpg?20240605185707', 'publishedAt': '2024-06-05T17:50:00Z', 'content': 'Barcelona attacker Mariona Caldentey has agreed to join Arsenal when her current contract expires at the end of June.\\r\\nThe forward announced her Barcelona departure after a decade at the club on Wedn… [+2294 chars]'}, {'source': {'id': None, 'name': 'Sky Sports'}, 'author': None, 'title': \"What if Man City win Premier League dispute? 'A huge impact!'\", 'description': \"Sky Sports News' Geraint Hughes explains why Manchester City have taken the decision to sue the Premier League over their financial rules.\", 'url': 'https://www.skysports.com/football/video/30998/13148442/explained-why-are-manchester-city-suing-the-premier-league', 'urlToImage': 'https://e0.365dm.com/24/06/1600x900/skysports-football-pl-city_6574197.jpg?20240605173502', 'publishedAt': '2024-06-05T16:29:00Z', 'content': 'Wednesday 5 June 2024 17:50, UK'}, {'source': {'id': None, 'name': 'Sky Sports'}, 'author': None, 'title': 'Hibernian offer Gray head coach role', 'description': 'Hibernian are close to appointing caretaker manager David Gray as the club’s new permanent head coach.', 'url': 'https://www.skysports.com/football/news/11792/13148429/hibernian-david-gray-offered-head-coach-job-after-fourth-caretaker-spell', 'urlToImage': 'https://e0.365dm.com/24/06/1600x900/skysports-gray-hibs-hibernian_6574175.jpg?20240605171550', 'publishedAt': '2024-06-05T16:00:00Z', 'content': 'Hibernian are close to appointing caretaker manager David Gray as the clubs new permanent head coach.\\r\\nThe 36-year-old - in his fourth stint as temporary boss - replaced Nick Montgomery who was sacke… [+2791 chars]'}, {'source': {'id': None, 'name': 'Sky Sports'}, 'author': None, 'title': 'Man City legal action Q&A: How will hearing work? What are the implications?', 'description': 'With Manchester City taking legal action against the Premier League, <em>Sky Sports</em> aims to answer the key questions following the unprecedented move.', 'url': 'https://www.skysports.com/football/news/11679/13148178/manchester-city-legal-action-q-and-a-what-are-apt-rules-how-will-hearing-work-what-are-the-implications', 'urlToImage': 'https://e0.365dm.com/24/06/1600x900/skysports-premier-league-psr_6573747.jpg?20240605105026', 'publishedAt': '2024-06-05T14:30:00Z', 'content': \"With Manchester City taking legal action against the Premier League, Sky Sports aims to answer the key questions following the unprecedented move.\\r\\nCity are attempting to end the Premier League's Ass… [+9659 chars]\"}, {'source': {'id': None, 'name': 'Sky Sports'}, 'author': None, 'title': 'Troy Townsend to leave Kick It Out', 'description': 'Troy Townsend will leave Kick It Out at the end of the month, the anti-discrimination charity has announced.', 'url': 'https://www.skysports.com/football/news/11095/13148356/troy-townsend-to-leave-kick-it-out-after-13-years', 'urlToImage': 'https://e0.365dm.com/24/06/1600x900/skysports-troy-townsend-kick-it-out_6574038.jpg?20240605144626', 'publishedAt': '2024-06-05T13:41:00Z', 'content': 'Troy Townsend will leave Kick It Out at the end of the month, the anti-discrimination charity has announced.\\r\\nTownsend has worked for Kick It Out for almost 13 years, starting out as a volunteer and … [+1456 chars]'}, {'source': {'id': None, 'name': 'Sky Sports'}, 'author': None, 'title': \"Why have Man City taken legal action against Premier League's financial rules?\", 'description': 'Football finance expert Kieran Maguire outlines why Manchester City have opted to launch legal action against the Premier League over their financial rules.', 'url': 'https://www.skysports.com/football/video/30998/13148351/why-have-manchester-city-taken-legal-action-against-premier-league-s-financial-rules', 'urlToImage': 'https://e0.365dm.com/24/06/1600x900/skysports-football-pl-city_6574033.jpg?20240605143110', 'publishedAt': '2024-06-05T13:24:00Z', 'content': 'Wednesday 5 June 2024 14:52, UK'}, {'source': {'id': None, 'name': 'Sky Sports'}, 'author': None, 'title': 'Explained: What is arbitration and why are Man City going down that route', 'description': \"Sky Sports News' Geraint Hughes explains why Manchester City have opted to launch legal action against the Premier League over their financial rules.\", 'url': 'https://www.skysports.com/football/video/30998/13148316/explained-why-manchester-city-have-taken-legal-action-over-financial-rules', 'urlToImage': 'https://e0.365dm.com/24/06/1600x900/skysports-football-pl-city_6573982.jpg?20240605134647', 'publishedAt': '2024-06-05T12:38:00Z', 'content': 'Wednesday 5 June 2024 14:42, UK'}, {'source': {'id': None, 'name': 'Sky Sports'}, 'author': None, 'title': \"'Frustrated' Man City chairman calls for ‘more sensibility in regulating’\", 'description': 'Manchester City chairman Khaldoon Al Mubarak has urged the game’s administrators to show “more sensibility” in how they regulate football finances.', 'url': 'https://www.skysports.com/football/news/11095/13148275/frustrated-man-city-chairman-khaldoon-al-mubarak-calls-for-more-sensibility-in-regulating', 'urlToImage': 'https://e0.365dm.com/24/06/1600x900/8c0bf51f3ef5976fbc97f069e4be2b6808479d36372409c130b3a1de8b15a1d4_6573904.jpg?20240605123053', 'publishedAt': '2024-06-05T11:03:00Z', 'content': 'Manchester City chairman Khaldoon Al Mubarak has urged the games administrators to show more sensibility in how they regulate football finances.\\r\\nKhaldoon made the remarks in an in-house interview re… [+7782 chars]'}, {'source': {'id': None, 'name': 'Sky Sports'}, 'author': None, 'title': \"'Football has a blind spot when it comes to Islamophobia'\", 'description': 'The first Muslim member of the FA Council has told Sky Sports News that \"football has a blind spot when it comes to Islamophobia\" amid a four-fold increase in the number of incidents reported to Kick It Out in the first half of last season.', 'url': 'https://www.skysports.com/football/news/11095/13147737/football-has-a-blind-spot-when-it-comes-to-islamophobia-says-first-muslim-fa-council-member-yunus-lunat', 'urlToImage': 'https://e0.365dm.com/23/06/1600x900/skysports-wembley-stadium-football_6185097.jpg?20230612135725', 'publishedAt': '2024-06-05T11:00:00Z', 'content': 'The first Muslim member of the FA Council has told Sky Sports News that \"football has a blind spot when it comes to Islamophobia\" amid a four-fold increase in the number of incidents reported to Kick… [+7505 chars]'}, {'source': {'id': None, 'name': 'Sky Sports'}, 'author': None, 'title': 'De Bruyne refuses to rule out Saudi move', 'description': 'Manchester City midfielder Kevin De Bruyne would consider a move to Saudi Arabia once he has called time on his Premier League career.', 'url': 'https://www.skysports.com/football/news/11679/13148227/man-city-transfer-news-kevin-de-bruyne-refuses-to-rule-out-saudi-arabia-move', 'urlToImage': 'https://e0.365dm.com/24/04/1600x900/skysports-champions-league_6524821.jpg?20240417214028', 'publishedAt': '2024-06-05T09:53:00Z', 'content': 'Manchester City midfielder Kevin De Bruyne would consider a move to Saudi Arabia once he has called time on his Premier League career.\\r\\nThe Belgium international was speaking in his native country to… [+3319 chars]'}, {'source': {'id': None, 'name': 'Sky Sports'}, 'author': None, 'title': 'Napoli appoint Conte as head coach', 'description': 'Napoli have appointed Antonio Conte as their new head coach.', 'url': 'https://www.skysports.com/football/news/11095/13148146/antonio-conte-napolo-appoint-former-chelsea-and-tottenham-boss-as-head-coach', 'urlToImage': 'https://e0.365dm.com/24/06/1600x900/skysports-conte-antonio_6573638.jpg?20240605092208', 'publishedAt': '2024-06-05T09:51:00Z', 'content': 'Napoli have appointed Antonio Conte as their new head coach.\\r\\nConte, who has been available since leaving Tottenham in March 2023, has signed a three-year contract.\\r\\nThe former Chelsea boss said: \"Na… [+2046 chars]'}, {'source': {'id': None, 'name': 'Sky Sports'}, 'author': 'Adam Bate', 'title': 'If Southgate overlooks Grealish it would be a big mistake', 'description': 'Jack Grealish’s cameo against Bosnia and Herzegovina was a welcome reminder of what he can bring to this England team. His substitute appearance was brief but he was still able to fashion perhaps the clearest three openings of the match.', 'url': 'https://www.skysports.com/football/news/12037/13148141/jack-grealish-must-be-in-england-squad-man-city-winger-can-still-play-big-euro-2024-role', 'urlToImage': 'https://e0.365dm.com/24/06/1600x900/skysports-jack-grealish-england_6573587.jpg?20240605083010', 'publishedAt': '2024-06-05T07:18:00Z', 'content': 'Jack Grealishs cameo against Bosnia and Herzegovina was a welcome reminder of what he can bring to this England team. His substitute appearance was brief but he was still able to fashion perhaps the … [+5232 chars]'}, {'source': {'id': None, 'name': 'Sky Sports'}, 'author': None, 'title': \"'City's legal challenge is seismic - future of Premier League is at risk'\", 'description': \"Manchester City's legal claim against the Premier League, first revealed in The Times, has made headlines up and down the country in Wednesday's newspapers.\", 'url': 'https://www.skysports.com/football/news/11096/13148037/how-the-national-newspapers-and-journalists-reacted-to-man-city-s-legal-challenge-against-the-premier-league', 'urlToImage': 'https://e0.365dm.com/24/05/1600x900/skysports-pep-guardiola-man-city_6561512.jpg?20240521084250', 'publishedAt': '2024-06-05T07:00:00Z', 'content': \"Manchester City's legal claim against the Premier League, first revealed in The Times, has made headlines up and down the country in Wednesday's newspapers.\\r\\nThe Times reports City are attempting to … [+6040 chars]\"}, {'source': {'id': None, 'name': 'Sky Sports'}, 'author': None, 'title': \"Parrott nets late winner as O'Shea's Republic of Ireland see off Hungary\", 'description': \"Substitute Troy Parrott strengthened John O'Shea's claims on the vacant manager's job as he fired the Republic of Ireland to victory over Euro 2024-bound Hungary.\", 'url': 'https://www.skysports.com/football/news/11095/13148056/republic-of-ireland-2-1-hungary-troy-parrott-goal-for-john-o-shea-s-side-ends-visitors-14-game-unbeaten-run', 'urlToImage': 'https://e0.365dm.com/24/06/1600x900/skysports-troy-parrott-republic-of-ireland_6573498.jpg?20240604225542', 'publishedAt': '2024-06-04T21:44:00Z', 'content': \"Substitute Troy Parrott strengthened John O'Shea's claims on the vacant manager's job as he fired the Republic of Ireland to victory over Euro 2024-bound Hungary.\\r\\nThe 22-year-old Tottenham striker, … [+3362 chars]\"}, {'source': {'id': None, 'name': 'Sky Sports'}, 'author': None, 'title': 'Papers: Arsenal, AC Milan and Spurs want Girona winger', 'description': \"The top stories and transfer rumours from Wednesday's newspapers...\", 'url': 'https://www.skysports.com/football/transfer-paper-talk/12709/13148053/arsenal-approach-girona-over-viktor-tsyhankov-with-ac-milan-and-tottenham-also-chasing-winger-paper-talk', 'urlToImage': 'https://e0.365dm.com/19/10/1600x900/skysports-paper-talk-papers_4819668.jpg?20200516213727', 'publishedAt': '2024-06-04T21:30:00Z', 'content': \"The top stories and transfer rumours from Wednesday's newspapers...\\r\\nDAILY MAIL \\r\\nArsenal have made an approach for Girona winger Viktor Tsyhankov, with AC Milan and Tottenham also interested.\\r\\nPSG a… [+1542 chars]\"}, {'source': {'id': None, 'name': 'Sky Sports'}, 'author': None, 'title': 'Papers: Chelsea, Villa and Newcastle side with Man City in legal dispute', 'description': \"The top stories and transfer rumours from Thursday's newspapers...\", 'url': 'https://www.skysports.com/football/news/11095/13148530/chelsea-aston-villa-and-newcastle-all-believe-man-city-have-valid-concerns-in-premier-league-dispute-paper-talk', 'urlToImage': 'https://e0.365dm.com/19/10/1600x900/skysports-paper-talk-papers_4819668.jpg?20200516213727', 'publishedAt': '2024-06-04T21:30:00Z', 'content': \"The top stories and transfer rumours from Thursday's newspapers...\\r\\nDAILY MAIL\\r\\nChelsea, Aston Villa and Newcastle all believe Manchester City have valid concerns in their dispute against the Premier… [+4736 chars]\"}, {'source': {'id': None, 'name': 'Sky Sports'}, 'author': None, 'title': 'England boost Euro 2025 qualification hopes with France win', 'description': 'England boosted their hopes of automatic qualification for Euro 2025 with a 2-1 victory over France in Saint-Etienne.', 'url': 'https://www.skysports.com/football/news/11095/13147376/france-women-1-2-england-women-sarina-wiegman-s-side-boost-automatic-qualification-hopes-for-euro-2025', 'urlToImage': 'https://e0.365dm.com/24/06/1600x900/skysports-alessia-russo-lucy-bronze_6573414.jpg?20240604205229', 'publishedAt': '2024-06-04T20:45:00Z', 'content': \"England boosted their hopes of automatic qualification for Euro 2025 with a 2-1 victory over France in Saint-Etienne.\\r\\nSarina Wiegman's side dropped out of the automatic qualification spots in their … [+2081 chars]\"}, {'source': {'id': None, 'name': 'Sky Sports'}, 'author': None, 'title': \"The Sesko goals that caught Arsenal's eye? Watch his Bundesliga strikes!\", 'description': 'Watch all of Benjamin Sesko goals for RB Leipzig in the Bundesliga this season to see why Arsenal are interested in signing the forward.', 'url': 'https://www.skysports.com/football/video/37483/13147946/why-are-arsenal-interested-in-rb-leipzig-s-benjamin-sesko', 'urlToImage': 'https://e0.365dm.com/24/06/1600x900/skysports-sesko-bundesliga_6573315.jpg?20240604183529', 'publishedAt': '2024-06-04T17:30:00Z', 'content': 'Tuesday 4 June 2024 18:49, UK'}, {'source': {'id': None, 'name': 'Sky Sports'}, 'author': 'Sam Blitz', 'title': \"Mbappe: I thought I'd never play for PSG this year\", 'description': 'Kylian Mbappe was convinced he was never going to play for PSG this season because of how \"violently\" they spoke to him, but admitted he was never unhappy at the French club despite leaving them for Real Madrid this week.', 'url': 'https://www.skysports.com/football/news/11095/13147936/kylian-mbappe-real-madrid-and-france-forward-thought-he-would-never-play-for-psg-this-season', 'urlToImage': 'https://e0.365dm.com/24/06/1600x900/skysports-mbappe-psg_6573307.jpg?20240604182011', 'publishedAt': '2024-06-04T17:14:00Z', 'content': 'Kylian Mbappe was convinced he was never going to play for PSG this season because of how \"violently\" they spoke to him, but admitted he was never unhappy at the French club despite leaving them for … [+4772 chars]'}, {'source': {'id': None, 'name': 'Sky Sports'}, 'author': None, 'title': \"Women's Euro Qualifiers: Four-goal Thomas leads Scotland to win over Israel\", 'description': \"Martha Thomas scored four goals as Scotland defeated Israel 5-0 in Budapest to remain unbeaten top of Women's Euro 2025 qualifying Group B2 - a result which guarantees them a play-off place.\", 'url': 'https://www.skysports.com/football/news/11095/13147902/israel-women-0-5-scotland-women-martha-thomas-leads-euro-2025-qualifier-win-to-book-play-off-spot', 'urlToImage': 'https://e0.365dm.com/24/06/1600x900/skysports-scotland-martha-thomas_6573255.jpg?20240604172556', 'publishedAt': '2024-06-04T16:16:00Z', 'content': \"Martha Thomas scored four goals as Scotland defeated Israel 5-0 in Budapest to remain unbeaten top of Women's Euro 2025 qualifying Group B2 - a result which guarantees them a play-off place.\\r\\nIt was … [+2037 chars]\"}, {'source': {'id': None, 'name': 'Sky Sports'}, 'author': 'Rob Dorsett', 'title': \"Transfer market will be 'like Wild West' if Man City win legal battle\", 'description': 'The majority of Premier League clubs support the current Associated Party Transaction (APT) rules and feel if they were to be scrapped, it would be “like the Wild West”, Sky Sports News understands.', 'url': 'https://www.skysports.com/football/news/11095/13148328/majority-of-premier-league-clubs-support-league-s-financial-rules-amid-man-city-legal-challenge', 'urlToImage': 'https://e0.365dm.com/23/02/1600x900/skysports-premier-league-manchester-city_6052914.jpg?20230210144751', 'publishedAt': '2024-06-04T15:22:00Z', 'content': 'The majority of Premier League clubs support the current Associated Party Transaction (APT) rules and feel if they were to be scrapped, it would be like the Wild West, Sky Sports News understands.\\r\\nM… [+7946 chars]'}, {'source': {'id': None, 'name': 'Sky Sports'}, 'author': None, 'title': \"Man City 'launch legal action' against Premier League over financial rules\", 'description': 'Manchester City are taking legal action against the Premier League, The Times has exclusively revealed.', 'url': 'https://www.skysports.com/football/news/11679/13147867/man-city-launch-legal-action-against-premier-league-over-financial-rules-ahead-of-their-own-115-charge-hearing', 'urlToImage': 'https://e0.365dm.com/22/10/1600x900/skysports-breaking-news-story_5927130.jpg?20221010162109', 'publishedAt': '2024-06-04T15:22:00Z', 'content': \"Manchester City are taking legal action against the Premier League, The Times has exclusively revealed.\\r\\nThe newspaper reports that City are attempting to end the Premier League's Associated Party Tr… [+1686 chars]\"}, {'source': {'id': None, 'name': 'Sky Sports'}, 'author': None, 'title': \"England's final Euro 2024 squad: When does Southgate pick his 26?\", 'description': \"Gareth Southgate has just one more warm-up game before having to decide on his 26-man squad for this summer's European championship in Germany - so when exactly does the England manager have to name his final squad by?\", 'url': 'https://www.skysports.com/football/news/19598/13147822/england-s-final-euro-2024-squad-when-does-gareth-southgate-pick-his-26-players-for-germany', 'urlToImage': 'https://e0.365dm.com/24/03/1600x900/skysports-football-england_6496616.jpg?20240321102704', 'publishedAt': '2024-06-04T14:24:00Z', 'content': \"Gareth Southgate has just one more warm-up game before having to decide on his 26-man squad for this summer's European championship in Germany - so when exactly does the England manager have to name … [+11982 chars]\"}, {'source': {'id': None, 'name': 'Sky Sports'}, 'author': 'Sahil Jaidka', 'title': 'What decisions face Clarke as final Scotland squad deadline looms?', 'description': 'There is just one warm-up match to go before the Scotland squad fly out to Germany for Euro 2024 - but who will be on that plane?', 'url': 'https://www.skysports.com/football/news/12017/13147710/scotland-what-decisions-face-steve-clarke-in-final-euro-2024-squad-selection', 'urlToImage': 'https://e0.365dm.com/24/06/1600x900/skysports-scotland-liam-kelly_6572966.jpg?20240604130803', 'publishedAt': '2024-06-04T12:21:00Z', 'content': 'There is just one warm-up match to go before the Scotland squad fly out to Germany for Euro 2024 - but who will be on that plane?\\r\\nAfter naming a provisional squad of 28, Steve Clarke must trim that … [+7507 chars]'}, {'source': {'id': None, 'name': 'Sky Sports'}, 'author': 'Rob Dorsett', 'title': \"England's Euro 2024 squad: Who's on the plane & who misses out?\", 'description': 'Gareth Southgate must name his final 26-man England squad for the European Championship by\\xa011pm Friday - Sky Sports News Senior Reporter Rob Dorsett assesses\\xa0who is definitely going to Germany, which players are\\xa0unlikely to make it and who is sweating on thei…', 'url': 'https://www.skysports.com/football/news/11095/13147754/england-s-euro-2024-squad-who-will-gareth-southgate-take-to-germany-and-who-is-sweating-on-their-place', 'urlToImage': 'https://e0.365dm.com/24/06/1600x900/skysports-football-england_6572998.jpg?20240604133142', 'publishedAt': '2024-06-04T12:06:00Z', 'content': 'Gareth Southgate must name his final 26-man England squad for the European Championship by\\xa011pm Friday - Sky Sports News Senior Reporter Rob Dorsett assesses\\xa0who is definitely going to Germany, which… [+11583 chars]'}, {'source': {'id': None, 'name': 'Sky Sports'}, 'author': None, 'title': 'Euro 2024 news: Players to watch & all you need to know in one place', 'description': 'Follow all the latest news ahead of the European Championship finals in Germany, which take place from 14 June to 14 July 2024.', 'url': 'https://www.skysports.com/football/live-blog/11095/13147693/euro-2024-news-live-updates-today-s-latest-predictions-groups-and-dates-for-european-championship', 'urlToImage': 'https://e0.365dm.com/24/02/1600x900/skysports-euro-2024-trophy_6454911.jpg?20240213231755', 'publishedAt': '2024-06-04T09:48:00Z', 'content': 'Sorry, this blog is currently unavailable. Please try again later.\\r\\nBack to Home'}, {'source': {'id': None, 'name': 'Sky Sports'}, 'author': None, 'title': 'Who wins Euro 2024: England are favourites - is this their time?', 'description': \"Euro 2024 is around the corner, but who will win the tournament? Sky Sports football writers and Sky Bet's traders give their verdicts...\", 'url': 'https://www.skysports.com/football/news/12010/13143879/who-wins-euro-2024-sky-sports-football-writers-and-sky-bet-traders-give-their-verdicts', 'urlToImage': 'https://e0.365dm.com/24/05/1600x900/skysports-euro-2024-football_6566949.jpg?20240527104013', 'publishedAt': '2024-06-04T09:00:00Z', 'content': \"Euro 2024 is around the corner, but who will win the tournament? Sky Sports football writers and Sky Bet's traders give their verdicts...\\r\\n<ul><li>England - 3/1</li><li>France - 4/1</li><li>Germany -… [+18131 chars]\"}, {'source': {'id': None, 'name': 'Sky Sports'}, 'author': None, 'title': 'The Verdict: Who staked claim for place in England Euros squad?', 'description': \"Sky Sports News' Rob Dorsett assesses the performances of the fringe players bidding for a spot in Gareth Southgate's Euros squad.\", 'url': 'https://www.skysports.com/football/video/11095/13147560/who-staked-claim-for-place-in-england-euros-squad', 'urlToImage': 'https://e0.365dm.com/24/06/1600x900/skysports-the-verdict-england-football_6572643.jpg?20240603222738', 'publishedAt': '2024-06-03T21:53:00Z', 'content': 'Monday 3 June 2024 23:08, UK'}, {'source': {'id': None, 'name': 'Sky Sports'}, 'author': None, 'title': 'Papers: Napoli eye two Arsenal players in potential Osimhen swap deal', 'description': \"The top stories and transfer rumours from Tuesday's newspapers...\", 'url': 'https://www.skysports.com/football/transfer-paper-talk/12709/13147529/napoli-eye-two-arsenal-players-in-potential-victor-osimhen-swap-deal-paper-talk', 'urlToImage': 'https://e0.365dm.com/19/10/1600x900/skysports-paper-talk-papers_4819668.jpg?20200516213727', 'publishedAt': '2024-06-03T21:30:00Z', 'content': \"The top stories and transfer rumours from Tuesday's newspapers...\\r\\nDAILY MAIL\\r\\nNapoli have picked out two Arsenal players - Takehiro Tomiyasu and Emile Smith Rowe - they would be willing to include i… [+2199 chars]\"}, {'source': {'id': None, 'name': 'Sky Sports'}, 'author': 'Ron Walker', 'title': 'England cruise to Bosnia win in first Euro 2024 warm-up', 'description': \"A much-improved second-half performance saw England cruise to a 3-0 win over Bosnia and Herzegovina in their first Euro 2024 warm-up game at St James' Park.\", 'url': 'https://www.skysports.com/football/news/11095/13146895/england-3-0-bosnia-and-herzegovina-cole-palmer-trent-alexander-arnold-and-harry-kane-on-target-at-st-james-park', 'urlToImage': 'https://e0.365dm.com/24/06/1600x900/skysports-trent-alexander-arnold_6572620.jpg?20240603213910', 'publishedAt': '2024-06-03T20:45:00Z', 'content': \"A much-improved second-half performance saw England cruise to a 3-0 win over Bosnia and Herzegovina in their first Euro 2024 warm-up game at St James' Park.\\r\\nAn England line-up that was likely much d… [+1385 chars]\"}, {'source': {'id': None, 'name': 'Sky Sports'}, 'author': 'Ben Grounds', 'title': 'England player ratings: Eze, Palmer strengthen claims as secret weapons', 'description': \"England kicked off their European Championship preparation with a 3-0 victory over Bosnia and Herzegovina at St James' Park thanks to goals from Cole Palmer, Trent Alexander-Arnold and captain Harry Kane.\", 'url': 'https://www.skysports.com/football/news/12016/13147463/england-3-0-bosnia-and-herzegovina-player-ratings-eberechi-eze-and-cole-palmer-strengthen-claims-for-euro-2024-inclusion', 'urlToImage': 'https://e0.365dm.com/24/06/1600x900/skysports-eze-england-euro-2024_6572543.jpg?20240603200758', 'publishedAt': '2024-06-03T20:45:00Z', 'content': \"England kicked off their European Championship preparation with a 3-0 victory over Bosnia and Herzegovina at St James' Park thanks to goals from Cole Palmer, Trent Alexander-Arnold and captain Harry … [+7360 chars]\"}, {'source': {'id': None, 'name': 'Sky Sports'}, 'author': 'Ben Grounds', 'title': 'England player ratings: Eze, Palmer strengthen claims as secret weapons', 'description': \"England kicked off their European Championship preparation with a 3-0 victory over Bosnia and Herzegovina at St James' Park thanks to goals from Cole Palmer, Trent Alexander-Arnold and captain Harry Kane.\", 'url': 'https://www.skysports.com/football/news/12016/13147463/england-3-0-bosnia-player-ratings-ebere-eze-emerging-as-secret-weapon-cole-palmer-makes-case-for-euro-2024-start', 'urlToImage': 'https://e0.365dm.com/24/06/1600x900/skysports-eze-england-euro-2024_6572543.jpg?20240603200758', 'publishedAt': '2024-06-03T20:45:00Z', 'content': \"England kicked off their European Championship preparation with a 3-0 victory over Bosnia and Herzegovina at St James' Park thanks to goals from Cole Palmer, Trent Alexander-Arnold and captain Harry … [+7563 chars]\"}, {'source': {'id': None, 'name': 'Sky Sports'}, 'author': None, 'title': 'Real Madrid sign Mbappe', 'description': 'Real Madrid have announced the signing of Kylian Mbappe on a free transfer after the France captain left Paris Saint-Germain.', 'url': 'https://www.skysports.com/football/news/11835/13146778/kylian-mbappe-real-madrid-sign-france-forward-on-free-transfer-after-paris-saint-germain-contract-expiry', 'urlToImage': 'https://e0.365dm.com/24/02/1600x900/skysports-kylian-mbappe-psg_6462523.jpg?20240220164300', 'publishedAt': '2024-06-03T17:30:00Z', 'content': \"Real Madrid have announced the signing of Kylian Mbappe on a free transfer after the France captain left Paris Saint-Germain.\\r\\nThe 25-year-old, who is PSG's record goalscorer with 256 goals in 308 ap… [+4933 chars]\"}, {'source': {'id': None, 'name': 'Sky Sports'}, 'author': None, 'title': \"Man Utd latest: 'Ten Hag may be bemused at his treatment'\", 'description': \"Sky Sports News chief reporter Kaveh Solhekol explains the latest on Erik ten Hag's Manchester United future - including why the manager may be feeling 'bemused'.\", 'url': 'https://www.skysports.com/football/video/30998/13147269/manchester-united-latest-erik-ten-hag-may-be-bemused-at-his-treatment', 'urlToImage': 'https://e0.365dm.com/24/05/1600x900/skysports-ten-hag-manchester-united_6565887.jpg?20240525180856', 'publishedAt': '2024-06-03T12:17:00Z', 'content': 'Monday 3 June 2024 13:33, UK'}, {'source': {'id': None, 'name': 'Sky Sports'}, 'author': None, 'title': 'Cortes returns to Rangers for second loan from Lens', 'description': 'Oscar Cortes has rejoined Rangers for a second loan spell from Lens, with the Scottish Premiership club having an obligation to buy the winger next summer.', 'url': 'https://www.skysports.com/football/news/11788/13147160/rangers-transfers-oscar-cortes-returns-to-rangers-for-second-loan-from-lens', 'urlToImage': 'https://e0.365dm.com/24/02/1600x900/skysports-rangers-oscar-cortes_6467728.jpg?20240224155723', 'publishedAt': '2024-06-03T09:00:00Z', 'content': 'Oscar Cortes has rejoined Rangers for a second loan spell from Lens, with the Scottish Premiership club having an obligation to buy the winger next summer.\\r\\nThe 20-year-old Colombian will then sign a… [+3424 chars]'}, {'source': {'id': None, 'name': 'Sky Sports'}, 'author': 'Sam Blitz', 'title': \"How will Mbappe fit in Real Madrid's attack?\", 'description': \"Jude Bellingham slipped in Vinicius Jr to score and Real Madrid's key forward pair had done it. A Champions League trophy delivered without a recognised, world-class No 9 in the team.\", 'url': 'https://www.skysports.com/football/news/11096/13146932/kylian-mbappe-to-real-madrid-where-does-forward-fit-in-carlo-ancelotti-s-star-studded-attack', 'urlToImage': 'https://e0.365dm.com/22/05/1600x900/skysports-mbappe-psg-real-madrid_5777758.png?20220520124411', 'publishedAt': '2024-06-03T08:43:00Z', 'content': \"Jude Bellingham slipped in Vinicius Jr to score and Real Madrid's key forward pair had done it. A Champions League trophy delivered without a recognised, world-class No 9 in the team.\\r\\nAll the talk b… [+4549 chars]\"}, {'source': {'id': None, 'name': 'Sky Sports'}, 'author': None, 'title': 'Chelsea appoint Maresca as head coach', 'description': 'Chelsea have appointed Enzo Maresca as their new head coach.', 'url': 'https://www.skysports.com/football/news/11668/13143982/enzo-maresca-italian-leaves-leicester-to-replace-mauricio-pochettino-as-chelsea-head-coach', 'urlToImage': 'https://e0.365dm.com/24/05/1600x900/skysports-enzo-maresca-chelsea_6567895.jpg?20240528142254', 'publishedAt': '2024-06-03T07:00:00Z', 'content': 'Chelsea have appointed Enzo Maresca as their new head coach.\\r\\nThe 44-year-old, who succeeds Mauricio Pochettino at Stamford Bridge, moves from Leicester after leading them back to the Premier League … [+4441 chars]'}, {'source': {'id': None, 'name': 'Sky Sports'}, 'author': 'Sky News', 'title': \"Nagelsmann condemns 'racist' German TV survey\", 'description': 'Germany manager Julian Nagelsmann has condemned a survey by a public broadcaster asking fans if they would prefer more white players in the national team.', 'url': 'https://www.skysports.com/football/news/12040/13147140/germany-manager-julian-nagelsmann-condemns-survey-asking-fans-if-national-team-has-enough-white-players', 'urlToImage': 'https://e0.365dm.com/24/06/1600x900/skynews-julian-nagelsmann-germany_6571911.jpg?20240603070452', 'publishedAt': '2024-06-03T05:35:00Z', 'content': 'Germany manager Julian Nagelsmann has condemned a survey by a public broadcaster asking fans if they would prefer more white players in the national team.\\r\\nThe poll by German state broadcaster ARD fo… [+2543 chars]'}, {'source': {'id': None, 'name': 'Sky Sports'}, 'author': 'Kaveh Solhekol', 'title': 'Chelsea set to confirm Maresca appointment on Monday', 'description': 'Chelsea are set to confirm Enzo Maresca as their new head coach on Monday.', 'url': 'https://www.skysports.com/football/news/11668/13147062/chelsea-enzo-maresca-set-to-be-unveiled-on-monday-after-signing-five-year-deal-to-become-head-coach', 'urlToImage': 'https://e0.365dm.com/24/05/1600x900/skysports-enzo-maresca-chelsea_6567895.jpg?20240528142254', 'publishedAt': '2024-06-02T22:05:00Z', 'content': 'Chelsea are set to confirm Enzo Maresca as their new head coach on Monday.\\r\\nThe 44-year-old, who will succeed Mauricio Pochettino at Stamford Bridge, has agreed a five-year deal and will move from Le… [+7269 chars]'}, {'source': {'id': None, 'name': 'Sky Sports'}, 'author': None, 'title': \"Ancelotti dancing, Bellingham's celebration and Kroos honoured | Madrid parade best bits\", 'description': 'Real Madrid celebrated their Champions League win with a parade throughout the city which included Carlo Ancelotti dancing with his players, Jude Bellingham hitting his iconic celebration and Toni Kroos honoured by his teammates.', 'url': 'https://www.skysports.com/football/video/12606/13147059/carlo-ancelotti-dancing-jude-bellingham-s-celebration-and-toni-kroos-honoured-madrid-parade-best-bits', 'urlToImage': 'https://e0.365dm.com/24/06/1600x900/skysports-real-madrid-bellingham_6571878.jpg?20240602230037', 'publishedAt': '2024-06-02T21:39:00Z', 'content': 'Sunday 2 June 2024 23:00, UK'}, {'source': {'id': None, 'name': 'Sky Sports'}, 'author': None, 'title': \"Clarke considering Scotland options after losing 'pivotal' Dykes\", 'description': 'Scotland manager Steve Clarke is considering \"all options\" after losing \"pivotal\" striker Lyndon Dykes to injury.', 'url': 'https://www.skysports.com/football/news/12017/13147036/scotland-euro-2024-squad-steve-clarke-considering-options-after-injury-to-striker-lyndon-dykes', 'urlToImage': 'https://e0.365dm.com/24/06/1600x900/skysports-lyndon-dykes-scotland_6571824.jpg?20240602204713', 'publishedAt': '2024-06-02T20:00:00Z', 'content': 'Scotland manager Steve Clarke is considering \"all options\" after losing \"pivotal\" striker Lyndon Dykes to injury. \\r\\nDykes was carried off on a stretcher during training on Friday and has since been r… [+6243 chars]'}, {'source': {'id': None, 'name': 'Sky Sports'}, 'author': None, 'title': \"Mourinho receives heroes' welcome at Fenerbahce | 'Thank you for your love!'\", 'description': \"Jose Mourinho received a heroes' welcome from Fenerbahce fans as he was unveiled as new head coach of the Turkish club.\", 'url': 'https://www.skysports.com/football/video/12606/13146972/jose-mourinho-receives-heroes-welcome-at-fenerbahce-thank-you-for-your-love', 'urlToImage': 'https://e0.365dm.com/24/06/1600x900/skysports-mourinho-fenerbahce_6571737.jpg?20240602181436', 'publishedAt': '2024-06-02T16:55:00Z', 'content': 'Sunday 2 June 2024 18:14, UK'}, {'source': {'id': None, 'name': 'Sky Sports'}, 'author': None, 'title': 'Real Madrid to announce Mbappe this week as he receives £85m bonus', 'description': 'Kylian Mbappe is expected to be announced by Real Madrid this week and receive a signing-on bonus of just over £85m (€100m).', 'url': 'https://www.skysports.com/football/news/11095/13146934/kylian-mbappe-to-real-madrid-french-forward-to-be-announced-this-week-and-receive-gbp85m-bonus-after-leaving-psg', 'urlToImage': 'https://e0.365dm.com/24/02/1600x900/skysports-kylian-mbappe-psg_6462523.jpg?20240220164300', 'publishedAt': '2024-06-02T16:30:00Z', 'content': 'Kylian Mbappe is expected to be announced by Real Madrid this week and receive a signing-on bonus of just over £85m (100m).\\r\\nThe 25-year-old, who scored 256 goals in 308 appearances for PSG, is set t… [+3827 chars]'}, {'source': {'id': None, 'name': 'Sky Sports'}, 'author': None, 'title': 'Real Madrid to announce Mbappe as he receives £85m bonus', 'description': 'Kylian Mbappe is expected to be announced by Real Madrid soon and will receive a signing-on bonus of just over £85m (€100m).', 'url': 'https://www.skysports.com/football/news/11095/13146934/kylian-mbappe-to-real-madrid-french-forward-to-be-announced-and-will-receive-gbp85m-bonus-after-leaving-psg', 'urlToImage': 'https://e0.365dm.com/24/02/1600x900/skysports-kylian-mbappe-psg_6462523.jpg?20240220164300', 'publishedAt': '2024-06-02T16:30:00Z', 'content': 'Kylian Mbappe is expected to be announced by Real Madrid and will receive a signing-on bonus of just over £85m (100m).\\r\\nThe 25-year-old, who scored 256 goals in 308 appearances for PSG, is set to sig… [+3822 chars]'}, {'source': {'id': None, 'name': 'Sky Sports'}, 'author': None, 'title': 'Mourinho unveiled as Fenerbahce coach', 'description': 'Jose Mourinho has signed to become new coach of Turkish side Fenerbahce in front of thousands of ecstatic fans.', 'url': 'https://www.skysports.com/football/news/11095/13145939/jose-mourinho-fenerbahce-appoint-former-manchester-united-and-chelsea-boss-as-coach', 'urlToImage': 'https://e0.365dm.com/24/06/1600x900/skysports-jose-mourinho-fenerbahce_6571722.jpg?20240602174853', 'publishedAt': '2024-06-02T16:15:00Z', 'content': 'Jose Mourinho has been unveiled the new coach at Fenerbahce in front of thousands of ecstatic supporters.\\r\\nThe former Manchester United, Tottenham and Chelsea boss signed his contract at the Sukru Sa… [+2941 chars]'}, {'source': {'id': None, 'name': 'Sky Sports'}, 'author': None, 'title': 'Saka, Stones to miss England friendly as Trippier named captain', 'description': \"Bukayo Saka and John Stones are set to miss England's friendly with Bosnia and Herzegovina on Monday, with Kieran Trippier to captain the Three Lions.\", 'url': 'https://www.skysports.com/football/news/11095/13146910/england-vs-bosnia-bukayo-saka-john-stones-to-miss-out-on-friendly-as-kieran-trippier-named-captain', 'urlToImage': 'https://e0.365dm.com/24/06/1600x900/skysports-gareth-southgate_6571669.jpg?20240602163854', 'publishedAt': '2024-06-02T16:00:00Z', 'content': \"Bukayo Saka and John Stones are set to miss England's friendly Bosnia and Herzegovina on Monday, with Kieran Trippier to captain the Three Lions.\\r\\nHarry Maguire, Luke Shaw and Anthony Gordon will als… [+6043 chars]\"}, {'source': {'id': None, 'name': 'Sky Sports'}, 'author': None, 'title': 'Mourinho greeted by ecstatic Fenerbahce fans as he lands in Istanbul!', 'description': \"Jose Mourinho has arrived in Istanbul ahead of the Portuguese's unveiling as the new Fenerbahce manager at 5pm on Sunday...\", 'url': 'https://www.skysports.com/football/video/12606/13146876/jose-mourinho-greeted-by-ecstatic-fenerbahce-fans-as-he-lands-in-istanbul', 'urlToImage': 'https://e0.365dm.com/24/06/1600x900/skysports-football-jose-mourinho_6571629.jpg?20240602153720', 'publishedAt': '2024-06-02T14:14:00Z', 'content': 'Sunday 2 June 2024 17:49, UK'}, {'source': {'id': None, 'name': 'Sky Sports'}, 'author': 'AP', 'title': 'Hayes makes successful US debut with resounding South Korea win', 'description': \"Emma Hayes made a successful debut as the US women's national team head coach as Mallory Swanson and Tierna Davidson both scored twice in a 4-0 friendly win over South Korea at DSG Park in Denver on Saturday.\", 'url': 'https://www.skysports.com/football/news/28508/13146734/united-states-4-0-korea-republic-emma-hayes-makes-successful-uswnt-debut-with-resounding-win', 'urlToImage': 'https://e0.365dm.com/24/06/1600x900/skysports-emma-hayes_6571427.jpg?20240602090419', 'publishedAt': '2024-06-02T08:15:00Z', 'content': \"Emma Hayes made a successful debut as the US women's national team head coach as Mallory Swanson and Tierna Davidson both scored twice in a 4-0 friendly win over South Korea at DSG Park in Denver on … [+1886 chars]\"}, {'source': {'id': None, 'name': 'Sky Sports'}, 'author': None, 'title': 'Real Madrid crowned European champions for 15th time!', 'description': \"Sky Sports' Gail Davis and Kaveh Solhekol discuss Real Madrid's stunning performance as they become European champions for the 15th time.\", 'url': 'https://www.skysports.com/football/video/12606/13146723/borussia-dortmund-fail-to-take-chances-as-real-madrid-s-class-prevailed', 'urlToImage': 'https://e0.365dm.com/24/06/1600x900/skysports-champions-league_6571410.jpg?20240602080224', 'publishedAt': '2024-06-02T06:57:00Z', 'content': 'Sunday 2 June 2024 08:21, UK'}, {'source': {'id': None, 'name': 'Sky Sports'}, 'author': None, 'title': 'Bellingham on CL win: The best night of my life', 'description': 'Jude Bellingham hailed Real Madrid\\'s Champions League final win as the \"best night of my life\" after the Spanish giants beat Borussia Dortmund.', 'url': 'https://www.skysports.com/football/news/11095/13146677/jude-bellingham-on-champions-league-win-the-best-night-of-my-life', 'urlToImage': 'https://e0.365dm.com/24/06/1600x900/skysports-jude-bellingham-real-madrid_6571360.jpg?20240602001532', 'publishedAt': '2024-06-01T22:49:00Z', 'content': 'Jude Bellingham hailed Real Madrid\\'s Champions League final win as the \"best night of my life\" after the Spanish giants beat Borussia Dortmund.\\r\\nThe 20-year-old has been a revelation in his first sea… [+5093 chars]'}, {'source': {'id': None, 'name': 'Sky Sports'}, 'author': 'Adam Bate', 'title': \"Real Madrid's legend grows after trademark win\", 'description': 'Borussia Dortmund will be wondering how it happened but they need only ask Bayern Munich. Manchester City might provide a sympathetic ear too. The beaten finalists are just the latest to find themselves sucker-punched by this Real Madrid team.', 'url': 'https://www.skysports.com/football/news/11945/13146676/real-madrid-win-the-champions-league-trademark-victory-over-borussia-dortmund-shows-why-they-are-the-kings-of-europe', 'urlToImage': 'https://e0.365dm.com/24/06/1600x900/skysports-vinicius-junior-real-madrid_6571379.jpg?20240602072900', 'publishedAt': '2024-06-01T22:47:00Z', 'content': 'Borussia Dortmund will be wondering how it happened but they need only ask Bayern Munich. Manchester City might provide a sympathetic ear too. The beaten finalists are just the latest to find themsel… [+5285 chars]'}, {'source': {'id': None, 'name': 'Sky Sports'}, 'author': None, 'title': 'Joyous scenes at Bernabeu as Real Madrid fans celebrate CL win', 'description': 'Real Madrid fans celebrated their Champions League victory over Borussia Dortmund at a watchalong party at the Bernabeu.', 'url': 'https://www.skysports.com/football/video/34014/13146671/bernabeu-watch-party-celebrates-real-madrid-s-campions-league-victory', 'urlToImage': 'https://e0.365dm.com/24/06/1600x900/skysports-real-madrid-football_6571353.jpg?20240601225807', 'publishedAt': '2024-06-01T21:54:00Z', 'content': 'Saturday 1 June 2024 23:05, UK'}, {'source': {'id': None, 'name': 'Sky Sports'}, 'author': None, 'title': 'Papers: Liverpool join race to sign Newcastle star Guimaraes', 'description': \"The top stories and transfer rumours from Sunday's newspapers...\", 'url': 'https://www.skysports.com/football/transfer-paper-talk/12709/13146644/liverpool-join-race-to-sign-newcastle-midfielder-guimaraes-paper-talk', 'urlToImage': 'https://e0.365dm.com/19/10/1600x900/skysports-paper-talk-papers_4819668.jpg?20200516213727', 'publishedAt': '2024-06-01T21:30:00Z', 'content': \"The top stories and transfer rumours from Sunday's newspapers...\\r\\nSUNDAY MIRROR \\r\\nLiverpool have joined the race for Newcastle midfielder Bruno Guimaraes.\\r\\nManchester City want to secure Erling Haala… [+3043 chars]\"}, {'source': {'id': None, 'name': 'Sky Sports'}, 'author': 'Peter Smith', 'title': 'Real crowned European kings for 15th time', 'description': 'Real Madrid were crowned champions of Europe for a 15th time at Wembley, with second-half goals from Dani Carvajal and Vinicius Jr seeing off a brave Borussia Dortmund in a 2-0 victory.', 'url': 'https://www.skysports.com/football/news/12309/13144506/borussia-dortmund-0-2-real-madrid-dani-carvajal-and-vinicius-jr-score-as-los-blancos-win-15th-champions-league-title', 'urlToImage': 'https://e0.365dm.com/24/06/1600x900/skysports-madrid-real_6571321.jpg?20240601220502', 'publishedAt': '2024-06-01T21:00:00Z', 'content': 'Real Madrid were crowned champions of Europe for a 15th time at Wembley, with second-half goals from Dani Carvajal and Vinicius Jr seeing off a brave Borussia Dortmund in a 2-0 victory.\\r\\nThe German s… [+2057 chars]'}, {'source': {'id': None, 'name': 'Sky Sports'}, 'author': None, 'title': \"Everton 'assessing options' after 777 Partners' takeover falls through\", 'description': 'Everton are assessing \"all options for the club’s future ownership\" after 777 Partners’ proposed takeover fell through.', 'url': 'https://www.skysports.com/football/news/11095/13146637/everton-assessing-options-after-777-partners-takeover-falls-through', 'urlToImage': 'https://e0.365dm.com/24/02/1600x900/skysports-football-goodison-park_6469826.jpg?20240226132814', 'publishedAt': '2024-06-01T20:47:00Z', 'content': 'Everton are assessing \"all options for the clubs future ownership\" after 777 Partners proposed takeover fell through.\\r\\nToffees owner Farhad Moshiri was tied into a period of exclusivity with the trou… [+2753 chars]'}, {'source': {'id': None, 'name': 'Sky Sports'}, 'author': None, 'title': 'Champions League final: Dortmund vs Real Madrid build-up', 'description': '', 'url': 'https://www.skysports.com/football/b-dortmund-vs-r-madrid/live/504385', 'urlToImage': 'https://e3.365dm.com/24/06/1600x900/skynews-real-madrid-champions-league_6571252.jpg?20240601183518', 'publishedAt': '2024-06-01T17:28:00Z', 'content': 'Saturday 1 June 2024 18:37, UK'}, {'source': {'id': None, 'name': 'Sky Sports'}, 'author': None, 'title': \"Mourinho closes in on Fenerbahce move | 'I want to go but it's not done yet'\", 'description': 'Jose Mourinho confirms he is close to becoming head coach at Fenerbahce and that even though the deal is not done yet he is excited by the challenge.', 'url': 'https://www.skysports.com/football/video/30964/13146545/jose-mourinho-closes-in-on-fenerbahce-move-i-want-to-go-but-it-s-not-done-yet', 'urlToImage': 'https://e0.365dm.com/24/06/1600x900/skysports-jose-mourinho-fenerbahce_6571192.jpg?20240601170718', 'publishedAt': '2024-06-01T15:59:00Z', 'content': 'Saturday 1 June 2024 17:24, UK'}, {'source': {'id': None, 'name': 'Sky Sports'}, 'author': None, 'title': 'Scotland striker Dykes ruled out of Euro 2024', 'description': 'Scotland striker Lyndon Dykes has been ruled out of Euro 2024 after suffering an injury in training.', 'url': 'https://www.skysports.com/football/news/12017/13146533/lyndon-dykes-scotland-striker-ruled-out-of-euro-2024-after-training-ground-injury', 'urlToImage': 'https://e0.365dm.com/24/05/1600x900/skysports-lyndon-dykes-scotland_6570664.jpg?20240531175235', 'publishedAt': '2024-06-01T15:40:00Z', 'content': \"Scotland striker Lyndon Dykes has been ruled out of Euro 2024 after suffering an injury in training.\\r\\nDykes was carried off on a stretcher on Friday just two weeks before Steve Clarke's side open the… [+1533 chars]\"}, {'source': {'id': None, 'name': 'Sky Sports'}, 'author': None, 'title': 'The Verdict: England have concerning habit of losing big games', 'description': \"Anton Toloui reacts to England's defeat against France in the Euro 2025 qualifier at St James' Park\", 'url': 'https://www.skysports.com/football/video/12040/13146345/the-verdict-england-have-concerning-habit-of-losing-big-games', 'urlToImage': 'https://e0.365dm.com/24/05/1600x900/skysports-verdict-football_6570910.jpg?20240531235904', 'publishedAt': '2024-05-31T22:49:00Z', 'content': 'Friday 31 May 2024 23:59, UK'}, {'source': {'id': None, 'name': 'Sky Sports'}, 'author': 'Ron Walker', 'title': \"Wiegman takes aim at set pieces for 'frustrating' defeat\", 'description': 'Sarina Wiegman defended her England players but blamed set pieces for a first home qualifying defeat in more than 20 years at the hands of France in a 2-1 loss.', 'url': 'https://www.skysports.com/football/news/11095/13146156/sarina-wiegman-set-piece-defending-cost-england-in-frustrating-2-1-france-defeat-in-euro-2025-qualifier', 'urlToImage': 'https://e0.365dm.com/24/05/1600x900/skysports-marie-antoinette-katoto_6570897.jpg?20240531231840', 'publishedAt': '2024-05-31T22:00:00Z', 'content': 'Sarina Wiegman defended her England players but blamed set pieces for a first home qualifying defeat in more than 20 years at the hands of France in a 2-1 loss.\\r\\nNeeding victory to leapfrog their opp… [+2965 chars]'}, {'source': {'id': None, 'name': 'Sky Sports'}, 'author': None, 'title': 'Papers: Man Utd considering Diomande move | Bayern monitoring Zinchenko', 'description': \"The top stories and transfer rumours from Saturday's newspapers...\", 'url': 'https://www.skysports.com/football/transfer-paper-talk/12709/13146333/ousmane-diomande-manchester-united-considering-move-for-sporting-lisbon-defender-paper-talk', 'urlToImage': 'https://e0.365dm.com/19/10/1600x900/skysports-paper-talk-papers_4819668.jpg?20200516213727', 'publishedAt': '2024-05-31T21:40:00Z', 'content': \"The top stories and transfer rumours from Saturday's newspapers...\\r\\nDAILY EXPRESS\\r\\nManchester United are considering a move for Ousmane Diomande with Sporting prepared to compromise on their asking p… [+4706 chars]\"}, {'source': {'id': None, 'name': 'Sky Sports'}, 'author': None, 'title': 'Euro 2025 Qualifiers: Scotland win as Wales draw while ROI lose', 'description': 'Scotland boosted their Euro 2025 qualification hopes after overcoming a half-hour delay to kick-off following protestor disruption to defeat Israel 4-1 at Hampden Park.', 'url': 'https://www.skysports.com/football/news/12017/13146315/women-s-euro-2025-qualifiers-scotland-win-as-wales-draw-while-republic-of-ireland-lose', 'urlToImage': 'https://e0.365dm.com/24/05/1600x900/skysports-scotland-women-kirsty-hanson_6570853.jpg?20240531215913', 'publishedAt': '2024-05-31T21:10:00Z', 'content': 'Scotland boosted their Euro 2025 qualification hopes after overcoming a half-hour delay to kick-off following protestor disruption to defeat Israel 4-1 at Hampden Park.\\r\\nThe decision was taken earlie… [+4681 chars]'}, {'source': {'id': None, 'name': 'Sky Sports'}, 'author': 'Sam Blitz', 'title': 'England slip out of Euro 2025 qualification spots as France win', 'description': \"England have dropped out of the automatic qualification spots in their Euro 2025 group after France came from behind to beat the Lionesses 2-1 at St James' Park.\", 'url': 'https://www.skysports.com/football/news/28508/13144527/england-women-1-2-france-women-lionesses-throw-away-lead-to-slip-out-of-automatic-qualification-spots-for-euro-2025', 'urlToImage': 'https://e0.365dm.com/24/05/1600x900/skysports-england-france_6570812.jpg?20240531205843', 'publishedAt': '2024-05-31T21:00:00Z', 'content': \"England have dropped out of the automatic qualification spots in their Euro 2025 group after France came from behind to beat the Lionesses 2-1 at St James' Park.\\r\\nSarina Wiegman's side thought they w… [+1286 chars]\"}, {'source': {'id': None, 'name': 'Sky Sports'}, 'author': None, 'title': 'Scotland vs Israel delayed after protestor chained themselves to goalpost', 'description': \"Scotland's Euro 2025 qualifier with Israel at Hampden Park was delayed after a protestor chained themselves to a goalpost before kick-off.\", 'url': 'https://www.skysports.com/football/news/12017/13146101/scotland-vs-israel-euro-2025-qualifier-delayed-after-protestor-chained-themselves-to-goalpost', 'urlToImage': 'https://e0.365dm.com/24/05/1600x900/skysports-scotland-ukraine_6570747.jpg?20240531193502', 'publishedAt': '2024-05-31T18:35:00Z', 'content': \"Scotland's Euro 2025 qualifier with Israel at Hampden Park was delayed after a protestor chained themselves to a goalpost before kick-off.\\r\\nThe incident took place prior to the pre-match national ant… [+1628 chars]\"}, {'source': {'id': None, 'name': 'Sky Sports'}, 'author': None, 'title': \"Rodgers reveals Celtic's transfer plans | McGregor: Title win most satisfying\", 'description': 'An exclusive interview with Celtic manager Brendan Rodgers and captain Callum McGregor as the duo reflect on another title-winning season and the future...', 'url': 'https://www.skysports.com/football/news/11787/13145735/brendan-rodgers-and-callum-mcgregor-exclusive-celtic-duo-discuss-title-win-summer-transfers-plans-and-more', 'urlToImage': 'https://e0.365dm.com/24/05/1600x900/skysports-rodgers-mcgregor_6569980.jpg?20240530210132', 'publishedAt': '2024-05-31T18:30:00Z', 'content': 'Brendan Rodgers has revealed there will be \"change\" at Celtic this summer as he looks forward to \"a really bright future\" at the club.\\r\\nThe Hoops saw off Rangers in the Scottish Premiership title rac… [+16609 chars]'}, {'source': {'id': None, 'name': 'Sky Sports'}, 'author': 'Keith Downie - Sky Sports News reporter', 'title': \"Sunderland's talks to appoint Still as new head coach all but over\", 'description': 'Sunderland’s talks to make Will Still their new head coach are all but over.', 'url': 'https://www.skysports.com/football/news/11695/13146211/will-still-sunderland-s-talks-to-appoint-ex-stade-de-reims-boss-as-new-head-coach-all-but-over', 'urlToImage': 'https://e0.365dm.com/24/05/1600x900/skysports-will-still_6540662.jpg?20240502144807', 'publishedAt': '2024-05-31T18:00:00Z', 'content': 'Sunderlands talks to make Will Still their new head coach are all but over.\\r\\nThe Belgian had gone as far as to look into where he could live in the North East at one point, but he has concerns over i… [+2218 chars]'}, {'source': {'id': None, 'name': 'Sky Sports'}, 'author': None, 'title': 'Full remuneration for players who miss training or games over menstrual health', 'description': 'Players will receive full remuneration if they exercise an entitlement to miss training sessions or matches for menstrual health reasons as one of a host of new regulations for women’s football introduced by FIFA.', 'url': 'https://www.skysports.com/football/news/35730/13146168/full-remuneration-for-players-who-miss-training-or-games-over-menstrual-health', 'urlToImage': 'https://e0.365dm.com/24/03/1600x900/skysports-football-generic_6494542.jpg?20240318185235', 'publishedAt': '2024-05-31T17:00:00Z', 'content': 'Players will receive full remuneration if they exercise an entitlement to miss training sessions or matches for menstrual health reasons as one of a host of new regulations for womens football introd… [+4356 chars]'}, {'source': {'id': None, 'name': 'Sky Sports'}, 'author': None, 'title': 'Artificial pitches to be banned in Scottish Premiership', 'description': 'Scottish Premiership clubs have voted in favour of phasing out the use of artificial pitches in the top-flight.', 'url': 'https://www.skysports.com/football/news/36621/13146058/scottish-premiership-artificial-pitches-to-be-banned-from-2026-after-vote', 'urlToImage': 'https://e0.365dm.com/24/05/1600x900/skysports-rugby-park-kilmarnock_6570444.jpg?20240531132345', 'publishedAt': '2024-05-31T12:00:00Z', 'content': 'Scottish Premiership clubs have voted in favour of banning the use of artificial pitches in the top-flight.\\r\\nThe surface will be phased out by 2026 after a vote on the proposal was passed by at least… [+1384 chars]'}, {'source': {'id': None, 'name': 'Sky Sports'}, 'author': None, 'title': 'Mourinho set to join Fenerbahce on two-year deal', 'description': 'Jose Mourinho is set to sign a two-year deal with Fenerbahce after verbally agreeing to take charge of the Turkish Super Lig side.', 'url': 'https://www.skysports.com/football/news/11095/13146051/jose-mourinho-former-man-utd-chelsea-and-tottenham-manager-set-to-take-charge-of-fenerbahce', 'urlToImage': 'https://e0.365dm.com/24/05/1600x900/skysports-jose-mourinho-roma_6570414.jpg?20240531130205', 'publishedAt': '2024-05-31T11:56:00Z', 'content': 'Jose Mourinho is set to sign a two-year deal with Fenerbahce after verbally agreeing to take charge of the Turkish Super Lig side.\\r\\nMourinho is not yet in Istanbul but the paperwork is being finalise… [+1691 chars]'}, {'source': {'id': None, 'name': 'Sky Sports'}, 'author': 'Adam Bate', 'title': 'Why a Dortmund win at Wembley would be so special', 'description': 'Monday marked the start of Champions League final week and Dortmund is duly abuzz as supporters ready themselves for London. But it also marked one year since the miserable day that Borussia Dortmund blew the Bundesliga title.', 'url': 'https://www.skysports.com/football/news/11095/13144869/borussia-dortmund-s-champions-league-wembley-win-would-reward-a-club-that-still-does-it-differently', 'urlToImage': 'https://e0.365dm.com/24/05/1600x900/skysports-football-champions-league_6568488.jpg?20240529092339', 'publishedAt': '2024-05-31T08:00:00Z', 'content': 'Monday marked the start of Champions League final week and Dortmund is duly abuzz as supporters ready themselves for London. But it also marked one year since the miserable day that Borussia Dortmund… [+6113 chars]'}, {'source': {'id': None, 'name': 'Sky Sports'}, 'author': 'Danyal Khan', 'title': \"Maguire: Tournaments are won in moments - we're going there to win\", 'description': 'Harry Maguire believes England can learn from previous tournaments and win the Euros in Germany this summer.', 'url': 'https://www.skysports.com/football/news/12016/13145033/harry-maguire-exclusive-england-defender-on-lessons-learned-and-ambition-to-win-euro-2024-this-summer', 'urlToImage': 'https://e0.365dm.com/24/05/1600x900/skysports-maguire-harry-maguire_6567092.jpg?20240527125503', 'publishedAt': '2024-05-31T07:00:00Z', 'content': 'It would be mean absolutely everything \\r\\nHarry Maguire replied with a smile when asked what potentially winning the Euros this summer would mean to him.\\r\\n\"We haven\\'t lifted a trophy in a long, long t… [+6762 chars]'}, {'source': {'id': None, 'name': 'Sky Sports'}, 'author': None, 'title': 'Back Pages: Should Chelsea be excited by Maresca?', 'description': \"Jason Burt from the Daily Telegraph and\\xa0the Daily Mail's Riath Al-Samarrai discuss Enzo Maresca and whether he will be a success at Chelsea.\", 'url': 'https://www.skysports.com/football/video/11095/13145839/should-chelsea-be-excited-about-enzo-maresca', 'urlToImage': 'https://e0.365dm.com/24/05/1600x900/skysports-maresca-chelsea_6570098.jpg?20240530231628', 'publishedAt': '2024-05-30T22:24:00Z', 'content': 'Thursday 30 May 2024 23:57, UK'}, {'source': {'id': None, 'name': 'Sky Sports'}, 'author': None, 'title': 'Papers: Richarlison to head 11-player Spurs clearout', 'description': \"The top stories and transfer rumours from Friday's newspapers...\", 'url': 'https://www.skysports.com/football/news/30778/13145816/tottenham-ready-to-listen-to-offers-for-11-first-team-players-including-richarlison-and-emerson-royal-paper-talk', 'urlToImage': 'https://e0.365dm.com/19/10/1600x900/skysports-paper-talk-papers_4819668.jpg?20200516213727', 'publishedAt': '2024-05-30T21:45:00Z', 'content': \"The top stories and transfer rumours from Friday's newspapers...\\r\\nDAILY MIRROR\\r\\nTottenham are ready to listen to offers for 11 first-team players, including Richarlison and Emerson Royal, as Ange Pos… [+7049 chars]\"}, {'source': {'id': None, 'name': 'Sky Sports'}, 'author': 'Kaveh Solhekol', 'title': 'Maresca agrees terms on five-year Chelsea deal', 'description': 'Enzo Maresca has agreed terms on a five-year deal with Chelsea to become their new head coach.', 'url': 'https://www.skysports.com/football/news/11095/13145818/chelsea-enzo-maresca-agrees-terms-on-five-year-deal-to-become-blues-head-coach', 'urlToImage': 'https://e0.365dm.com/24/05/1600x900/skysports-enzo-maresca-chelsea_6567895.jpg?20240528142254', 'publishedAt': '2024-05-30T21:35:00Z', 'content': 'Enzo Maresca has agreed terms on a five-year deal with Chelsea to become their new head coach.\\r\\nThe 44-year-old, who will succeed Mauricio Pochettino at Stamford Bridge, will move from Leicester afte… [+3889 chars]'}, {'source': {'id': None, 'name': 'Sky Sports'}, 'author': None, 'title': 'Williamson relishing fight for England places in France double-header', 'description': \"Leah Williamson says she is ready to fight for a place in England's backline for the double-header with France, beginning with Friday night's clash at St James' Park.\", 'url': 'https://www.skysports.com/football/news/28508/13145682/leah-williamson-relishing-england-fight-for-places-ahead-of-france-double-header', 'urlToImage': 'https://e0.365dm.com/24/02/1600x900/skysports-leah-williamson-england-women_6453918.jpg?20240213100523', 'publishedAt': '2024-05-30T21:12:00Z', 'content': \"Leah Williamson says she is ready to fight for a place in England's backline for the double-header with France, beginning with Friday night's clash at St James' Park.\\r\\nEngland boss Sarina Wiegman cou… [+4142 chars]\"}]}\n",
      "Total Articles retrieved from CNN: 244\n"
     ]
    },
    {
     "data": {
      "text/plain": [
       "(['2024-06-06T22:13:00Z',\n",
       "  '2024-06-06T21:30:00Z',\n",
       "  '2024-06-06T18:34:00Z',\n",
       "  '2024-06-06T17:00:00Z',\n",
       "  '2024-06-06T16:30:00Z',\n",
       "  '2024-06-06T16:04:00Z',\n",
       "  '2024-06-06T15:05:00Z',\n",
       "  '2024-06-06T15:03:00Z',\n",
       "  '2024-06-06T15:03:00Z',\n",
       "  '2024-06-06T13:00:00Z',\n",
       "  '2024-06-06T12:49:00Z',\n",
       "  '2024-06-06T12:05:00Z',\n",
       "  '2024-06-06T11:00:00Z',\n",
       "  '2024-06-06T11:00:00Z',\n",
       "  '2024-06-06T10:00:00Z',\n",
       "  '2024-06-06T09:45:00Z',\n",
       "  '2024-06-06T09:00:00Z',\n",
       "  '2024-06-06T08:50:00Z',\n",
       "  '2024-06-06T08:22:00Z',\n",
       "  '2024-06-06T08:00:00Z',\n",
       "  '2024-06-06T08:00:00Z',\n",
       "  '2024-06-06T07:00:00Z',\n",
       "  '2024-06-06T06:54:00Z',\n",
       "  '2024-06-06T06:00:00Z',\n",
       "  '2024-06-05T21:35:00Z',\n",
       "  '2024-06-05T17:50:00Z',\n",
       "  '2024-06-05T16:29:00Z',\n",
       "  '2024-06-05T16:00:00Z',\n",
       "  '2024-06-05T14:30:00Z',\n",
       "  '2024-06-05T13:41:00Z',\n",
       "  '2024-06-05T13:24:00Z',\n",
       "  '2024-06-05T12:38:00Z',\n",
       "  '2024-06-05T11:03:00Z',\n",
       "  '2024-06-05T11:00:00Z',\n",
       "  '2024-06-05T09:53:00Z',\n",
       "  '2024-06-05T09:51:00Z',\n",
       "  '2024-06-05T07:18:00Z',\n",
       "  '2024-06-05T07:00:00Z',\n",
       "  '2024-06-04T21:44:00Z',\n",
       "  '2024-06-04T21:30:00Z',\n",
       "  '2024-06-04T21:30:00Z',\n",
       "  '2024-06-04T20:45:00Z',\n",
       "  '2024-06-04T17:30:00Z',\n",
       "  '2024-06-04T17:14:00Z',\n",
       "  '2024-06-04T16:16:00Z',\n",
       "  '2024-06-04T15:22:00Z',\n",
       "  '2024-06-04T15:22:00Z',\n",
       "  '2024-06-04T14:24:00Z',\n",
       "  '2024-06-04T12:21:00Z',\n",
       "  '2024-06-04T12:06:00Z',\n",
       "  '2024-06-04T09:48:00Z',\n",
       "  '2024-06-04T09:00:00Z',\n",
       "  '2024-06-03T21:53:00Z',\n",
       "  '2024-06-03T21:30:00Z',\n",
       "  '2024-06-03T20:45:00Z',\n",
       "  '2024-06-03T20:45:00Z',\n",
       "  '2024-06-03T20:45:00Z',\n",
       "  '2024-06-03T17:30:00Z',\n",
       "  '2024-06-03T12:17:00Z',\n",
       "  '2024-06-03T09:00:00Z',\n",
       "  '2024-06-03T08:43:00Z',\n",
       "  '2024-06-03T07:00:00Z',\n",
       "  '2024-06-03T05:35:00Z',\n",
       "  '2024-06-02T22:05:00Z',\n",
       "  '2024-06-02T21:39:00Z',\n",
       "  '2024-06-02T20:00:00Z',\n",
       "  '2024-06-02T16:55:00Z',\n",
       "  '2024-06-02T16:30:00Z',\n",
       "  '2024-06-02T16:30:00Z',\n",
       "  '2024-06-02T16:15:00Z',\n",
       "  '2024-06-02T16:00:00Z',\n",
       "  '2024-06-02T14:14:00Z',\n",
       "  '2024-06-02T08:15:00Z',\n",
       "  '2024-06-02T06:57:00Z',\n",
       "  '2024-06-01T22:49:00Z',\n",
       "  '2024-06-01T22:47:00Z',\n",
       "  '2024-06-01T21:54:00Z',\n",
       "  '2024-06-01T21:30:00Z',\n",
       "  '2024-06-01T21:00:00Z',\n",
       "  '2024-06-01T20:47:00Z',\n",
       "  '2024-06-01T17:28:00Z',\n",
       "  '2024-06-01T15:59:00Z',\n",
       "  '2024-06-01T15:40:00Z',\n",
       "  '2024-05-31T22:49:00Z',\n",
       "  '2024-05-31T22:00:00Z',\n",
       "  '2024-05-31T21:40:00Z',\n",
       "  '2024-05-31T21:10:00Z',\n",
       "  '2024-05-31T21:00:00Z',\n",
       "  '2024-05-31T18:35:00Z',\n",
       "  '2024-05-31T18:30:00Z',\n",
       "  '2024-05-31T18:00:00Z',\n",
       "  '2024-05-31T17:00:00Z',\n",
       "  '2024-05-31T12:00:00Z',\n",
       "  '2024-05-31T11:56:00Z',\n",
       "  '2024-05-31T08:00:00Z',\n",
       "  '2024-05-31T07:00:00Z',\n",
       "  '2024-05-30T22:24:00Z',\n",
       "  '2024-05-30T21:45:00Z',\n",
       "  '2024-05-30T21:35:00Z',\n",
       "  '2024-05-30T21:12:00Z'],\n",
       " ['Woeful England sign off for Euros with limp Iceland defeat',\n",
       "  'Papers: Senior England player approached Southgate on Grealish omission',\n",
       "  'Wales held to goalless draw by minnows Gibraltar',\n",
       "  \"Scottish FA president determined to keep 'huge asset' Clarke\",\n",
       "  'Southgate gets bold and rips up left side - but who fills Maguire void?',\n",
       "  'Southgate: Big-name omissions tough despite exciting squad',\n",
       "  'Why overlooking Grealish is a big mistake',\n",
       "  'Grealish left out of England squad for Euro 2024',\n",
       "  \"Grealish, Maguire and Maddison left out of England's Euro 2024 squad\",\n",
       "  \"Clarke urges 'negative Normans' to enjoy Scotland's Euros journey\",\n",
       "  \"'Devastated' Maddison: I thought there would be a space for me\",\n",
       "  \"Wittmann becomes first female coach of a German men's team\",\n",
       "  \"Why is June 30 the new 'Deadline Day' that worries clubs so much?\",\n",
       "  'Six PL clubs need to sell players this month to avoid PSR breaches',\n",
       "  'Gray appointed Hibernian head coach',\n",
       "  'Dramatic Scottish Premiership season draws more viewers to Sky Sports',\n",
       "  'Premier League clubs vote against scrapping VAR',\n",
       "  \"Morgan added to Scotland's provisional Euro 2024 squad\",\n",
       "  'England Euros latest: Why Maddison exit is good for Grealish',\n",
       "  'Man found guilty of headbutting Keane at Premier League match',\n",
       "  'Maddison and Jones left out of final England Euro 2024 squad',\n",
       "  \"Next Up: How Mainoo became Man Utd's main man\",\n",
       "  'Salah shows off SHAVED HEAD at Egypt training!',\n",
       "  'VAR vote looms for Premier League clubs - should it stay or go?',\n",
       "  'Maddison left out of final England squad for Euro 2024',\n",
       "  \"Barcelona's Caldentey agrees to join Arsenal\",\n",
       "  \"What if Man City win Premier League dispute? 'A huge impact!'\",\n",
       "  'Hibernian offer Gray head coach role',\n",
       "  'Man City legal action Q&A: How will hearing work? What are the implications?',\n",
       "  'Troy Townsend to leave Kick It Out',\n",
       "  \"Why have Man City taken legal action against Premier League's financial rules?\",\n",
       "  'Explained: What is arbitration and why are Man City going down that route',\n",
       "  \"'Frustrated' Man City chairman calls for ‘more sensibility in regulating’\",\n",
       "  \"'Football has a blind spot when it comes to Islamophobia'\",\n",
       "  'De Bruyne refuses to rule out Saudi move',\n",
       "  'Napoli appoint Conte as head coach',\n",
       "  'If Southgate overlooks Grealish it would be a big mistake',\n",
       "  \"'City's legal challenge is seismic - future of Premier League is at risk'\",\n",
       "  \"Parrott nets late winner as O'Shea's Republic of Ireland see off Hungary\",\n",
       "  'Papers: Arsenal, AC Milan and Spurs want Girona winger',\n",
       "  'Papers: Chelsea, Villa and Newcastle side with Man City in legal dispute',\n",
       "  'England boost Euro 2025 qualification hopes with France win',\n",
       "  \"The Sesko goals that caught Arsenal's eye? Watch his Bundesliga strikes!\",\n",
       "  \"Mbappe: I thought I'd never play for PSG this year\",\n",
       "  \"Women's Euro Qualifiers: Four-goal Thomas leads Scotland to win over Israel\",\n",
       "  \"Transfer market will be 'like Wild West' if Man City win legal battle\",\n",
       "  \"Man City 'launch legal action' against Premier League over financial rules\",\n",
       "  \"England's final Euro 2024 squad: When does Southgate pick his 26?\",\n",
       "  'What decisions face Clarke as final Scotland squad deadline looms?',\n",
       "  \"England's Euro 2024 squad: Who's on the plane & who misses out?\",\n",
       "  'Euro 2024 news: Players to watch & all you need to know in one place',\n",
       "  'Who wins Euro 2024: England are favourites - is this their time?',\n",
       "  'The Verdict: Who staked claim for place in England Euros squad?',\n",
       "  'Papers: Napoli eye two Arsenal players in potential Osimhen swap deal',\n",
       "  'England cruise to Bosnia win in first Euro 2024 warm-up',\n",
       "  'England player ratings: Eze, Palmer strengthen claims as secret weapons',\n",
       "  'England player ratings: Eze, Palmer strengthen claims as secret weapons',\n",
       "  'Real Madrid sign Mbappe',\n",
       "  \"Man Utd latest: 'Ten Hag may be bemused at his treatment'\",\n",
       "  'Cortes returns to Rangers for second loan from Lens',\n",
       "  \"How will Mbappe fit in Real Madrid's attack?\",\n",
       "  'Chelsea appoint Maresca as head coach',\n",
       "  \"Nagelsmann condemns 'racist' German TV survey\",\n",
       "  'Chelsea set to confirm Maresca appointment on Monday',\n",
       "  \"Ancelotti dancing, Bellingham's celebration and Kroos honoured | Madrid parade best bits\",\n",
       "  \"Clarke considering Scotland options after losing 'pivotal' Dykes\",\n",
       "  \"Mourinho receives heroes' welcome at Fenerbahce | 'Thank you for your love!'\",\n",
       "  'Real Madrid to announce Mbappe this week as he receives £85m bonus',\n",
       "  'Real Madrid to announce Mbappe as he receives £85m bonus',\n",
       "  'Mourinho unveiled as Fenerbahce coach',\n",
       "  'Saka, Stones to miss England friendly as Trippier named captain',\n",
       "  'Mourinho greeted by ecstatic Fenerbahce fans as he lands in Istanbul!',\n",
       "  'Hayes makes successful US debut with resounding South Korea win',\n",
       "  'Real Madrid crowned European champions for 15th time!',\n",
       "  'Bellingham on CL win: The best night of my life',\n",
       "  \"Real Madrid's legend grows after trademark win\",\n",
       "  'Joyous scenes at Bernabeu as Real Madrid fans celebrate CL win',\n",
       "  'Papers: Liverpool join race to sign Newcastle star Guimaraes',\n",
       "  'Real crowned European kings for 15th time',\n",
       "  \"Everton 'assessing options' after 777 Partners' takeover falls through\",\n",
       "  'Champions League final: Dortmund vs Real Madrid build-up',\n",
       "  \"Mourinho closes in on Fenerbahce move | 'I want to go but it's not done yet'\",\n",
       "  'Scotland striker Dykes ruled out of Euro 2024',\n",
       "  'The Verdict: England have concerning habit of losing big games',\n",
       "  \"Wiegman takes aim at set pieces for 'frustrating' defeat\",\n",
       "  'Papers: Man Utd considering Diomande move | Bayern monitoring Zinchenko',\n",
       "  'Euro 2025 Qualifiers: Scotland win as Wales draw while ROI lose',\n",
       "  'England slip out of Euro 2025 qualification spots as France win',\n",
       "  'Scotland vs Israel delayed after protestor chained themselves to goalpost',\n",
       "  \"Rodgers reveals Celtic's transfer plans | McGregor: Title win most satisfying\",\n",
       "  \"Sunderland's talks to appoint Still as new head coach all but over\",\n",
       "  'Full remuneration for players who miss training or games over menstrual health',\n",
       "  'Artificial pitches to be banned in Scottish Premiership',\n",
       "  'Mourinho set to join Fenerbahce on two-year deal',\n",
       "  'Why a Dortmund win at Wembley would be so special',\n",
       "  \"Maguire: Tournaments are won in moments - we're going there to win\",\n",
       "  'Back Pages: Should Chelsea be excited by Maresca?',\n",
       "  'Papers: Richarlison to head 11-player Spurs clearout',\n",
       "  'Maresca agrees terms on five-year Chelsea deal',\n",
       "  'Williamson relishing fight for England places in France double-header'])"
      ]
     },
     "execution_count": 4,
     "metadata": {},
     "output_type": "execute_result"
    }
   ],
   "source": [
    "import datetime\n",
    "import requests\n",
    "import pandas as pd\n",
    "\n",
    "CNN_ARTICLES = 1000\n",
    "\n",
    "def get_sky_news():\n",
    "    titles = []\n",
    "    contents = []\n",
    "    ids = []\n",
    "    index = 0\n",
    "    publish_dates = []\n",
    "    f = (datetime.datetime.now() - datetime.timedelta(days=15)).strftime('%Y-%m-%d')\n",
    "    to = datetime.datetime.now().strftime('%Y-%m-%d')\n",
    "    url = ( 'https://newsapi.org/v2/everything?'\n",
    "            'domains=skysports.com&'\n",
    "            'language=en&'\n",
    "            f'from={f}&'\n",
    "            f'to={to}&'\n",
    "            'sortBy=publishedAt&'\n",
    "            'pageSize=100&'\n",
    "            'apiKey=00664c93e32e4db8ae93f46a260d5fd1')\n",
    "    cnn_articles = []\n",
    "    response = requests.get(url)\n",
    "    data = response.json()\n",
    "    print(data)\n",
    "    if 'totalResults' in data:\n",
    "        print(f'Total Articles retrieved from CNN: {data[\"totalResults\"]}')\n",
    "    else:\n",
    "        print(\"Error: Total Results not found in response\")\n",
    "        return [], []\n",
    "\n",
    "    if response.status_code == 200:\n",
    "        articles = data['articles']\n",
    "        for article in articles:\n",
    "            title = article['title']\n",
    "            url = article['url']\n",
    "            # content = scrape_article_content_cnn(url)  # You need to implement this function\n",
    "            # For now, let's just leave it as an empty string\n",
    "            content = \"\"\n",
    "            publish_date = article['publishedAt']\n",
    "            publish_dates.append(publish_date)\n",
    "            titles.append(title)\n",
    "            ids.append(index)\n",
    "            index += 1\n",
    "            if content:\n",
    "                content = remove_tags(content)\n",
    "                contents.append(content)\n",
    "                cnn_articles.append({'Title': title, 'Content': content})\n",
    "    return publish_dates, titles\n",
    "\n",
    "get_sky_news()"
   ]
  },
  {
   "cell_type": "markdown",
   "metadata": {},
   "source": [
    "<h1>NEWS API</h1>"
   ]
  },
  {
   "cell_type": "code",
   "execution_count": 35,
   "metadata": {},
   "outputs": [],
   "source": [
    "NUMBER_OF_ARTICLES = 100\n",
    "def get_bbc_news():\n",
    "    url = f'https://newsapi.org/v2/everything?sources=bbc-news&language=en&pageSize=100&apiKey=00664c93e32e4db8ae93f46a260d5fd1'\n",
    "    bbc_articles = []\n",
    "    titles = []\n",
    "    contents = []\n",
    "    ids = []\n",
    "    while (len(bbc_articles) < NUMBER_OF_ARTICLES):\n",
    "        if (len(bbc_articles)%10 == 0):\n",
    "            print(f'Number of collected documents so far are : {len(bbc_articles)} ')\n",
    "        response = requests.get(url)\n",
    "        data = response.json()\n",
    "        articles = data.get('articles', [])\n",
    "        for index, article in enumerate(articles):\n",
    "            title = article['title']\n",
    "            content = get_article_content(article['url'])  # You need to define get_article_content()\n",
    "            content = remove_tags(content)\n",
    "            bbc_articles.append({'Title': title, 'Content': content})\n",
    "            titles.append({'Title': title})\n",
    "            contents.append(content)\n",
    "            ids.append(str(index))\n",
    "            time.sleep(1)\n",
    "    return bbc_articles, contents, titles, ids\n",
    "\n",
    "\n",
    "def get_article_content(article_url):\n",
    "    response = requests.get(article_url)\n",
    "    soup = BeautifulSoup(response.content, 'html.parser')\n",
    "    # Extract text from all <p> tags within the article body\n",
    "    article_content = ' '.join([p.get_text() for p in soup.find_all('p')])\n",
    "    return article_content\n",
    "\n",
    "# collected_articles, docs, titles, ids = get_bbc_news()\n"
   ]
  },
  {
   "cell_type": "markdown",
   "metadata": {},
   "source": [
    "<h1>New York Times</h1>"
   ]
  },
  {
   "cell_type": "code",
   "execution_count": 14,
   "metadata": {},
   "outputs": [
    {
     "name": "stdout",
     "output_type": "stream",
     "text": [
      "Error:  400\n"
     ]
    }
   ],
   "source": [
    "def fetch_cnbc_news():\n",
    "    '''\n",
    "    This function fetches finance news articles from the CNBC API\n",
    "    '''\n",
    "    ny_articles = []\n",
    "    f = (datetime.datetime.now() - datetime.timedelta(days=4)).strftime('%Y-%m-%d')\n",
    "    to = datetime.datetime.now().strftime('%Y-%m-%d')\n",
    "    url=f'https://newsapi.org/v2/everything?sources=daily-mail&from={f}&to={to}&apiKey=00664c93e32e4db8ae93f46a260d5fd1'\n",
    "    response = requests.get(url)\n",
    "    if response.status_code == 200:\n",
    "        data = response.json()\n",
    "        return data\n",
    "    else:\n",
    "        print(\"Error: \", response.status_code)\n",
    "        return None\n",
    "\n",
    "fetch_cnbc_news()"
   ]
  },
  {
   "cell_type": "markdown",
   "metadata": {},
   "source": [
    "<h1>AlphaVantage API </h1>"
   ]
  },
  {
   "cell_type": "code",
   "execution_count": 36,
   "metadata": {},
   "outputs": [],
   "source": [
    "NUMBER_OF_ARTICLES = 25\n",
    "def fetch_and_store_data():\n",
    "    url = 'https://www.alphavantage.co/query?function=NEWS_SENTIMENT&tickers=FOREX:USD&apikey=SPIKC6LBBQ3VUG8C'\n",
    "    finance_news = []\n",
    "    index = 0\n",
    "    ids = []\n",
    "    titles = []\n",
    "    summaries = []\n",
    "    while (len(finance_news) < NUMBER_OF_ARTICLES):\n",
    "        r = requests.get(url)\n",
    "        data = r.json()\n",
    "        feeds = data['feed']\n",
    "        for feed in feeds:\n",
    "            titles.append(feed['title'])\n",
    "            summaries.append(remove_tags(feed['summary']))\n",
    "            ids.append(index)\n",
    "            index += 1\n",
    "        time.sleep(1)\n",
    "    finance_news.append({'id': ids, 'title': titles, 'summary': summaries})\n",
    "    df = pd.DataFrame(finance_news[0])\n",
    "    return df\n",
    "# news_df = fetch_and_store_data()\n",
    "# news_df.head()"
   ]
  },
  {
   "cell_type": "markdown",
   "metadata": {},
   "source": [
    "<h1> The Guardian API </h1>"
   ]
  },
  {
   "cell_type": "code",
   "execution_count": 37,
   "metadata": {},
   "outputs": [],
   "source": [
    "api_key = 'd69e575e-91d0-45c1-97f4-ac0fe69f9899'\n",
    "\n",
    "endpoint = 'https://content.guardianapis.com/search'\n",
    "params = {\n",
    "    'api-key': api_key,\n",
    "    'show-fields': 'headline,body',\n",
    "    'order-by': 'newest',\n",
    "    'page-size': 200  # Number of articles to retrieve per request\n",
    "}"
   ]
  },
  {
   "cell_type": "code",
   "execution_count": 38,
   "metadata": {},
   "outputs": [],
   "source": [
    "NUMBER_OF_DOCS =8000\n",
    "def Guardian_data():\n",
    "    collected_articles = []\n",
    "    docs =[] \n",
    "    titles=[]\n",
    "    ids =[]\n",
    "    while (len(collected_articles)<NUMBER_OF_DOCS):\n",
    "        if(len(collected_articles)%10 == 0): \n",
    "            print(f\"Number of collected documents so far are : {len(collected_articles)} ....\")\n",
    "        response = requests.get(endpoint, params)\n",
    "        data = response.json() # data is a dictionary with keys 'response' and 'total' and 'currentPage' and 'pages' and 'results' and 'startIndex' and 'pageSize' and 'status' and 'userTier' and 'total'\n",
    "        articles = data['response']['results']\n",
    "        index=0\n",
    "        for article in articles:\n",
    "            Title = article['fields']['headline']\n",
    "            Content = remove_tags(article['fields']['body'])\n",
    "            collected_articles.append({'Title': Title, 'Content': Content})\n",
    "            docs.append(Content)\n",
    "            titles.append({\"Title\":Title})\n",
    "            ids.append(str(index))\n",
    "            index += 1\n",
    "        time.sleep(10)\n",
    "    return collected_articles, docs, titles, ids\n",
    "\n",
    "# collected_articles, docs, titles, ids = Guardian_data()\n",
    "# print(len(collected_articles)) # number of articles"
   ]
  },
  {
   "cell_type": "code",
   "execution_count": 39,
   "metadata": {},
   "outputs": [
    {
     "ename": "ArrowInvalid",
     "evalue": "Column 1 named Content expected length 73 but got length 29",
     "output_type": "error",
     "traceback": [
      "\u001b[1;31m---------------------------------------------------------------------------\u001b[0m",
      "\u001b[1;31mArrowInvalid\u001b[0m                              Traceback (most recent call last)",
      "Cell \u001b[1;32mIn[39], line 7\u001b[0m\n\u001b[0;32m      1\u001b[0m data_dict \u001b[38;5;241m=\u001b[39m {\n\u001b[0;32m      2\u001b[0m     \u001b[38;5;124m\"\u001b[39m\u001b[38;5;124mTitle\u001b[39m\u001b[38;5;124m\"\u001b[39m: titles,\n\u001b[0;32m      3\u001b[0m     \u001b[38;5;124m\"\u001b[39m\u001b[38;5;124mContent\u001b[39m\u001b[38;5;124m\"\u001b[39m: docs,\n\u001b[0;32m      4\u001b[0m }\n\u001b[0;32m      6\u001b[0m \u001b[38;5;66;03m# Convert the dictionary to a Dataset\u001b[39;00m\n\u001b[1;32m----> 7\u001b[0m dataset \u001b[38;5;241m=\u001b[39m \u001b[43mDataset\u001b[49m\u001b[38;5;241;43m.\u001b[39;49m\u001b[43mfrom_dict\u001b[49m\u001b[43m(\u001b[49m\u001b[43mdata_dict\u001b[49m\u001b[43m)\u001b[49m\n\u001b[0;32m      8\u001b[0m \u001b[38;5;28mprint\u001b[39m(dataset)\n",
      "File \u001b[1;32mc:\\Users\\rachi\\AppData\\Local\\Programs\\Python\\Python312\\Lib\\site-packages\\datasets\\arrow_dataset.py:912\u001b[0m, in \u001b[0;36mDataset.from_dict\u001b[1;34m(cls, mapping, features, info, split)\u001b[0m\n\u001b[0;32m    910\u001b[0m     arrow_typed_mapping[col] \u001b[38;5;241m=\u001b[39m data\n\u001b[0;32m    911\u001b[0m mapping \u001b[38;5;241m=\u001b[39m arrow_typed_mapping\n\u001b[1;32m--> 912\u001b[0m pa_table \u001b[38;5;241m=\u001b[39m \u001b[43mInMemoryTable\u001b[49m\u001b[38;5;241;43m.\u001b[39;49m\u001b[43mfrom_pydict\u001b[49m\u001b[43m(\u001b[49m\u001b[43mmapping\u001b[49m\u001b[38;5;241;43m=\u001b[39;49m\u001b[43mmapping\u001b[49m\u001b[43m)\u001b[49m\n\u001b[0;32m    913\u001b[0m \u001b[38;5;28;01mif\u001b[39;00m info \u001b[38;5;129;01mis\u001b[39;00m \u001b[38;5;28;01mNone\u001b[39;00m:\n\u001b[0;32m    914\u001b[0m     info \u001b[38;5;241m=\u001b[39m DatasetInfo()\n",
      "File \u001b[1;32mc:\\Users\\rachi\\AppData\\Local\\Programs\\Python\\Python312\\Lib\\site-packages\\datasets\\table.py:758\u001b[0m, in \u001b[0;36mInMemoryTable.from_pydict\u001b[1;34m(cls, *args, **kwargs)\u001b[0m\n\u001b[0;32m    742\u001b[0m \u001b[38;5;129m@classmethod\u001b[39m\n\u001b[0;32m    743\u001b[0m \u001b[38;5;28;01mdef\u001b[39;00m \u001b[38;5;21mfrom_pydict\u001b[39m(\u001b[38;5;28mcls\u001b[39m, \u001b[38;5;241m*\u001b[39margs, \u001b[38;5;241m*\u001b[39m\u001b[38;5;241m*\u001b[39mkwargs):\n\u001b[0;32m    744\u001b[0m \u001b[38;5;250m    \u001b[39m\u001b[38;5;124;03m\"\"\"\u001b[39;00m\n\u001b[0;32m    745\u001b[0m \u001b[38;5;124;03m    Construct a Table from Arrow arrays or columns.\u001b[39;00m\n\u001b[0;32m    746\u001b[0m \n\u001b[1;32m   (...)\u001b[0m\n\u001b[0;32m    756\u001b[0m \u001b[38;5;124;03m        `datasets.table.Table`\u001b[39;00m\n\u001b[0;32m    757\u001b[0m \u001b[38;5;124;03m    \"\"\"\u001b[39;00m\n\u001b[1;32m--> 758\u001b[0m     \u001b[38;5;28;01mreturn\u001b[39;00m \u001b[38;5;28mcls\u001b[39m(\u001b[43mpa\u001b[49m\u001b[38;5;241;43m.\u001b[39;49m\u001b[43mTable\u001b[49m\u001b[38;5;241;43m.\u001b[39;49m\u001b[43mfrom_pydict\u001b[49m\u001b[43m(\u001b[49m\u001b[38;5;241;43m*\u001b[39;49m\u001b[43margs\u001b[49m\u001b[43m,\u001b[49m\u001b[43m \u001b[49m\u001b[38;5;241;43m*\u001b[39;49m\u001b[38;5;241;43m*\u001b[39;49m\u001b[43mkwargs\u001b[49m\u001b[43m)\u001b[49m)\n",
      "File \u001b[1;32mc:\\Users\\rachi\\AppData\\Local\\Programs\\Python\\Python312\\Lib\\site-packages\\pyarrow\\table.pxi:1813\u001b[0m, in \u001b[0;36mpyarrow.lib._Tabular.from_pydict\u001b[1;34m()\u001b[0m\n",
      "File \u001b[1;32mc:\\Users\\rachi\\AppData\\Local\\Programs\\Python\\Python312\\Lib\\site-packages\\pyarrow\\table.pxi:5340\u001b[0m, in \u001b[0;36mpyarrow.lib._from_pydict\u001b[1;34m()\u001b[0m\n",
      "File \u001b[1;32mc:\\Users\\rachi\\AppData\\Local\\Programs\\Python\\Python312\\Lib\\site-packages\\pyarrow\\table.pxi:3991\u001b[0m, in \u001b[0;36mpyarrow.lib.Table.from_arrays\u001b[1;34m()\u001b[0m\n",
      "File \u001b[1;32mc:\\Users\\rachi\\AppData\\Local\\Programs\\Python\\Python312\\Lib\\site-packages\\pyarrow\\table.pxi:3271\u001b[0m, in \u001b[0;36mpyarrow.lib.Table.validate\u001b[1;34m()\u001b[0m\n",
      "File \u001b[1;32mc:\\Users\\rachi\\AppData\\Local\\Programs\\Python\\Python312\\Lib\\site-packages\\pyarrow\\error.pxi:91\u001b[0m, in \u001b[0;36mpyarrow.lib.check_status\u001b[1;34m()\u001b[0m\n",
      "\u001b[1;31mArrowInvalid\u001b[0m: Column 1 named Content expected length 73 but got length 29"
     ]
    }
   ],
   "source": [
    "data_dict = {\n",
    "    \"Title\": titles,\n",
    "    \"Content\": docs,\n",
    "}\n",
    "\n",
    "# Convert the dictionary to a Dataset\n",
    "dataset = Dataset.from_dict(data_dict)\n",
    "print(dataset)"
   ]
  },
  {
   "cell_type": "markdown",
   "metadata": {},
   "source": [
    "## RecursiveCharacterTextSplitter :"
   ]
  },
  {
   "cell_type": "code",
   "execution_count": null,
   "metadata": {},
   "outputs": [
    {
     "ename": "KeyError",
     "evalue": "'Content'",
     "output_type": "error",
     "traceback": [
      "\u001b[1;31m---------------------------------------------------------------------------\u001b[0m",
      "\u001b[1;31mKeyError\u001b[0m                                  Traceback (most recent call last)",
      "Cell \u001b[1;32mIn[33], line 1\u001b[0m\n\u001b[1;32m----> 1\u001b[0m document \u001b[38;5;241m=\u001b[39m \u001b[43mcollected_articles\u001b[49m\u001b[43m[\u001b[49m\u001b[38;5;241;43m3\u001b[39;49m\u001b[43m]\u001b[49m\u001b[43m[\u001b[49m\u001b[38;5;124;43m'\u001b[39;49m\u001b[38;5;124;43mContent\u001b[39;49m\u001b[38;5;124;43m'\u001b[39;49m\u001b[43m]\u001b[49m\n\u001b[0;32m      2\u001b[0m \u001b[38;5;28mprint\u001b[39m(\u001b[38;5;124m\"\u001b[39m\u001b[38;5;124mdocument: \u001b[39m\u001b[38;5;130;01m\\n\u001b[39;00m\u001b[38;5;124m\"\u001b[39m ,document)\n\u001b[0;32m      3\u001b[0m splitter \u001b[38;5;241m=\u001b[39mRecursiveCharacterTextSplitter\u001b[38;5;241m.\u001b[39mfrom_language(\n\u001b[0;32m      4\u001b[0m     language \u001b[38;5;241m=\u001b[39mLanguage\u001b[38;5;241m.\u001b[39mPYTHON ,chunk_size\u001b[38;5;241m=\u001b[39m\u001b[38;5;241m512\u001b[39m , chunk_overlap\u001b[38;5;241m=\u001b[39m\u001b[38;5;241m100\u001b[39m\n\u001b[0;32m      5\u001b[0m )\n",
      "\u001b[1;31mKeyError\u001b[0m: 'Content'"
     ]
    }
   ],
   "source": [
    "document = collected_articles[3]['Content']\n",
    "print(\"document: \\n\" ,document)\n",
    "splitter =RecursiveCharacterTextSplitter.from_language(\n",
    "    language =Language.PYTHON ,chunk_size=512 , chunk_overlap=100\n",
    ")\n",
    "chuncked_doc = splitter.create_documents([document])\n",
    "print(\"chuncked document :\\n\", chuncked_doc[0])"
   ]
  },
  {
   "cell_type": "markdown",
   "metadata": {},
   "source": [
    "## TiktokenTextSplitter"
   ]
  },
  {
   "cell_type": "code",
   "execution_count": null,
   "metadata": {},
   "outputs": [
    {
     "name": "stdout",
     "output_type": "stream",
     "text": [
      "chunk :  (0, ' The latest growth figures are slightly more positive than expected by the OBR in the autumn, for this year and the next two. But it’s still a weak growth outlook by long-term standards. Hunt says the OBR are forecasting: 2024: 0.8% growth, up from 0.7% growth expected in November. 2025: 1.9% growth, up from 1.4% growth expected in November. 2026: 2.2% growth, up from 2% growth expected in November. 2027: 1.8% growth, down from 2% growth expected in November. 2028: 1.7% growth, matching the 1.7% growth expected in November. Hunt is still talking about particular regional investments. His list includes measures for Cambridge, to fund a development corporation there. There will be money for transport there. And there is money for north Wales, including money to fund the renovation of Theatre Clwyd. And the government will be purchasing the Wylfa site on Anglesey, where there are plans for a nuclear power station. Hunt is now talking about measures to address historic underinvestment in nations and regions. He announced the north-east trailblazer devolution deal, he says. And he announced devolution plans for Surrey. He says Keir Starmer, as a Surrey boy, ought to welcome this. And then he shoehorns in a rather feeble joke about Peter Mandelson saying yesterday that Starmer should “shed a few pounds”. If Labour get in, people will be losing more than a few pounds due to their tax plans, he says. Updated at The budget deficit (how much the UK borrows each year to balance the books) falls though the next five years, Hunt says, from 4.2% of GDP in the 2023-24 financial year, to 3.1%, 2.7%, 2.3%, 1.6% and 1.2% by 2028-29. ')\n",
      "chunk :  (1, 'That’s the lowest level of annual borrowing since 2001…. .. but it’s based on very tight spending plans, our colleague Pippa Crerar points out: 💰 Hunt announces borrowing falling to just 1.2% of GDP over next five years.But that’s contingent on very tight spending plans which would mean deep cuts for many already stretched public services incl justice &amp; local govt.— Pippa Crerar (@PippaCrerar) March 6, 2024 Updated at Hunt says the government plan does not envisage growth sustained by immigration. Turning to investment, he says this is the best way to improve productivity. He insists the government record on investment has been strong. In the autumn statement he announced full expensing – making the UK’s tax investment rules the most attractive for any large European economy, he says. He says the government will apply this to leased assets. This change will come in “as soon as it’s affordable”. There will be £200m to extend the recovery loan scheme, he says. And the VAT registration threshold will go up form £85,000 to £90,000, he says. Updated at The latest estimates for UK national debt show that it will be a little higher than expected in the autumn statement, as a share of the economy, in the next two financial years. But, as Hunt points out, he’s still on track to have debt falling as a share of GDP in five years time, meeting his fiscal rule. Here are the new forecasts for public sector net debt (excluding the Bank of England), as a share of the economy: 2024-25: 91.7% of GDP, compared with 91.6% expected in November. 2025-26: 92.8%, compared with 92.7% expected in November. 2026-27: 93.2%, matching the 93.2% expected in November. 2027-28: 93.2%, matching the 93.2% expected in November. 2028-29: 92.9%, compared with 92.8% expected in November That leaves the chancellor with £8.9bn of fiscal headroom to have debt falling at the end of the forecast period – a rather small amount of headroom. Net debt in this Budget looks pretty similar to last time around. ')\n",
      "chunk :  (2, 'Here are the figures.Actually slightly higher in five years’ time than before…So we’re getting FURTHER into debt - not paying it back… pic.twitter.com/DxZ5JAMkgc— Ed Conway (@EdConwaySky) March 6, 2024 Updated at Hunt says OBR forecasting 0.8% growth this year Hunt is now talking about growth. He says the OBR expects growth to be 0.8% this year, and 1.9% next year – higher than previously expected. Hunt claims Labour can only implement its energy policy within fiscal rules by raising taxes Hunt is now reading out the debt figures. He says it is on track to fall as a percentage of GDP, meeting the fiscal rules. And the government is also meeting its rule about having borrowing below 3% of GDP early. If Labour decarbonise the electricity grid by 2030, they will not meet these rules, he says. He says Labour claim it will decarbonise in accordance with its fiscal rules. That can only mean tax rises, he says. Updated at Hunt says, on growth, some think there is a trade off between compassion and social responsiblity. He says he does not accept that. It is only because the Tories cut the deficit that they could afford support for people during Covid. He attacks the Liberal Democrats for having no principles, and says he is pleased Ed Davey is in the chamber to hear this. This was a reference to Davey campaign in Hunt’s own constituency, which is a Lib Dem target seat. Fuel duty freeze extended Hunt says he will maintain the supposedly “temporary” 5p cut in fuel duty. And he will extend the freeze in fuel duty. Updated at The Treasury says extending the duty freeze until next February will cut costs for breweries, distilleries, restaurants, nightclubs, pubs &amp; bars. At the Autumn Statement, we froze alcohol duty for six months to provide stability for businesses.Today we’re extending the duty freeze further – from Aug 2024 to 1 Feb 2025.Cutting costs for breweries, distilleries, restaurants, nightclubs, pubs &amp; bars. pic.twitter.com/hNvjDt8FDW— HM Treasury (@hmtreasury) March 6, 2024 Hunt says freeze in alcohol duty being extended until February 2025 Hunt says he will extend the freeze in alcohol duty until February 2025. ')\n",
      "chunk :  (3, 'The government is backing the “great British pub”, he says. Hunt says he will continue the household support fund – which helps low-income families facing particular financial problems – for another six months. It had been due to wrap up Hunt announces abolition of £90 charge for a debt relief order Hunt says households have had £3,400 in economic support. As a result, real household income is on course to rise, he says. He says he has plans to help those facing debt. For people taking advance loans, he will increase the repayment programme from 12 months to 24 months, he says. For some people a debt relief order will help. But they cost £90, he says. He will abolish that charge. Updated at Hunt says it’s important to grow GDP-per-capita (or per head of population), not just headline GDP. That comes after the latest GDP data showed that GDP-per head (a measure of living standards) fell through 2023, and hasn’t risen for the last seven quarters, as this post from last month shows: Seriously people - look at what\\'s happening in terms of GDP/capita (which is what ultimately matters for our living standards). This is a proper recession just being hidden by having more people - GDP/capita declined 0.7 per cent in 2023 with falls in every single quarter pic.twitter.com/47zOkP5u5m— Torsten Bell (@TorstenBell) February 15, 2024 Updated at Hunt says OBR expects inflation to fall below 2% within months Hunt says Labour’s plans would push up taxes. He turns to the forecasts. First, inflation. It was 11% when he and Rishi Sunak took office. The latest figures show it at 4%, and the OBR forecasts show it falling below the 2% target in just a few months time – a year earlier than forecast in the autumn statement. Hunt claims \\'lower taxes mean higher growth\\' Hunt says he can now offer permanent cuts in taxation. He is doing this to deliver help in challenging times. But it is also because “lower taxes mean higher growth”. He says higher growth cannot come from more immigration. Jessica Frank-Keyes, a reporter for City AM, says the £1m for a memorial to Muslims who died in two world wars is a “nod to current community tensions”: First up, £1m for a memorial to the \"Muslims who died in two world wars in the service of freedom and democracy\".')\n",
      "chunk :  (4, 'Nod to current community tensions from the Chancellors - \"this country will never forget the sacrifices made\".Quite noisy in the Chamber as Hunt continues..— Jessica Frank-Keyes (@JessicaFKeyes) March 6, 2024 Updated at Hunt is speaking, but there is very loud heckling. Updated at Jeremy Hunt delivers budget statement Jeremy Hunt is deliving the budget statement. He starts by saying MPs mourn the loss of life in Israel and Gaza. He starts recalling the Muslims who died in the two world wars. He will allocated £1m for a memorial for them. He says this is partly in response to a campaign by Sajid Javid. PMQs is over, and the budget statement is about to start. The Labour MP Tonia Antoniazzi says Rishi Sunak is wrong in what he said about Keir Starmer’s record on rape convictions as DPP. (See 12.11pm.) Rape conviction rates rose from 57.7% to 60.3% during @Keir_Starmer’s tenure as Director of Public Prosecutions. Rishi Sunak should retract his lie immediately #PMQs Rape conviction rates rose from 57.7% to 60.3% during @Keir_Starmer’s tenure as Director of Public Prosecutions. Rishi Sunak should retract his lie immediately #PMQs— Tonia Antoniazzi MP (@ToniaAntoniazzi) March 6, 2024 Andrew Gwynne (Lab) asks if Sunak agrees all ministers should publish their tax returns. And has Sunak ever filed a tax return in the US he has not published? Sunak says he does not think it would be proportionate for all ministers to have to publish their tax returns. He says he has been transparent about his own – although he does not specifically address the question about a US tax return. Angela Eagle (Lab) ask what part of his economic legacy Sunak is most proud of: the highest tax burden since the second world war, or the slowest pace of household income growth since the Napoleonic war? Sunak says it is saving 10m jobs during the pandemic. Graham Stringer (Lab) asks about wealth inequalities between the north and the south. Has the levelling-up agenda failed? Sunak claims inequality has declined under this government. And the north has received some of the highest levelling-up funding per capita. ')\n",
      "chunk :  (5, 'And he criticises Labour for not saying what it will do about HS2, and the money from the cancellation of phase two that the Tories are reinvesting. Updated at Sir Jeffrey Donaldson, the DUP leader, asks Sunak if he will continue to press the Irish government to continue to do more to investigate crimes that took place during the Troubles in their jurisdiction. Sunak says he has spoken to the taoiseach on this. He says he wants families to get as much information as possible about these crimes. David Davis, the former Brexit secretary, says the government should pay proper compensation, not just to post officer operators who were convicted, but who had to repay money to the Post Office they were wrongly accused of stealing. Sunak backs Davis for his campaigning on this. Stephen Flynn, the SNP leader, says the Conservative party in Scotland is furious about Scotland being taxed to fund a tax cut for England. (See 12.01pm.) Sunak says he won’t comment on the budget. But when he was in Scotland last week, it was clear only the Scottish Conservatives stand up for the energy industry. Flynn says that is not the case. He says up to 100,000 jobs are at risk. Scotland’s jobs and resources are being lost to help Westminster. Will the PM call an election? Sunak says, if Flynn supports the energy sector, why has the SNP not backed government moves to help it. And he says Scotland is now the high-tax capital of the UK. Updated at Starmer says the “rosy picture” Sunak paints of the system is at odds with the lack of confidence women have it. And at Westminster the government has not even allowed a vote on the plan to ban MPs from the estate if they have been accused of sex offences. When will that be allowed? Sunak ignores the question about the vote, but lists other measures the government is taking to help women. Starmer says that claim will be fact checked. He says victims deserve better than this “nonsense”. When will the government commit to matching Labour’s plans to tackle violence against women and girls. Sunak says the government has already implemented a rape review plan. Updated at Starmer says this recommendation should be implemented urgently. He asks Sunak to look again at this. The Sarah Everard murder should have been a watershed, he says. But most rape cases do not lead to charges. How can victims have confidence in the system? Sunak says the rape action review plan is showing considerable progress. ')\n",
      "chunk :  (6, 'Sentences for rape have increased by a third, under a power that Labour voted against. Last year there was a 50% increase in rape charges, he says. And he says while Starmer was at the CPS rape convictions fell. Starmer says there is a world of difference between a code, and binding national standards. Wayne Couzens was not sacked even though he had been accused of indecent exposure. All indecent exposure allegations against serving officers should be investigated, as the report recommends. Will this happen immediately? Sunak says indecent exposure is abhorrent. Any officer charged with a sexually motivated crime should be suspended, he says. Updated at Starmer says concerns about police vetting were first raised in 2012. Labour wants mandatory national vetting standards. Why aren’t they already in place? Sunak says the college of policing has updated its statutory code. And an entire check againt the national police database has been carried out. Keir Starmer asks about the murder of Sarah Everard. He cannot imagine the pain her relatives are going through. The Angiolini report says there is nothing to stop this happening again, he says. Sunak says this was an appalling case. He says the largest ever screening of officers has been carried out. All recommendations in the report are being considered, he says. Updated at Kieran Mullan (Con) asks about food security and support for farmers. Sunak refers to what he told the NFU confernce two weeks ago. One new scheme for farmers opens today, he says. Unlike Labour in Wales, the Tories will not introduce top-down, damaging targets, he says. PMQs begins Rishi Sunak starts with the normal spiel about his engagements including meetings with colleagues. But he will be listening to the budget, he says. Updated at Scottish Tory leader Douglas Ross says he will not vote for budget plan to extend windfall tax on energy firms Kevin Schofield from HuffPost UK has a quote from Douglas Ross saying he will not vote for an extension of the windfall tax. (See 11.54am.) In his story Schofield quotes Ross as saying: The Scottish Conservatives have a clear position. We will always stand up for the livelihoods of the almost 100,000 Scottish workers who depend on our oil and gas industry. Unlike Labour and the SNP who would stop any new developments, we will not support any action that would put those jobs at risk. ')\n",
      "chunk :  (7, \"As such, while I support many of the Budget measures, as Scottish Conservative Leader I will not vote for this extension when it is brought before Parliament. My Scottish Conservative colleagues and I will continue to have robust discussions with the Chancellor on this matter. The BBC’s David Wallace Lockhart says Douglas Ross, the Scottish Tory leader, will refuse to vote for any extension of the windfall tax on oil and energy companies. (See 11.37am.) NEW: Scot Tory leader Douglas Ross will not vote for any extension of the windfall tax on the oil and gas industry.Reports that Jeremy Hunt will announce an extension in his budget shortly.H/T @KevinASchofield— David Wallace Lockhart (@BBCDavidWL) March 6, 2024 Rishi Sunak faces Keir Starmer at PMQs Before the budget we’ve got PMQs. Here is the list of MPs down to ask a question. This is just the list of backbenchers who won the right to ask a question in the ballot, not the full list of MPs who will speak. That’s because the speaker will also choose people not on the list, to ensure questions come in the government/opposition/government/opposition order. On Monday George Galloway said he would try to get a question in today. Given that Rishi Sunak described Galloway’s win in the Rochdale byelection as “beyond alarming”, he may feel entitled to a right of reply. Labour says adopting its plan to abolish non-dom tax status would be 'humiliating U-turn' for Tories Another Labour tax proposal which Jeremy Hunt has lifted for the budget is the plan to abolish non-dom status. The Financial Times has some detail about how Hunt will do this. It says: The chancellor is looking to scrap the two-century old concept of domicile, and change when individuals receive the tax break, the Financial Times has been told. The Treasury declined to comment. Non-domiciled people are UK residents deemed to have their permanent home or “domicile” outside the country. They can currently earn money from abroad without paying UK tax on this for up to 15 years, provided they do not bring any income or capital gains into the country. Hunt will modernise the system, replacing the concept of domicile in tax with a statutory residence test that would define who benefits from a new system of tax privileges. He will also encourage wealthy people to bring their foreign-held assets and money to the UK. \")\n",
      "chunk :  (8, \"Tax experts have long complained the current regime is complicated and disincentivises non-doms from bringing wealth into the country, as they are taxed when they do so. Darren Jones, the shadow chief secretary to the Treasury, has described this as a “humiliating U-turn”. 'Are they really in a position where they're so bereft of any ideas of their own?'Labour's @darrenpjones says if Jeremy Hunt announces he's scrapping the non-dom tax status in the Budget, it will be a 'humiliating u-turn for the Conservatives' pic.twitter.com/UEhRfscpKR— ITV News Politics (@ITVNewsPolitics) March 6, 2024 Jeremy Hunt is expected to extend the windfall tax on energy companies in the budget to help fund his national insurance cut. Extending the windfall tax is a Labour proposal that the Tories used to dismiss, and, according to a Daily Telegraph story, Douglas Ross, the Scottish Conservative leader, is so angry about the move that colleagues thought he might resign. Ross is MP for Moray, in the north-east of Scotland, and he is worried that the potential impact on the oil and gas industry in Scotland will cost the party votes. In their story, Nick Gutteridge, Dominic Penna and Simon Johnson say Ross had a row with Rishi Sunak about this at a reception on Sunday night. They report: The leader of the Scottish Conservatives had doggedly sought out Mr Sunak across the crowded, stifling room, determined to give him a piece of his mind about the Treasury’s plans to extend the windfall tax on North Sea oil and gas giants for an extra year. What followed was a “heated” discussion between the pair, with Mr Ross warning the move would hammer the Tory vote north of the border and the prime minister countering that it was necessary to deliver a National Insurance cut for millions of workers. A clearly dissatisfied Mr Ross then sought out Jeremy Hunt, the chancellor, and delivered a last-ditch plea to him to drop the measure from Wednesday’s budget. While his demands ultimately fell on deaf ears, they prompted severe unease in Downing Street. No 10 began to fear that their party’s Scottish leader was planning to resign in protest at the decision – a move that would have gone down well with core Tory voters in Aberdeenshire, but would have been a disastrous display of disunity on budget day. \")\n",
      "chunk :  (9, 'Normally the shadow chancellor would respond to a Commons statement by the chancellor, but on budget day parliamentary convention means that the leader of the opposition has to do it. Luckily, this is a task Keir Starmer has been preparing for. In his new biography of Starmer (which is excellent – I’ll write about it at more length on another day), Tom Baldwin quotes Starmer aide Chris Ward as saying that soon after Starmer became an MP in 2015 he started thinking about what he would do on days like today. “We’d book afternoons out to practise. There would be a budget and I’d say to him, one day you might have to respond to this, so we’d sit down, go through the Treasury’s figures together, and work out what he would have done if he had been leader,” Ward told Baldwin. Today’s budget has been drafted to hobble Labour as much as possible. In a good article for Politico, Esther Webber explains that there is a long history of chancellors acting like this. She says: Glen O’Hara, professor of modern history at Oxford Brookes University, points to the gaping trade deficit left for Labour in 1964, when outgoing Tory Chancellor Reginald Maudling infamously left a note for his successor reading: “Good luck, old cock … sorry to leave it in such a mess.” Conservative Chancellor Norman Lamont’s pre-election budget in 1992 introduced a lower rate of income tax which Labour opposed, allowing the Tories to portray them as a “high-tax party.” The Tories unexpectedly went on to win the subsequent poll. Jill Rutter, who worked in the Treasury alongside Lamont — and is now part of the UK in a Changing Europe think tank — confirms that “at the time, they all thought they were being super clever in terms of making life difficult for Labour.” She cites more recent examples, too, including former Labour PM Gordon Brown’s introduction of a child poverty target just before the 2010 election — hard for any government not to honor, without appearing monstrous — and Osborne’s own austerity spending cuts ahead of the 2015 election, which proved difficult for Labour to undo without being cast as big spenders. Jeremy Hunt has been posing for the traditional budget day photographs outside No 11 with his red box. ')\n",
      "chunk :  (10, 'How taxes go down and up before and after general elections There is a long history of governing parties cutting taxes in budgets just before general elections, and new governments (often from the same party) whacking them up again in the first budget after polling day. Jeremy Hunt is obviously in election bribe mode today, but this chart, from the Institute for Fiscal Studies thinktank, which covers fiscal events up to last year’s autumn statement, suggests that what he is doing is not unprecedented. Denis Healey did something similar before the 1979 election, which Labour lost, and Geoffrey Howe before 1983, which the Tories won. Jeremy Hunt has been talking about “great budgets” this morning. He did not quite say today’s would be in the list, but in a video broadcast on X this morning, the chancellor said: Great budgets change history. The bit of history I want to change is to show people it is possible, if we stick to a plan through all the ups and downs, through all the challenges, it’s possible to have healthy growth, good public services, and to bring down taxes. Reminder: the economy is in recession, polls suggest 80% of people think public services are in a fairly bad or very bad state, and at the autumn statement the OBR said taxes as a share of GDP were forecast to reach a postwar high in 2028-29. We’re sticking to the plan. pic.twitter.com/kJefyMKndc— HM Treasury (@hmtreasury) March 6, 2024 Updated at Jeremy Hunt told colleagues what was in the budget at an early morning cabinet meeting, and some of them seemed pretty cheerful as they were photographed on the way out. They don’t always emerge from cabinet smiling like this. Perhaps they were told to look positive, or maybe they were just pleased by what they heard. There has been a lot of commentary (eg here) over the last 24 hours about how cutting national insurance by 2p in the pound is unlikely to help the Tories because they tried that in the autumn statement and their poll ratings have not budged. But, as Stephen Bush points out in his Inside Politics briefing for the Financial Times, this argument ignores an important factor motivating Rishi Sunak. Bush says: So how successful was the 2p tax cut? In terms of the Conservative-Labour battle, not at all. Since the last fiscal statement, the polls have if anything worsened for the Conservative party. ')\n",
      "chunk :  (11, 'On Monday, polling by Ipsos put Tory support at 20 per cent, the lowest level since its survey began in 1978. The Conservatives have lost three by-elections on the bounce. But in terms of the internal battle within the Tory party, the national insurance cut has done its job, in that Rishi Sunak is still prime minister. That’s the important political context to understand when Hunt will essentially try to do the same thing with a further 2p cut in national insurance. He will also hope that scrapping the “non-dom” tax regime will cause problems for Labour. On that last aim, he will surely get at least some joy: scrapping the “non-dom” regime is one of Labour’s few tax rises and it is intended to fund many of their promises. Whatever alternative the party rustles up instead may be unpopular or unworkable or both. As far as the country as a whole is concerned, cutting national insurance did not move the dial in November and I doubt it is going to do so in March. And a Budget that doesn’t move the dial may, in the end, fail in its other aim of protecting Sunak from internal revolt. Harriett Baldwin, the Conservative MP who chairs the Commons Treasury committee, told LBC this morning that she “definitely” wants to see an increase in defence spending in the budget. That is also the view of Conservative party members, according to a survey by the ConservativeHome website published yesterday. It is assumed that Tory members want tax cuts above all, but the survey suggests that 74% of them think higher defence spending is more important. They said Jeremy Hunt should increase the defence budget “even if it leaves less room for tax cuts”. Updated at UK fuel duty cut is regressive policy that benefits the wealthy, study finds Retaining the fuel duty cut in the budget is a regressive policy that benefits the wealthiest in society, who will save £60 a year, while those who earn the least will save just £22, according to analysis. Helena Horton has the story here. Related: UK fuel duty cut is regressive policy that benefits the wealthy, study finds 2p cut in national insurance as Jeremy Hunt prepares to reveal full spring budget Good morning. Looking at some of the newspaper front pages this morning, you might assume that it’s all done, and that today’s budget is a “good news” event for the Conservative party (which is in such a dire plight it may have forgotten what good news is). ')\n",
      "chunk :  (12, \"Wednesday's DAILY EXPRESS: Hunt's tax cut gamble will put £900 in workers' pockets#TomorrowsPapersToday pic.twitter.com/m1aDPJoZ7O— Jack Surfleet (@jacksurfleet) March 5, 2024 Wednesday's DAILY TELEGRAPH: Tax cuts spark election talk#TomorrowsPapersToday pic.twitter.com/owfocEnPM0— Jack Surfleet (@jacksurfleet) March 5, 2024 Wednesday's TIMES: Hunt looks to win over voters with £900 tax cut#TomorrowsPapersToday pic.twitter.com/VxsbZmJIcP— Jack Surfleet (@jacksurfleet) March 5, 2024 From what we know, it seems as if Jeremy Hunt is going to test the “election bribe” approach to politics to destruction with a giveaway budget that he hopes will revive his party’s fortunes by anaesthetising memory of the very large tax increases the government has already imposed since 2019, and setting a campaign trap for Labour. But there are three big questions yet to be answered. First, is a 2p cut in national insurance the main story of the budget, or is there something much bigger to come? The 2p cut is now established as fact, but it is not entirely clear whether that is because the Treasury wanted the news out before the budget, or whether it was just forced into confirming what diligent reporting had uncovered. Budgets normally focus on tax changes taking effect in the budget year. But Rishi Sunak is also on record as wanting to cut income tax eventually to 16p in the pound, and sometimes chancellors announce tax cuts they plan to make a year or more in advance. Will we get some of that today? Second, how will Labour react? Hunt will probably fund his tax cut by lifting two of the four tax increases proposed by Labour (which the Tories used to oppose) and by cutting plans for public spending after the election. Many in the Labour party would love to see Starmer promise to reverse any such cuts when he responds to the budget statement. But Starmer wants to fight the general election on terms set by Labour, not Hunt, and so he is unlikely to leap into such an obvious elephant trap. We might not get the full, considered Labour response today, but we will find out in what direction they are heading. \")\n",
      "chunk :  (13, 'The final question is, if this is the most nakedly partisan budget of recent times, will it work? We certainly won’t know for sure today, but by 6pm we might be better placed to have a guess. Here is our overnight story on the budget by Kiran Stacey, Pippa Crerar and Phillip Inman. Related: Jeremy Hunt defies public services alarm with pre-election budget tax cuts And here is Phillip’s guide to what to expect from the budget. Related: What to expect from Jeremy Hunt’s spring budget My colleague Graeme Wearden will be joining me later from the business blog, and we will be covering the budget in full, and then focusing on reaction and analysis. Here is the agenda for the day. 8.30am: Rishi Sunak chairs cabinet, where Jeremy Hunt will brief ministers on what’s in the budget. 12pm: Rishi Sunak faces Keir Starmer at PMQs. 12.30pm: Hunt delivers his budget statement in the Commons. The speech will last about an hour, and when it finishes the budget red book, the Office for Budget Responsibility’s analysis, and all the other budget documentation will be published on the Treasury and OBR websites. 2.30pm: Richard Hughes, chair of the OBR, holds a press conference. 5pm: Hunt addresses a meeting of the backbench Conservative 1922 Committee. If you want to contact me, do try the “send us a message” feature. You’ll see it just below the byline – on the left of the screen, if you are reading on a laptop or a desktop. This is for people who want to message me directly. I find it very useful when people message to point out errors (even typos – no mistake is too small to correct). Often I find your questions very interesting, too. I can’t promise to reply to them all, but I will try to reply to as many as I can, either in the comments below the line; privately (if you leave an email address and that seems more appropriate); or in the main blog, if I think it is a topic of wide interest. Updated at ')\n"
     ]
    }
   ],
   "source": [
    "from semantic_text_splitter import TiktokenTextSplitter\n",
    "\n",
    "# Maximum number of tokens in a chunk\n",
    "max_tokens = 512\n",
    "# Optionally can also have the splitter not trim whitespace for you\n",
    "splitter = TiktokenTextSplitter(\"gpt-3.5-turbo\", trim_chunks=False)\n",
    "\n",
    "chunks = splitter.chunks(document, max_tokens)\n",
    "\n",
    "for chunk in enumerate(chunks): \n",
    "    print(\"chunk : \", chunk)"
   ]
  },
  {
   "cell_type": "markdown",
   "metadata": {},
   "source": [
    "## HuggingFaceTextSplitter"
   ]
  },
  {
   "cell_type": "code",
   "execution_count": null,
   "metadata": {},
   "outputs": [
    {
     "name": "stdout",
     "output_type": "stream",
     "text": [
      "chunk :  (0, ' The latest growth figures are slightly more positive than expected by the OBR in the autumn, for this year and the next two. But it’s still a weak growth outlook by long-term standards. Hunt says the OBR are forecasting: 2024: 0.8% growth, up from 0.7% growth expected in November. 2025: 1.9% growth, up from 1.4% growth expected in November. 2026: 2.2% growth, up from 2% growth expected in November. 2027: 1.8% growth, down from 2% growth expected in November. 2028: 1.7% growth, matching the 1.7% growth expected in November. Hunt is still talking about particular regional investments. His list includes measures for Cambridge, to fund a development corporation there. There will be money for transport there. And there is money for north Wales, including money to fund the renovation of Theatre Clwyd. And the government will be purchasing the Wylfa site on Anglesey, where there are plans for a nuclear power station. Hunt is now talking about measures to address historic underinvestment in nations and regions. He announced the north-east trailblazer devolution deal, he says. And he announced devolution plans for Surrey. He says Keir Starmer, as a Surrey boy, ought to welcome this. And then he shoehorns in a rather feeble joke about Peter Mandelson saying yesterday that Starmer should “shed a few pounds”. If Labour get in, people will be losing more than a few pounds due to their tax plans, he says. Updated at The budget deficit (how much the UK borrows each year to balance the books) falls though the next five years, Hunt says, from 4.2% of GDP in the 2023-24 financial year, to 3.1%, 2.7%, 2.3%, 1.6% and 1.2% by 2028-29. ')\n",
      "chunk :  (1, 'That’s the lowest level of annual borrowing since 2001…. .. but it’s based on very tight spending plans, our colleague Pippa Crerar points out: 💰 Hunt announces borrowing falling to just 1.2% of GDP over next five years.But that’s contingent on very tight spending plans which would mean deep cuts for many already stretched public services incl justice &amp; local govt.— Pippa Crerar (@PippaCrerar) March 6, 2024 Updated at Hunt says the government plan does not envisage growth sustained by immigration. Turning to investment, he says this is the best way to improve productivity. He insists the government record on investment has been strong. In the autumn statement he announced full expensing – making the UK’s tax investment rules the most attractive for any large European economy, he says. He says the government will apply this to leased assets. This change will come in “as soon as it’s affordable”. There will be £200m to extend the recovery loan scheme, he says. And the VAT registration threshold will go up form £85,000 to £90,000, he says. Updated at The latest estimates for UK national debt show that it will be a little higher than expected in the autumn statement, as a share of the economy, in the next two financial years. But, as Hunt points out, he’s still on track to have debt falling as a share of GDP in five years time, meeting his fiscal rule. Here are the new forecasts for public sector net debt (excluding the Bank of England), as a share of the economy: 2024-25: 91.7% of GDP, compared with 91.6% expected in November. 2025-26: 92.8%, compared with 92.7% expected in November. 2026-27: 93.2%, matching the 93.2% expected in November. 2027-28: 93.2%, matching the 93.2% expected in November. 2028-29: 92.9%, compared with 92.8% expected in November That leaves the chancellor with £8.9bn of fiscal headroom to have debt falling at the end of the forecast period – a rather small amount of headroom. Net debt in this Budget looks pretty similar to last time around. ')\n",
      "chunk :  (2, 'Here are the figures.Actually slightly higher in five years’ time than before…So we’re getting FURTHER into debt - not paying it back… pic.twitter.com/DxZ5JAMkgc— Ed Conway (@EdConwaySky) March 6, 2024 Updated at Hunt says OBR forecasting 0.8% growth this year Hunt is now talking about growth. He says the OBR expects growth to be 0.8% this year, and 1.9% next year – higher than previously expected. Hunt claims Labour can only implement its energy policy within fiscal rules by raising taxes Hunt is now reading out the debt figures. He says it is on track to fall as a percentage of GDP, meeting the fiscal rules. And the government is also meeting its rule about having borrowing below 3% of GDP early. If Labour decarbonise the electricity grid by 2030, they will not meet these rules, he says. He says Labour claim it will decarbonise in accordance with its fiscal rules. That can only mean tax rises, he says. Updated at Hunt says, on growth, some think there is a trade off between compassion and social responsiblity. He says he does not accept that. It is only because the Tories cut the deficit that they could afford support for people during Covid. He attacks the Liberal Democrats for having no principles, and says he is pleased Ed Davey is in the chamber to hear this. This was a reference to Davey campaign in Hunt’s own constituency, which is a Lib Dem target seat. Fuel duty freeze extended Hunt says he will maintain the supposedly “temporary” 5p cut in fuel duty. And he will extend the freeze in fuel duty. Updated at The Treasury says extending the duty freeze until next February will cut costs for breweries, distilleries, restaurants, nightclubs, pubs &amp; bars. At the Autumn Statement, we froze alcohol duty for six months to provide stability for businesses.Today we’re extending the duty freeze further – from Aug 2024 to 1 Feb 2025.Cutting costs for breweries, distilleries, restaurants, nightclubs, pubs &amp; bars. pic.twitter.com/hNvjDt8FDW— HM Treasury (@hmtreasury) March 6, 2024 Hunt says freeze in alcohol duty being extended until February 2025 Hunt says he will extend the freeze in alcohol duty until February 2025. ')\n",
      "chunk :  (3, \"The government is backing the “great British pub”, he says. Hunt says he will continue the household support fund – which helps low-income families facing particular financial problems – for another six months. It had been due to wrap up Hunt announces abolition of £90 charge for a debt relief order Hunt says households have had £3,400 in economic support. As a result, real household income is on course to rise, he says. He says he has plans to help those facing debt. For people taking advance loans, he will increase the repayment programme from 12 months to 24 months, he says. For some people a debt relief order will help. But they cost £90, he says. He will abolish that charge. Updated at Hunt says it’s important to grow GDP-per-capita (or per head of population), not just headline GDP. That comes after the latest GDP data showed that GDP-per head (a measure of living standards) fell through 2023, and hasn’t risen for the last seven quarters, as this post from last month shows: Seriously people - look at what's happening in terms of GDP/capita (which is what ultimately matters for our living standards). This is a proper recession just being hidden by having more people - GDP/capita declined 0.7 per cent in 2023 with falls in every single quarter pic.twitter.com/47zOkP5u5m— Torsten Bell (@TorstenBell) February 15, 2024 Updated at Hunt says OBR expects inflation to fall below 2% within months Hunt says Labour’s plans would push up taxes. He turns to the forecasts. First, inflation. It was 11% when he and Rishi Sunak took office. The latest figures show it at 4%, and the OBR forecasts show it falling below the 2% target in just a few months time – a year earlier than forecast in the autumn statement. Hunt claims 'lower taxes mean higher growth' Hunt says he can now offer permanent cuts in taxation. He is doing this to deliver help in challenging times. But it is also because “lower taxes mean higher growth”. He says higher growth cannot come from more immigration. \")\n",
      "chunk :  (4, 'Jessica Frank-Keyes, a reporter for City AM, says the £1m for a memorial to Muslims who died in two world wars is a “nod to current community tensions”: First up, £1m for a memorial to the \"Muslims who died in two world wars in the service of freedom and democracy\".Nod to current community tensions from the Chancellors - \"this country will never forget the sacrifices made\".Quite noisy in the Chamber as Hunt continues..— Jessica Frank-Keyes (@JessicaFKeyes) March 6, 2024 Updated at Hunt is speaking, but there is very loud heckling. Updated at Jeremy Hunt delivers budget statement Jeremy Hunt is deliving the budget statement. He starts by saying MPs mourn the loss of life in Israel and Gaza. He starts recalling the Muslims who died in the two world wars. He will allocated £1m for a memorial for them. He says this is partly in response to a campaign by Sajid Javid. PMQs is over, and the budget statement is about to start. The Labour MP Tonia Antoniazzi says Rishi Sunak is wrong in what he said about Keir Starmer’s record on rape convictions as DPP. (See 12.11pm.) Rape conviction rates rose from 57.7% to 60.3% during @Keir_Starmer’s tenure as Director of Public Prosecutions. Rishi Sunak should retract his lie immediately #PMQs Rape conviction rates rose from 57.7% to 60.3% during @Keir_Starmer’s tenure as Director of Public Prosecutions. Rishi Sunak should retract his lie immediately #PMQs— Tonia Antoniazzi MP (@ToniaAntoniazzi) March 6, 2024 Andrew Gwynne (Lab) asks if Sunak agrees all ministers should publish their tax returns. And has Sunak ever filed a tax return in the US he has not published? Sunak says he does not think it would be proportionate for all ministers to have to publish their tax returns. He says he has been transparent about his own – although he does not specifically address the question about a US tax return. Angela Eagle (Lab) ask what part of his economic legacy Sunak is most proud of: the highest tax burden since the second world war, or the slowest pace of household income growth since the Napoleonic war? Sunak says it is saving 10m jobs during the pandemic. ')\n",
      "chunk :  (5, 'Graham Stringer (Lab) asks about wealth inequalities between the north and the south. Has the levelling-up agenda failed? Sunak claims inequality has declined under this government. And the north has received some of the highest levelling-up funding per capita. And he criticises Labour for not saying what it will do about HS2, and the money from the cancellation of phase two that the Tories are reinvesting. Updated at Sir Jeffrey Donaldson, the DUP leader, asks Sunak if he will continue to press the Irish government to continue to do more to investigate crimes that took place during the Troubles in their jurisdiction. Sunak says he has spoken to the taoiseach on this. He says he wants families to get as much information as possible about these crimes. David Davis, the former Brexit secretary, says the government should pay proper compensation, not just to post officer operators who were convicted, but who had to repay money to the Post Office they were wrongly accused of stealing. Sunak backs Davis for his campaigning on this. Stephen Flynn, the SNP leader, says the Conservative party in Scotland is furious about Scotland being taxed to fund a tax cut for England. (See 12.01pm.) Sunak says he won’t comment on the budget. But when he was in Scotland last week, it was clear only the Scottish Conservatives stand up for the energy industry. Flynn says that is not the case. He says up to 100,000 jobs are at risk. Scotland’s jobs and resources are being lost to help Westminster. Will the PM call an election? Sunak says, if Flynn supports the energy sector, why has the SNP not backed government moves to help it. And he says Scotland is now the high-tax capital of the UK. Updated at Starmer says the “rosy picture” Sunak paints of the system is at odds with the lack of confidence women have it. And at Westminster the government has not even allowed a vote on the plan to ban MPs from the estate if they have been accused of sex offences. When will that be allowed? Sunak ignores the question about the vote, but lists other measures the government is taking to help women. Starmer says that claim will be fact checked. He says victims deserve better than this “nonsense”. When will the government commit to matching Labour’s plans to tackle violence against women and girls. Sunak says the government has already implemented a rape review plan. ')\n",
      "chunk :  (6, 'Updated at Starmer says this recommendation should be implemented urgently. He asks Sunak to look again at this. The Sarah Everard murder should have been a watershed, he says. But most rape cases do not lead to charges. How can victims have confidence in the system? Sunak says the rape action review plan is showing considerable progress. Sentences for rape have increased by a third, under a power that Labour voted against. Last year there was a 50% increase in rape charges, he says. And he says while Starmer was at the CPS rape convictions fell. Starmer says there is a world of difference between a code, and binding national standards. Wayne Couzens was not sacked even though he had been accused of indecent exposure. All indecent exposure allegations against serving officers should be investigated, as the report recommends. Will this happen immediately? Sunak says indecent exposure is abhorrent. Any officer charged with a sexually motivated crime should be suspended, he says. Updated at Starmer says concerns about police vetting were first raised in 2012. Labour wants mandatory national vetting standards. Why aren’t they already in place? Sunak says the college of policing has updated its statutory code. And an entire check againt the national police database has been carried out. Keir Starmer asks about the murder of Sarah Everard. He cannot imagine the pain her relatives are going through. The Angiolini report says there is nothing to stop this happening again, he says. Sunak says this was an appalling case. He says the largest ever screening of officers has been carried out. All recommendations in the report are being considered, he says. Updated at Kieran Mullan (Con) asks about food security and support for farmers. Sunak refers to what he told the NFU confernce two weeks ago. One new scheme for farmers opens today, he says. Unlike Labour in Wales, the Tories will not introduce top-down, damaging targets, he says. PMQs begins Rishi Sunak starts with the normal spiel about his engagements including meetings with colleagues. But he will be listening to the budget, he says. Updated at Scottish Tory leader Douglas Ross says he will not vote for budget plan to extend windfall tax on energy firms Kevin Schofield from HuffPost UK has a quote from Douglas Ross saying he will not vote for an extension of the windfall tax. (See 11.54am.) ')\n",
      "chunk :  (7, \"In his story Schofield quotes Ross as saying: The Scottish Conservatives have a clear position. We will always stand up for the livelihoods of the almost 100,000 Scottish workers who depend on our oil and gas industry. Unlike Labour and the SNP who would stop any new developments, we will not support any action that would put those jobs at risk. As such, while I support many of the Budget measures, as Scottish Conservative Leader I will not vote for this extension when it is brought before Parliament. My Scottish Conservative colleagues and I will continue to have robust discussions with the Chancellor on this matter. The BBC’s David Wallace Lockhart says Douglas Ross, the Scottish Tory leader, will refuse to vote for any extension of the windfall tax on oil and energy companies. (See 11.37am.) NEW: Scot Tory leader Douglas Ross will not vote for any extension of the windfall tax on the oil and gas industry.Reports that Jeremy Hunt will announce an extension in his budget shortly.H/T @KevinASchofield— David Wallace Lockhart (@BBCDavidWL) March 6, 2024 Rishi Sunak faces Keir Starmer at PMQs Before the budget we’ve got PMQs. Here is the list of MPs down to ask a question. This is just the list of backbenchers who won the right to ask a question in the ballot, not the full list of MPs who will speak. That’s because the speaker will also choose people not on the list, to ensure questions come in the government/opposition/government/opposition order. On Monday George Galloway said he would try to get a question in today. Given that Rishi Sunak described Galloway’s win in the Rochdale byelection as “beyond alarming”, he may feel entitled to a right of reply. Labour says adopting its plan to abolish non-dom tax status would be 'humiliating U-turn' for Tories Another Labour tax proposal which Jeremy Hunt has lifted for the budget is the plan to abolish non-dom status. The Financial Times has some detail about how Hunt will do this. It says: The chancellor is looking to scrap the two-century old concept of domicile, and change when individuals receive the tax break, the Financial Times has been told. The Treasury declined to comment. Non-domiciled people are UK residents deemed to have their permanent home or “domicile” outside the country. \")\n",
      "chunk :  (8, \"They can currently earn money from abroad without paying UK tax on this for up to 15 years, provided they do not bring any income or capital gains into the country. Hunt will modernise the system, replacing the concept of domicile in tax with a statutory residence test that would define who benefits from a new system of tax privileges. He will also encourage wealthy people to bring their foreign-held assets and money to the UK. Tax experts have long complained the current regime is complicated and disincentivises non-doms from bringing wealth into the country, as they are taxed when they do so. Darren Jones, the shadow chief secretary to the Treasury, has described this as a “humiliating U-turn”. 'Are they really in a position where they're so bereft of any ideas of their own?'Labour's @darrenpjones says if Jeremy Hunt announces he's scrapping the non-dom tax status in the Budget, it will be a 'humiliating u-turn for the Conservatives' pic.twitter.com/UEhRfscpKR— ITV News Politics (@ITVNewsPolitics) March 6, 2024 Jeremy Hunt is expected to extend the windfall tax on energy companies in the budget to help fund his national insurance cut. Extending the windfall tax is a Labour proposal that the Tories used to dismiss, and, according to a Daily Telegraph story, Douglas Ross, the Scottish Conservative leader, is so angry about the move that colleagues thought he might resign. Ross is MP for Moray, in the north-east of Scotland, and he is worried that the potential impact on the oil and gas industry in Scotland will cost the party votes. In their story, Nick Gutteridge, Dominic Penna and Simon Johnson say Ross had a row with Rishi Sunak about this at a reception on Sunday night. They report: The leader of the Scottish Conservatives had doggedly sought out Mr Sunak across the crowded, stifling room, determined to give him a piece of his mind about the Treasury’s plans to extend the windfall tax on North Sea oil and gas giants for an extra year. What followed was a “heated” discussion between the pair, with Mr Ross warning the move would hammer the Tory vote north of the border and the prime minister countering that it was necessary to deliver a National Insurance cut for millions of workers. \")\n",
      "chunk :  (9, 'A clearly dissatisfied Mr Ross then sought out Jeremy Hunt, the chancellor, and delivered a last-ditch plea to him to drop the measure from Wednesday’s budget. While his demands ultimately fell on deaf ears, they prompted severe unease in Downing Street. No 10 began to fear that their party’s Scottish leader was planning to resign in protest at the decision – a move that would have gone down well with core Tory voters in Aberdeenshire, but would have been a disastrous display of disunity on budget day. Normally the shadow chancellor would respond to a Commons statement by the chancellor, but on budget day parliamentary convention means that the leader of the opposition has to do it. Luckily, this is a task Keir Starmer has been preparing for. In his new biography of Starmer (which is excellent – I’ll write about it at more length on another day), Tom Baldwin quotes Starmer aide Chris Ward as saying that soon after Starmer became an MP in 2015 he started thinking about what he would do on days like today. “We’d book afternoons out to practise. There would be a budget and I’d say to him, one day you might have to respond to this, so we’d sit down, go through the Treasury’s figures together, and work out what he would have done if he had been leader,” Ward told Baldwin. Today’s budget has been drafted to hobble Labour as much as possible. In a good article for Politico, Esther Webber explains that there is a long history of chancellors acting like this. She says: Glen O’Hara, professor of modern history at Oxford Brookes University, points to the gaping trade deficit left for Labour in 1964, when outgoing Tory Chancellor Reginald Maudling infamously left a note for his successor reading: “Good luck, old cock … sorry to leave it in such a mess.” Conservative Chancellor Norman Lamont’s pre-election budget in 1992 introduced a lower rate of income tax which Labour opposed, allowing the Tories to portray them as a “high-tax party.” The Tories unexpectedly went on to win the subsequent poll. Jill Rutter, who worked in the Treasury alongside Lamont — and is now part of the UK in a Changing Europe think tank — confirms that “at the time, they all thought they were being super clever in terms of making life difficult for Labour.” ')\n",
      "chunk :  (10, 'She cites more recent examples, too, including former Labour PM Gordon Brown’s introduction of a child poverty target just before the 2010 election — hard for any government not to honor, without appearing monstrous — and Osborne’s own austerity spending cuts ahead of the 2015 election, which proved difficult for Labour to undo without being cast as big spenders. Jeremy Hunt has been posing for the traditional budget day photographs outside No 11 with his red box. How taxes go down and up before and after general elections There is a long history of governing parties cutting taxes in budgets just before general elections, and new governments (often from the same party) whacking them up again in the first budget after polling day. Jeremy Hunt is obviously in election bribe mode today, but this chart, from the Institute for Fiscal Studies thinktank, which covers fiscal events up to last year’s autumn statement, suggests that what he is doing is not unprecedented. Denis Healey did something similar before the 1979 election, which Labour lost, and Geoffrey Howe before 1983, which the Tories won. Jeremy Hunt has been talking about “great budgets” this morning. He did not quite say today’s would be in the list, but in a video broadcast on X this morning, the chancellor said: Great budgets change history. The bit of history I want to change is to show people it is possible, if we stick to a plan through all the ups and downs, through all the challenges, it’s possible to have healthy growth, good public services, and to bring down taxes. Reminder: the economy is in recession, polls suggest 80% of people think public services are in a fairly bad or very bad state, and at the autumn statement the OBR said taxes as a share of GDP were forecast to reach a postwar high in 2028-29. We’re sticking to the plan. pic.twitter.com/kJefyMKndc— HM Treasury (@hmtreasury) March 6, 2024 Updated at Jeremy Hunt told colleagues what was in the budget at an early morning cabinet meeting, and some of them seemed pretty cheerful as they were photographed on the way out. They don’t always emerge from cabinet smiling like this. Perhaps they were told to look positive, or maybe they were just pleased by what they heard. ')\n",
      "chunk :  (11, 'There has been a lot of commentary (eg here) over the last 24 hours about how cutting national insurance by 2p in the pound is unlikely to help the Tories because they tried that in the autumn statement and their poll ratings have not budged. But, as Stephen Bush points out in his Inside Politics briefing for the Financial Times, this argument ignores an important factor motivating Rishi Sunak. Bush says: So how successful was the 2p tax cut? In terms of the Conservative-Labour battle, not at all. Since the last fiscal statement, the polls have if anything worsened for the Conservative party. On Monday, polling by Ipsos put Tory support at 20 per cent, the lowest level since its survey began in 1978. The Conservatives have lost three by-elections on the bounce. But in terms of the internal battle within the Tory party, the national insurance cut has done its job, in that Rishi Sunak is still prime minister. That’s the important political context to understand when Hunt will essentially try to do the same thing with a further 2p cut in national insurance. He will also hope that scrapping the “non-dom” tax regime will cause problems for Labour. On that last aim, he will surely get at least some joy: scrapping the “non-dom” regime is one of Labour’s few tax rises and it is intended to fund many of their promises. Whatever alternative the party rustles up instead may be unpopular or unworkable or both. As far as the country as a whole is concerned, cutting national insurance did not move the dial in November and I doubt it is going to do so in March. And a Budget that doesn’t move the dial may, in the end, fail in its other aim of protecting Sunak from internal revolt. Harriett Baldwin, the Conservative MP who chairs the Commons Treasury committee, told LBC this morning that she “definitely” wants to see an increase in defence spending in the budget. That is also the view of Conservative party members, according to a survey by the ConservativeHome website published yesterday. It is assumed that Tory members want tax cuts above all, but the survey suggests that 74% of them think higher defence spending is more important. They said Jeremy Hunt should increase the defence budget “even if it leaves less room for tax cuts”. ')\n",
      "chunk :  (12, \"Updated at UK fuel duty cut is regressive policy that benefits the wealthy, study finds Retaining the fuel duty cut in the budget is a regressive policy that benefits the wealthiest in society, who will save £60 a year, while those who earn the least will save just £22, according to analysis. Helena Horton has the story here. Related: UK fuel duty cut is regressive policy that benefits the wealthy, study finds 2p cut in national insurance as Jeremy Hunt prepares to reveal full spring budget Good morning. Looking at some of the newspaper front pages this morning, you might assume that it’s all done, and that today’s budget is a “good news” event for the Conservative party (which is in such a dire plight it may have forgotten what good news is). Wednesday's DAILY EXPRESS: Hunt's tax cut gamble will put £900 in workers' pockets#TomorrowsPapersToday pic.twitter.com/m1aDPJoZ7O— Jack Surfleet (@jacksurfleet) March 5, 2024 Wednesday's DAILY TELEGRAPH: Tax cuts spark election talk#TomorrowsPapersToday pic.twitter.com/owfocEnPM0— Jack Surfleet (@jacksurfleet) March 5, 2024 Wednesday's TIMES: Hunt looks to win over voters with £900 tax cut#TomorrowsPapersToday pic.twitter.com/VxsbZmJIcP— Jack Surfleet (@jacksurfleet) March 5, 2024 From what we know, it seems as if Jeremy Hunt is going to test the “election bribe” approach to politics to destruction with a giveaway budget that he hopes will revive his party’s fortunes by anaesthetising memory of the very large tax increases the government has already imposed since 2019, and setting a campaign trap for Labour. But there are three big questions yet to be answered. First, is a 2p cut in national insurance the main story of the budget, or is there something much bigger to come? The 2p cut is now established as fact, but it is not entirely clear whether that is because the Treasury wanted the news out before the budget, or whether it was just forced into confirming what diligent reporting had uncovered. Budgets normally focus on tax changes taking effect in the budget year. \")\n",
      "chunk :  (13, 'But Rishi Sunak is also on record as wanting to cut income tax eventually to 16p in the pound, and sometimes chancellors announce tax cuts they plan to make a year or more in advance. Will we get some of that today? Second, how will Labour react? Hunt will probably fund his tax cut by lifting two of the four tax increases proposed by Labour (which the Tories used to oppose) and by cutting plans for public spending after the election. Many in the Labour party would love to see Starmer promise to reverse any such cuts when he responds to the budget statement. But Starmer wants to fight the general election on terms set by Labour, not Hunt, and so he is unlikely to leap into such an obvious elephant trap. We might not get the full, considered Labour response today, but we will find out in what direction they are heading. The final question is, if this is the most nakedly partisan budget of recent times, will it work? We certainly won’t know for sure today, but by 6pm we might be better placed to have a guess. Here is our overnight story on the budget by Kiran Stacey, Pippa Crerar and Phillip Inman. Related: Jeremy Hunt defies public services alarm with pre-election budget tax cuts And here is Phillip’s guide to what to expect from the budget. Related: What to expect from Jeremy Hunt’s spring budget My colleague Graeme Wearden will be joining me later from the business blog, and we will be covering the budget in full, and then focusing on reaction and analysis. Here is the agenda for the day. 8.30am: Rishi Sunak chairs cabinet, where Jeremy Hunt will brief ministers on what’s in the budget. 12pm: Rishi Sunak faces Keir Starmer at PMQs. 12.30pm: Hunt delivers his budget statement in the Commons. The speech will last about an hour, and when it finishes the budget red book, the Office for Budget Responsibility’s analysis, and all the other budget documentation will be published on the Treasury and OBR websites. 2.30pm: Richard Hughes, chair of the OBR, holds a press conference. 5pm: Hunt addresses a meeting of the backbench Conservative 1922 Committee. If you want to contact me, do try the “send us a message” feature. You’ll see it just below the byline – on the left of the screen, if you are reading on a laptop or a desktop. ')\n",
      "chunk :  (14, 'This is for people who want to message me directly. I find it very useful when people message to point out errors (even typos – no mistake is too small to correct). Often I find your questions very interesting, too. I can’t promise to reply to them all, but I will try to reply to as many as I can, either in the comments below the line; privately (if you leave an email address and that seems more appropriate); or in the main blog, if I think it is a topic of wide interest. Updated at ')\n"
     ]
    }
   ],
   "source": [
    "from semantic_text_splitter import HuggingFaceTextSplitter\n",
    "from tokenizers import Tokenizer\n",
    "\n",
    "# Maximum number of tokens in a chunk\n",
    "max_tokens = 512\n",
    "tokenizer = Tokenizer.from_pretrained(\"bert-base-uncased\")\n",
    "splitter = HuggingFaceTextSplitter(tokenizer, trim_chunks=False)\n",
    "\n",
    "chunks = splitter.chunks(document, max_tokens)\n",
    "for chunk in enumerate(chunks): \n",
    "    print(\"chunk : \", chunk)"
   ]
  },
  {
   "cell_type": "markdown",
   "metadata": {},
   "source": [
    "# Split articles into chunks :"
   ]
  },
  {
   "cell_type": "code",
   "execution_count": null,
   "metadata": {},
   "outputs": [
    {
     "name": "stdout",
     "output_type": "stream",
     "text": [
      "Number of articles processed so far is : 0 ...\n",
      "Number of articles processed so far is : 100 ...\n",
      "Number of articles processed so far is : 200 ...\n",
      "Number of articles processed so far is : 300 ...\n",
      "Number of articles processed so far is : 400 ...\n",
      "Number of articles processed so far is : 500 ...\n",
      "Number of articles processed so far is : 600 ...\n",
      "Number of articles processed so far is : 700 ...\n",
      "Number of articles processed so far is : 800 ...\n",
      "Number of articles processed so far is : 900 ...\n",
      "Number of articles processed so far is : 1000 ...\n",
      "Number of articles processed so far is : 1100 ...\n",
      "Number of articles processed so far is : 1200 ...\n",
      "Number of articles processed so far is : 1300 ...\n",
      "Number of articles processed so far is : 1400 ...\n",
      "Number of articles processed so far is : 1500 ...\n",
      "Number of articles processed so far is : 1600 ...\n",
      "Number of articles processed so far is : 1700 ...\n",
      "Number of articles processed so far is : 1800 ...\n",
      "Number of articles processed so far is : 1900 ...\n",
      "Number of articles processed so far is : 2000 ...\n",
      "Number of articles processed so far is : 2100 ...\n",
      "Number of articles processed so far is : 2200 ...\n",
      "Number of articles processed so far is : 2300 ...\n",
      "Number of articles processed so far is : 2400 ...\n",
      "Number of articles processed so far is : 2500 ...\n",
      "Number of articles processed so far is : 2600 ...\n",
      "Number of articles processed so far is : 2700 ...\n",
      "Number of articles processed so far is : 2800 ...\n",
      "Number of articles processed so far is : 2900 ...\n",
      "Number of articles processed so far is : 3000 ...\n",
      "Number of articles processed so far is : 3100 ...\n",
      "Number of articles processed so far is : 3200 ...\n",
      "Number of articles processed so far is : 3300 ...\n",
      "Number of articles processed so far is : 3400 ...\n",
      "Number of articles processed so far is : 3500 ...\n",
      "Number of articles processed so far is : 3600 ...\n",
      "Number of articles processed so far is : 3700 ...\n",
      "Number of articles processed so far is : 3800 ...\n",
      "Number of articles processed so far is : 3900 ...\n",
      "Number of articles processed so far is : 4000 ...\n",
      "Number of articles processed so far is : 4100 ...\n",
      "Number of articles processed so far is : 4200 ...\n",
      "Number of articles processed so far is : 4300 ...\n",
      "Number of articles processed so far is : 4400 ...\n",
      "Number of articles processed so far is : 4500 ...\n",
      "Number of articles processed so far is : 4600 ...\n",
      "Number of articles processed so far is : 4700 ...\n",
      "Number of articles processed so far is : 4800 ...\n",
      "Number of articles processed so far is : 4900 ...\n",
      "Number of articles processed so far is : 5000 ...\n",
      "Number of articles processed so far is : 5100 ...\n",
      "Number of articles processed so far is : 5200 ...\n",
      "Number of articles processed so far is : 5300 ...\n",
      "Number of articles processed so far is : 5400 ...\n",
      "Number of articles processed so far is : 5500 ...\n",
      "Number of articles processed so far is : 5600 ...\n",
      "Number of articles processed so far is : 5700 ...\n",
      "Number of articles processed so far is : 5800 ...\n",
      "Number of articles processed so far is : 5900 ...\n",
      "Number of articles processed so far is : 6000 ...\n",
      "Number of articles processed so far is : 6100 ...\n",
      "Number of articles processed so far is : 6200 ...\n",
      "Number of articles processed so far is : 6300 ...\n",
      "Number of articles processed so far is : 6400 ...\n",
      "Number of articles processed so far is : 6500 ...\n",
      "Number of articles processed so far is : 6600 ...\n",
      "Number of articles processed so far is : 6700 ...\n",
      "Number of articles processed so far is : 6800 ...\n",
      "Number of articles processed so far is : 6900 ...\n",
      "Number of articles processed so far is : 7000 ...\n",
      "Number of articles processed so far is : 7100 ...\n",
      "Number of articles processed so far is : 7200 ...\n",
      "Number of articles processed so far is : 7300 ...\n",
      "Number of articles processed so far is : 7400 ...\n",
      "Number of articles processed so far is : 7500 ...\n",
      "Number of articles processed so far is : 7600 ...\n",
      "Number of articles processed so far is : 7700 ...\n",
      "Number of articles processed so far is : 7800 ...\n",
      "Number of articles processed so far is : 7900 ...\n"
     ]
    },
    {
     "data": {
      "text/plain": [
       "Dataset({\n",
       "    features: ['Title', 'Content'],\n",
       "    num_rows: 26509\n",
       "})"
      ]
     },
     "execution_count": 51,
     "metadata": {},
     "output_type": "execute_result"
    }
   ],
   "source": [
    "chunked_articles =[]\n",
    "chunked_titles = []\n",
    "for i in range(len(collected_articles)):  \n",
    "    article = collected_articles[i]['Content']\n",
    "    title =collected_articles[i]['Title']\n",
    "    max_tokens = 512 \n",
    "    splitter = TiktokenTextSplitter(\"gpt-3.5-turbo\", trim_chunks=False)\n",
    "    chunks = splitter.chunks(article, max_tokens)\n",
    "    if i%100 ==0: \n",
    "        print(f\"Number of articles processed so far is : {i} ...\")\n",
    "    for chunk in chunks:\n",
    "        chunked_articles.append(chunk)\n",
    "        chunked_titles.append(title)\n",
    "data_dict = {\n",
    "    \"Title\": chunked_titles,\n",
    "    \"Content\": chunked_articles,\n",
    "}\n",
    "dataset = Dataset.from_dict(data_dict)\n",
    "dataset"
   ]
  },
  {
   "cell_type": "markdown",
   "metadata": {},
   "source": [
    "# Embedding into vectors :"
   ]
  },
  {
   "cell_type": "code",
   "execution_count": null,
   "metadata": {},
   "outputs": [],
   "source": [
    "from transformers import BertTokenizer , BertModel\n",
    "\n",
    "tokenizer =BertTokenizer.from_pretrained('bert-base-uncased')\n",
    "model =BertModel.from_pretrained('bert-base-uncased')"
   ]
  },
  {
   "cell_type": "code",
   "execution_count": null,
   "metadata": {},
   "outputs": [],
   "source": [
    "def mean_pooling(model_output , attention_mask):\n",
    "    token_embeddings = model_output[0]\n",
    "    input_mask_expanded =(attention_mask.unsqueeze(-1).expand(token_embeddings.size()).float())\n",
    "    sum_embeddings=torch.sum(token_embeddings * input_mask_expanded , 1)\n",
    "    sum_mask =torch.clamp(input_mask_expanded.sum(1) , min=1e-9)\n",
    "    return sum_embeddings /sum_mask"
   ]
  },
  {
   "cell_type": "code",
   "execution_count": null,
   "metadata": {},
   "outputs": [],
   "source": [
    "def embed_text(examples):\n",
    "    inputs= tokenizer(\n",
    "        examples[\"Content\"],padding=True , truncation=True , return_tensors =\"pt\"\n",
    "    )\n",
    "    with torch.no_grad():\n",
    "        model_output= model(**inputs)\n",
    "    pooled_embeds = mean_pooling(model_output , inputs[\"attention_mask\"])\n",
    "    return {\"embedding\":pooled_embeds.cpu().numpy()}"
   ]
  },
  {
   "cell_type": "code",
   "execution_count": null,
   "metadata": {},
   "outputs": [
    {
     "name": "stderr",
     "output_type": "stream",
     "text": [
      "Map: 100%|██████████| 8000/8000 [2:29:09<00:00,  1.12s/ examples]  \n"
     ]
    }
   ],
   "source": [
    "small_set = (\n",
    "    dataset.shuffle(seed=42)\n",
    "           .select(range(200))\n",
    "           .map(embed_text , batched =True , batch_size =128)\n",
    ")"
   ]
  },
  {
   "cell_type": "code",
   "execution_count": null,
   "metadata": {},
   "outputs": [
    {
     "name": "stdout",
     "output_type": "stream",
     "text": [
      "(768,)\n"
     ]
    }
   ],
   "source": [
    "import numpy as np\n",
    "\n",
    "embedding_list = small_set[0][\"embedding\"]\n",
    "embedding_array = np.array(embedding_list)\n",
    "print(embedding_array.shape)"
   ]
  },
  {
   "cell_type": "code",
   "execution_count": null,
   "metadata": {},
   "outputs": [],
   "source": [
    "def check_similarity(embedding1, embedding2):\n",
    "    # Ensure both embeddings are tensors\n",
    "    embedding1 = torch.tensor(embedding1)\n",
    "    embedding2 = torch.tensor(embedding2)\n",
    "    \n",
    "    # Reshape the embeddings\n",
    "    embedding1 = embedding1.reshape(1, -1)\n",
    "    embedding2 = embedding2.reshape(1, -1)\n",
    "    \n",
    "    similarity = torch.cosine_similarity(embedding1, embedding2).item()\n",
    "    return similarity\n",
    "\n",
    "\n",
    "def eliminate_duplicates(embeddings, threshold=1):\n",
    "    unique_embeddings = [embeddings[0]]\n",
    "    for emb in embeddings[1:]:\n",
    "        similarities = [check_similarity(emb, unique_emb) for unique_emb in unique_embeddings]\n",
    "        max_similarity = max(similarities, default=0)  # Default to 0 if no similarities found\n",
    "        if max_similarity < threshold:\n",
    "            unique_embeddings.append(emb)\n",
    "        else:\n",
    "            print(\"Duplicate found!\")\n",
    "    return unique_embeddings\n",
    "\n",
    "from collections import defaultdict\n",
    "\n",
    "def remove_duplicate_vectors(vectors):\n",
    "    \"\"\"\n",
    "    This function removes duplicates embeddings from a list of embeddings\n",
    "\n",
    "    Returns:\n",
    "        A list containing unique embeddings\n",
    "    \"\"\"\n",
    "    unique_vectors = []\n",
    "    unique_vector_indices = defaultdict(list)\n",
    "    for i, vector in enumerate(vectors):\n",
    "        unique_vector_indices[tuple(vector)].append(i)\n",
    "    for vector, indices in unique_vector_indices.items():\n",
    "        unique_vectors.append(vector)\n",
    "  \n",
    "    return unique_vectors\n",
    "\n",
    "unique_embeddings = remove_duplicate_vectors(embedding_array)"
   ]
  },
  {
   "cell_type": "code",
   "execution_count": null,
   "metadata": {},
   "outputs": [],
   "source": [
    "#check if there are any duplicates in the embeddings to eliminate them\n",
    "unique_embeddings = eliminate_duplicates(unique_embeddings, threshold=1)\n",
    "small_set[0][\"embedding\"] = unique_embeddings"
   ]
  },
  {
   "cell_type": "markdown",
   "metadata": {},
   "source": [
    "# News documents pretraitement  :"
   ]
  },
  {
   "cell_type": "code",
   "execution_count": null,
   "metadata": {},
   "outputs": [
    {
     "ename": "NameError",
     "evalue": "name 'collected_articles' is not defined",
     "output_type": "error",
     "traceback": [
      "\u001b[1;31m---------------------------------------------------------------------------\u001b[0m",
      "\u001b[1;31mNameError\u001b[0m                                 Traceback (most recent call last)",
      "Cell \u001b[1;32mIn[1], line 1\u001b[0m\n\u001b[1;32m----> 1\u001b[0m NUMBER_OF_DOCS_COLLECTED \u001b[38;5;241m=\u001b[39m\u001b[38;5;28mlen\u001b[39m(\u001b[43mcollected_articles\u001b[49m)\n\u001b[0;32m      3\u001b[0m n_rows \u001b[38;5;241m=\u001b[39m\u001b[38;5;28mrange\u001b[39m(\u001b[38;5;28mlen\u001b[39m(small_set))\n\u001b[0;32m      4\u001b[0m small_set \u001b[38;5;241m=\u001b[39msmall_set\u001b[38;5;241m.\u001b[39madd_column(\u001b[38;5;124m\"\u001b[39m\u001b[38;5;124midx\u001b[39m\u001b[38;5;124m\"\u001b[39m , n_rows)\n",
      "\u001b[1;31mNameError\u001b[0m: name 'collected_articles' is not defined"
     ]
    }
   ],
   "source": [
    "NUMBER_OF_DOCS_COLLECTED =len(collected_articles)\n",
    "\n",
    "n_rows =range(len(small_set))\n",
    "small_set =small_set.add_column(\"idx\" , n_rows)"
   ]
  },
  {
   "cell_type": "code",
   "execution_count": null,
   "metadata": {},
   "outputs": [
    {
     "data": {
      "text/plain": [
       "Dataset({\n",
       "    features: ['Title', 'Content', 'embedding', 'idx'],\n",
       "    num_rows: 8000\n",
       "})"
      ]
     },
     "execution_count": 58,
     "metadata": {},
     "output_type": "execute_result"
    }
   ],
   "source": [
    "small_set"
   ]
  },
  {
   "cell_type": "markdown",
   "metadata": {},
   "source": [
    "# Qdrant vectorial database : "
   ]
  },
  {
   "cell_type": "code",
   "execution_count": 1,
   "metadata": {},
   "outputs": [
    {
     "name": "stderr",
     "output_type": "stream",
     "text": [
      "c:\\Users\\rachi\\AppData\\Local\\Programs\\Python\\Python312\\Lib\\site-packages\\tqdm\\auto.py:21: TqdmWarning: IProgress not found. Please update jupyter and ipywidgets. See https://ipywidgets.readthedocs.io/en/stable/user_install.html\n",
      "  from .autonotebook import tqdm as notebook_tqdm\n"
     ]
    }
   ],
   "source": [
    "from qdrant_client import QdrantClient\n",
    "from qdrant_client.models import Distance, VectorParams\n",
    "import numpy as np\n",
    "from qdrant_client.models import PointStruct\n",
    "from datasets import load_dataset\n",
    "from qdrant_client.http import models\n",
    "from qdrant_client.http.models import CollectionStatus"
   ]
  },
  {
   "cell_type": "code",
   "execution_count": null,
   "metadata": {},
   "outputs": [],
   "source": [
    "# QDRANT_KEY = 'NfNrrb963-CNc5SG7AjL0VbEEvBWCCNXsLXNIbtoNCiEQrUSeU61zA' "
   ]
  },
  {
   "cell_type": "code",
   "execution_count": 2,
   "metadata": {},
   "outputs": [],
   "source": [
    "client = QdrantClient(\n",
    "    url=\"https://5c32ac64-b1f7-4665-91eb-e321a98c02f6.europe-west3-0.gcp.cloud.qdrant.io:6333\",\n",
    "    api_key=\"Wd_RTregmznFMCyDLagJHM_7a5TjJJuFLVTuMgfjQD44-BHLnhYbUg\",\n",
    ")"
   ]
  },
  {
   "cell_type": "code",
   "execution_count": 6,
   "metadata": {},
   "outputs": [
    {
     "data": {
      "text/plain": [
       "CollectionInfo(status=<CollectionStatus.GREEN: 'green'>, optimizer_status=<OptimizersStatusOneOf.OK: 'ok'>, vectors_count=244, indexed_vectors_count=0, points_count=244, segments_count=2, config=CollectionConfig(params=CollectionParams(vectors=VectorParams(size=768, distance=<Distance.COSINE: 'Cosine'>, hnsw_config=None, quantization_config=None, on_disk=None), shard_number=1, sharding_method=None, replication_factor=1, write_consistency_factor=1, read_fan_out_factor=None, on_disk_payload=True, sparse_vectors=None), hnsw_config=HnswConfig(m=16, ef_construct=100, full_scan_threshold=10000, max_indexing_threads=0, on_disk=False, payload_m=None), optimizer_config=OptimizersConfig(deleted_threshold=0.2, vacuum_min_vector_number=1000, default_segment_number=0, max_segment_size=None, memmap_threshold=None, indexing_threshold=20000, flush_interval_sec=5, max_optimization_threads=None), wal_config=WalConfig(wal_capacity_mb=32, wal_segments_ahead=0), quantization_config=None), payload_schema={})"
      ]
     },
     "execution_count": 6,
     "metadata": {},
     "output_type": "execute_result"
    }
   ],
   "source": [
    "COLLECTION_NAME = 'News_test'\n",
    "client.get_collection(collection_name=COLLECTION_NAME )"
   ]
  },
  {
   "cell_type": "code",
   "execution_count": 3,
   "metadata": {},
   "outputs": [
    {
     "data": {
      "text/plain": [
       "True"
      ]
     },
     "execution_count": 3,
     "metadata": {},
     "output_type": "execute_result"
    }
   ],
   "source": [
    "COLLECTION_NAME = 'News_test'\n",
    "client.create_collection(collection_name=COLLECTION_NAME,vectors_config=models.VectorParams(size=768, distance=models.Distance.COSINE))"
   ]
  },
  {
   "cell_type": "code",
   "execution_count": 45,
   "metadata": {},
   "outputs": [
    {
     "name": "stdout",
     "output_type": "stream",
     "text": [
      "b4e594ea-addf-444c-ae0f-0a1da0ebafe4\n"
     ]
    },
    {
     "data": {
      "text/plain": [
       "UpdateResult(operation_id=7, status=<UpdateStatus.COMPLETED: 'completed'>)"
      ]
     },
     "execution_count": 45,
     "metadata": {},
     "output_type": "execute_result"
    }
   ],
   "source": [
    "import uuid\n",
    "\n",
    "myuuid = uuid.uuid4()\n",
    "myuuidStr = str(myuuid)\n",
    "print(myuuidStr)\n",
    "\n",
    "\n",
    "myuuid = uuid.uuid4()\n",
    "client.upsert(\n",
    "    collection_name=COLLECTION_NAME,\n",
    "    points=models.Batch(\n",
    "        ids=[myuuidStr],  # Convert UUID to string\n",
    "        payloads=[\n",
    "            {\"color\": \"red\"},\n",
    "        ],\n",
    "        vectors=[\n",
    "            [0.9, 0.1, 0.1],\n",
    "        ],\n",
    "    ),\n",
    ")\n"
   ]
  },
  {
   "cell_type": "code",
   "execution_count": 14,
   "metadata": {},
   "outputs": [
    {
     "name": "stdout",
     "output_type": "stream",
     "text": [
      "Deleting vectors with ids: [1, 2, 3, 4, 5, 6, 7, 8, 9, 10, 11, 12, 13, 14, 15, 16, 17, 18, 19, 20, 21, 22, 23, 24, 25, 26, 27, 28, 29, 30, 31, 32, 33, 34, 35, 36, 37, 38, 39, 40, 41, 42, 43, 44, 45, 46, 47, 48, 49, 50, 51, 52, 53, 54, 55, 56, 57, 58, 59, 60, 61, 62, 63, 64, 65, 66, 67, 68, 69, 70, 71, 72, 73, 74, 75, 76, 77, 78, 79, 80, 81, 82, 83, 84, 85, 86, 87, 88, 89, 90, 91, 92, 93, 94, 95, 96, 97, 98, 99, 100, 101, 102, 103, 104, 105, 106, 107, 108, 109, 110, 111, 112, 113, 114, 115, 116, 117, 118, 119, 120, 121, 122, 123, 124, 125, 126, 127, 128, 129, 130, 131, 132, 133, 134, 135, 136, 137, 138, 139, 140, 141, 142, 143, 144, 145, 146, 147, 148, 149, 150, 151, 152, 153, 154, 155, 156, 157, 158, 159, 160, 161, 162, 163, 164, 165, 166, 167, 168, 169, 170, 171, 172, 173, 174, 175, 176, 177, 178, 179, 180, 181, 182, 183, 184, 185, 186, 187, 188, 189, 190, 191, 192, 193, 194, 195, 196, 197, 198, 199, 200, 201, 202, 203, 204, 205, 206, 207, 208, 209, 210, 211, 212, 213, 214, 215, 216, 217, 218, 219, 220, 221, 222, 223, 224, 225, 226, 227, 228, 229, 230, 231, 232, 233, 234, 235, 236, 237, 238, 239, 240, 241, 242, 243, 244, 245, 246, 247, 248, 249, 250, 251, 252, 253, 254, 255, 256, 257, 258, 259, 260, 261, 262, 263, 264, 265, 266, 267, 268, 269, 270, 271, 272, 273, 274, 275, 276, 277, 278, 279, 280, 281, 282, 283, 284, 285, 286, 287, 288, 289, 290, 291, 292, 293, 294, 295, 296, 297, 298, 299, 300, 301, 302, 303, 304, 305, 306, 307, 308, 309, 310, 311, 312, 313, 314, 315, 316, 317, 318, 319, 320, 321, 322, 323, 324, 325, 326, 327, 328, 329, 330, 331, 332, 333, 334, 335, 336, 337, 338, 339, 340, 341, 342, 343, 344, 345, 346, 347, 348, 349, 350, 351, 352, 353, 354, 355, 356, 357, 358, 359, 360, 361, 362, 363, 364, 365, 366, 367, 368, 369, 370, 371, 372, 373, 374, 375, 376, 377, 378, 379, 380, 381, 382, 383, 384, 385, 386, 387, 388, 389, 390, 391, 392, 393, 394, 395, 396, 397, 398, 399, 400, 401, 402, 403, 404, 405, 406, 407, 408, 409, 410, 411, 412, 413, 414, 415, 416, 417, 418, 419, 420, 421, 422, 423, 424, 425, 426, 427, 428, 429, 430, 431, 432, 433, 434, 435, 436, 437, 438, 439, 440, 441, 442, 443, 444, 445, 446, 447, 448, 449, 450, 451, 452, 453, 454, 455, 456, 457, 458, 459, 460, 461, 462, 463, 464, 465, 466, 467, 468, 469, 470, 471, 472, 473, 474, 475, 476, 477, 478, 479, 480, 481, 482, 483, 484, 485, 486, 487, 488, 489, 490, 491, 492, 493, 494, 495, 496, 497, 498, 499, 500, 501, 502, 503, 504, 505, 506, 507, 508, 509, 510, 511, 512, 513, 514, 515, 516, 517, 518, 519, 520, 521, 522, 523, 524, 525, 526, 527, 528, 529, 530, 531, 532, 533, 534, 535, 536, 537, 538, 539, 540, 541, 542, 543, 544, 545, 546]\n"
     ]
    },
    {
     "data": {
      "text/plain": [
       "UpdateResult(operation_id=19, status=<UpdateStatus.COMPLETED: 'completed'>)"
      ]
     },
     "execution_count": 14,
     "metadata": {},
     "output_type": "execute_result"
    }
   ],
   "source": [
    "ids_to_delete = list(range(1, 547))\n",
    "print(\"Deleting vectors with ids:\", ids_to_delete)\n",
    "\n",
    "client.delete(\n",
    "    collection_name= COLLECTION_NAME,\n",
    "    points_selector=models.PointIdsList(\n",
    "        points= ids_to_delete,\n",
    "    ),\n",
    ")"
   ]
  },
  {
   "cell_type": "code",
   "execution_count": 64,
   "metadata": {},
   "outputs": [
    {
     "name": "stdout",
     "output_type": "stream",
     "text": [
      "Number of vectors in the collection: 12445\n"
     ]
    }
   ],
   "source": [
    "COLLECTION_NAME = \"News\"\n",
    "collection_info = client.get_collection(COLLECTION_NAME)\n",
    "num_vectors = collection_info.points_count \n",
    "print(\"Number of vectors in the collection:\", num_vectors)"
   ]
  },
  {
   "cell_type": "code",
   "execution_count": null,
   "metadata": {},
   "outputs": [
    {
     "name": "stdout",
     "output_type": "stream",
     "text": [
      "Uploaded: 25 documents to the Qdrant database\n",
      "Uploaded: 25 documents to the Qdrant database\n",
      "Uploaded: 25 documents to the Qdrant database\n",
      "Uploaded: 25 documents to the Qdrant database\n",
      "Uploaded: 25 documents to the Qdrant database\n",
      "Uploaded: 25 documents to the Qdrant database\n",
      "Uploaded: 25 documents to the Qdrant database\n",
      "Uploaded: 25 documents to the Qdrant database\n",
      "Uploaded: 25 documents to the Qdrant database\n",
      "Uploaded: 25 documents to the Qdrant database\n",
      "Uploaded: 25 documents to the Qdrant database\n",
      "Uploaded: 25 documents to the Qdrant database\n",
      "Uploaded: 25 documents to the Qdrant database\n",
      "Uploaded: 25 documents to the Qdrant database\n",
      "Uploaded: 25 documents to the Qdrant database\n",
      "Uploaded: 25 documents to the Qdrant database\n",
      "Uploaded: 25 documents to the Qdrant database\n",
      "Uploaded: 25 documents to the Qdrant database\n",
      "Uploaded: 25 documents to the Qdrant database\n",
      "Uploaded: 25 documents to the Qdrant database\n",
      "Uploaded: 25 documents to the Qdrant database\n",
      "Uploaded: 25 documents to the Qdrant database\n",
      "Uploaded: 25 documents to the Qdrant database\n",
      "Uploaded: 25 documents to the Qdrant database\n",
      "Uploaded: 25 documents to the Qdrant database\n",
      "Uploaded: 25 documents to the Qdrant database\n",
      "Uploaded: 25 documents to the Qdrant database\n",
      "Uploaded: 25 documents to the Qdrant database\n",
      "Uploaded: 25 documents to the Qdrant database\n",
      "Uploaded: 25 documents to the Qdrant database\n",
      "Uploaded: 25 documents to the Qdrant database\n",
      "Uploaded: 25 documents to the Qdrant database\n",
      "Uploaded: 25 documents to the Qdrant database\n",
      "Uploaded: 25 documents to the Qdrant database\n",
      "Uploaded: 25 documents to the Qdrant database\n",
      "Uploaded: 25 documents to the Qdrant database\n",
      "Uploaded: 25 documents to the Qdrant database\n",
      "Uploaded: 25 documents to the Qdrant database\n",
      "Uploaded: 25 documents to the Qdrant database\n",
      "Uploaded: 25 documents to the Qdrant database\n",
      "Uploaded: 25 documents to the Qdrant database\n",
      "Uploaded: 25 documents to the Qdrant database\n",
      "Uploaded: 25 documents to the Qdrant database\n",
      "Uploaded: 25 documents to the Qdrant database\n",
      "Uploaded: 25 documents to the Qdrant database\n",
      "Uploaded: 25 documents to the Qdrant database\n",
      "Uploaded: 25 documents to the Qdrant database\n",
      "Uploaded: 25 documents to the Qdrant database\n",
      "Uploaded: 25 documents to the Qdrant database\n",
      "Uploaded: 25 documents to the Qdrant database\n",
      "Uploaded: 25 documents to the Qdrant database\n",
      "Uploaded: 25 documents to the Qdrant database\n",
      "Uploaded: 25 documents to the Qdrant database\n",
      "Uploaded: 25 documents to the Qdrant database\n",
      "Uploaded: 25 documents to the Qdrant database\n",
      "Uploaded: 25 documents to the Qdrant database\n",
      "Uploaded: 25 documents to the Qdrant database\n",
      "Uploaded: 25 documents to the Qdrant database\n",
      "Uploaded: 25 documents to the Qdrant database\n",
      "Uploaded: 25 documents to the Qdrant database\n",
      "Uploaded: 25 documents to the Qdrant database\n",
      "Uploaded: 25 documents to the Qdrant database\n",
      "Uploaded: 25 documents to the Qdrant database\n",
      "Uploaded: 25 documents to the Qdrant database\n",
      "Uploaded: 25 documents to the Qdrant database\n",
      "Uploaded: 25 documents to the Qdrant database\n",
      "Uploaded: 25 documents to the Qdrant database\n",
      "Uploaded: 25 documents to the Qdrant database\n",
      "Uploaded: 25 documents to the Qdrant database\n",
      "Uploaded: 25 documents to the Qdrant database\n",
      "Uploaded: 25 documents to the Qdrant database\n",
      "Uploaded: 25 documents to the Qdrant database\n",
      "Uploaded: 25 documents to the Qdrant database\n",
      "Uploaded: 25 documents to the Qdrant database\n",
      "Uploaded: 25 documents to the Qdrant database\n",
      "Uploaded: 25 documents to the Qdrant database\n",
      "Uploaded: 25 documents to the Qdrant database\n",
      "Uploaded: 25 documents to the Qdrant database\n",
      "Uploaded: 25 documents to the Qdrant database\n",
      "Uploaded: 25 documents to the Qdrant database\n",
      "Uploaded: 25 documents to the Qdrant database\n",
      "Uploaded: 25 documents to the Qdrant database\n",
      "Uploaded: 25 documents to the Qdrant database\n",
      "Uploaded: 25 documents to the Qdrant database\n",
      "Uploaded: 25 documents to the Qdrant database\n",
      "Uploaded: 25 documents to the Qdrant database\n",
      "Uploaded: 25 documents to the Qdrant database\n",
      "Uploaded: 25 documents to the Qdrant database\n",
      "Uploaded: 25 documents to the Qdrant database\n",
      "Uploaded: 25 documents to the Qdrant database\n",
      "Uploaded: 25 documents to the Qdrant database\n",
      "Uploaded: 25 documents to the Qdrant database\n",
      "Uploaded: 25 documents to the Qdrant database\n",
      "Uploaded: 25 documents to the Qdrant database\n",
      "Uploaded: 25 documents to the Qdrant database\n",
      "Uploaded: 25 documents to the Qdrant database\n",
      "Uploaded: 25 documents to the Qdrant database\n",
      "Uploaded: 25 documents to the Qdrant database\n",
      "Uploaded: 25 documents to the Qdrant database\n",
      "Uploaded: 25 documents to the Qdrant database\n",
      "Uploaded: 25 documents to the Qdrant database\n",
      "Uploaded: 25 documents to the Qdrant database\n",
      "Uploaded: 25 documents to the Qdrant database\n",
      "Uploaded: 25 documents to the Qdrant database\n",
      "Uploaded: 25 documents to the Qdrant database\n",
      "Uploaded: 25 documents to the Qdrant database\n",
      "Uploaded: 25 documents to the Qdrant database\n",
      "Uploaded: 25 documents to the Qdrant database\n",
      "Uploaded: 25 documents to the Qdrant database\n",
      "Uploaded: 25 documents to the Qdrant database\n",
      "Uploaded: 25 documents to the Qdrant database\n",
      "Uploaded: 25 documents to the Qdrant database\n",
      "Uploaded: 25 documents to the Qdrant database\n",
      "Uploaded: 25 documents to the Qdrant database\n",
      "Uploaded: 25 documents to the Qdrant database\n",
      "Uploaded: 25 documents to the Qdrant database\n",
      "Uploaded: 25 documents to the Qdrant database\n",
      "Uploaded: 25 documents to the Qdrant database\n",
      "Uploaded: 25 documents to the Qdrant database\n",
      "Uploaded: 25 documents to the Qdrant database\n",
      "Uploaded: 25 documents to the Qdrant database\n",
      "Uploaded: 25 documents to the Qdrant database\n",
      "Uploaded: 25 documents to the Qdrant database\n",
      "Uploaded: 25 documents to the Qdrant database\n",
      "Uploaded: 25 documents to the Qdrant database\n",
      "Uploaded: 25 documents to the Qdrant database\n",
      "Uploaded: 25 documents to the Qdrant database\n",
      "Uploaded: 25 documents to the Qdrant database\n",
      "Uploaded: 25 documents to the Qdrant database\n",
      "Uploaded: 25 documents to the Qdrant database\n",
      "Uploaded: 25 documents to the Qdrant database\n",
      "Uploaded: 25 documents to the Qdrant database\n",
      "Uploaded: 25 documents to the Qdrant database\n",
      "Uploaded: 25 documents to the Qdrant database\n",
      "Uploaded: 25 documents to the Qdrant database\n",
      "Uploaded: 25 documents to the Qdrant database\n",
      "Uploaded: 25 documents to the Qdrant database\n",
      "Uploaded: 25 documents to the Qdrant database\n",
      "Uploaded: 25 documents to the Qdrant database\n",
      "Uploaded: 25 documents to the Qdrant database\n",
      "Uploaded: 25 documents to the Qdrant database\n",
      "Uploaded: 25 documents to the Qdrant database\n",
      "Uploaded: 25 documents to the Qdrant database\n",
      "Uploaded: 25 documents to the Qdrant database\n",
      "Uploaded: 25 documents to the Qdrant database\n",
      "Uploaded: 25 documents to the Qdrant database\n",
      "Uploaded: 25 documents to the Qdrant database\n",
      "Uploaded: 25 documents to the Qdrant database\n",
      "Uploaded: 25 documents to the Qdrant database\n",
      "Uploaded: 25 documents to the Qdrant database\n",
      "Uploaded: 25 documents to the Qdrant database\n",
      "Uploaded: 25 documents to the Qdrant database\n",
      "Uploaded: 25 documents to the Qdrant database\n",
      "Uploaded: 25 documents to the Qdrant database\n",
      "Uploaded: 25 documents to the Qdrant database\n",
      "Uploaded: 25 documents to the Qdrant database\n",
      "Uploaded: 25 documents to the Qdrant database\n",
      "Uploaded: 25 documents to the Qdrant database\n",
      "Uploaded: 25 documents to the Qdrant database\n",
      "Uploaded: 25 documents to the Qdrant database\n",
      "Uploaded: 25 documents to the Qdrant database\n",
      "Uploaded: 25 documents to the Qdrant database\n",
      "Uploaded: 25 documents to the Qdrant database\n",
      "Uploaded: 25 documents to the Qdrant database\n",
      "Uploaded: 25 documents to the Qdrant database\n",
      "Uploaded: 25 documents to the Qdrant database\n",
      "Uploaded: 25 documents to the Qdrant database\n",
      "Uploaded: 25 documents to the Qdrant database\n",
      "Uploaded: 25 documents to the Qdrant database\n",
      "Uploaded: 25 documents to the Qdrant database\n",
      "Uploaded: 25 documents to the Qdrant database\n",
      "Uploaded: 25 documents to the Qdrant database\n",
      "Uploaded: 25 documents to the Qdrant database\n",
      "Uploaded: 25 documents to the Qdrant database\n",
      "Uploaded: 25 documents to the Qdrant database\n",
      "Uploaded: 25 documents to the Qdrant database\n",
      "Uploaded: 25 documents to the Qdrant database\n",
      "Uploaded: 25 documents to the Qdrant database\n",
      "Uploaded: 25 documents to the Qdrant database\n",
      "Uploaded: 25 documents to the Qdrant database\n",
      "Uploaded: 25 documents to the Qdrant database\n",
      "Uploaded: 25 documents to the Qdrant database\n",
      "Uploaded: 25 documents to the Qdrant database\n",
      "Uploaded: 25 documents to the Qdrant database\n",
      "Uploaded: 25 documents to the Qdrant database\n",
      "Uploaded: 25 documents to the Qdrant database\n",
      "Uploaded: 25 documents to the Qdrant database\n",
      "Uploaded: 25 documents to the Qdrant database\n",
      "Uploaded: 25 documents to the Qdrant database\n",
      "Uploaded: 25 documents to the Qdrant database\n",
      "Uploaded: 25 documents to the Qdrant database\n",
      "Uploaded: 25 documents to the Qdrant database\n",
      "Uploaded: 25 documents to the Qdrant database\n",
      "Uploaded: 25 documents to the Qdrant database\n",
      "Uploaded: 25 documents to the Qdrant database\n",
      "Uploaded: 25 documents to the Qdrant database\n",
      "Uploaded: 25 documents to the Qdrant database\n",
      "Uploaded: 25 documents to the Qdrant database\n",
      "Uploaded: 25 documents to the Qdrant database\n",
      "Uploaded: 25 documents to the Qdrant database\n",
      "Uploaded: 25 documents to the Qdrant database\n",
      "Uploaded: 25 documents to the Qdrant database\n",
      "Uploaded: 25 documents to the Qdrant database\n",
      "Uploaded: 25 documents to the Qdrant database\n",
      "Uploaded: 25 documents to the Qdrant database\n",
      "Uploaded: 25 documents to the Qdrant database\n",
      "Uploaded: 25 documents to the Qdrant database\n",
      "Uploaded: 25 documents to the Qdrant database\n",
      "Uploaded: 25 documents to the Qdrant database\n",
      "Uploaded: 25 documents to the Qdrant database\n",
      "Uploaded: 25 documents to the Qdrant database\n",
      "Uploaded: 25 documents to the Qdrant database\n",
      "Uploaded: 25 documents to the Qdrant database\n",
      "Uploaded: 25 documents to the Qdrant database\n",
      "Uploaded: 25 documents to the Qdrant database\n",
      "Uploaded: 25 documents to the Qdrant database\n",
      "Uploaded: 25 documents to the Qdrant database\n",
      "Uploaded: 25 documents to the Qdrant database\n",
      "Uploaded: 25 documents to the Qdrant database\n",
      "Uploaded: 25 documents to the Qdrant database\n",
      "Uploaded: 25 documents to the Qdrant database\n",
      "Uploaded: 25 documents to the Qdrant database\n",
      "Uploaded: 25 documents to the Qdrant database\n",
      "Uploaded: 25 documents to the Qdrant database\n",
      "Uploaded: 25 documents to the Qdrant database\n",
      "Uploaded: 25 documents to the Qdrant database\n",
      "Uploaded: 25 documents to the Qdrant database\n",
      "Uploaded: 25 documents to the Qdrant database\n",
      "Uploaded: 25 documents to the Qdrant database\n",
      "Uploaded: 25 documents to the Qdrant database\n",
      "Uploaded: 25 documents to the Qdrant database\n",
      "Uploaded: 25 documents to the Qdrant database\n",
      "Uploaded: 25 documents to the Qdrant database\n",
      "Uploaded: 25 documents to the Qdrant database\n",
      "Uploaded: 25 documents to the Qdrant database\n",
      "Uploaded: 25 documents to the Qdrant database\n",
      "Uploaded: 25 documents to the Qdrant database\n",
      "Uploaded: 25 documents to the Qdrant database\n",
      "Uploaded: 25 documents to the Qdrant database\n",
      "Uploaded: 25 documents to the Qdrant database\n",
      "Uploaded: 25 documents to the Qdrant database\n",
      "Uploaded: 25 documents to the Qdrant database\n",
      "Uploaded: 25 documents to the Qdrant database\n",
      "Uploaded: 25 documents to the Qdrant database\n",
      "Uploaded: 25 documents to the Qdrant database\n",
      "Uploaded: 25 documents to the Qdrant database\n",
      "Uploaded: 25 documents to the Qdrant database\n",
      "Uploaded: 25 documents to the Qdrant database\n",
      "Uploaded: 25 documents to the Qdrant database\n",
      "Uploaded: 25 documents to the Qdrant database\n",
      "Uploaded: 25 documents to the Qdrant database\n",
      "Uploaded: 25 documents to the Qdrant database\n",
      "Uploaded: 25 documents to the Qdrant database\n",
      "Uploaded: 25 documents to the Qdrant database\n",
      "Uploaded: 25 documents to the Qdrant database\n",
      "Uploaded: 25 documents to the Qdrant database\n",
      "Uploaded: 25 documents to the Qdrant database\n",
      "Uploaded: 25 documents to the Qdrant database\n",
      "Uploaded: 25 documents to the Qdrant database\n",
      "Uploaded: 25 documents to the Qdrant database\n",
      "Uploaded: 25 documents to the Qdrant database\n",
      "Uploaded: 25 documents to the Qdrant database\n",
      "Uploaded: 25 documents to the Qdrant database\n",
      "Uploaded: 25 documents to the Qdrant database\n",
      "Uploaded: 25 documents to the Qdrant database\n",
      "Uploaded: 25 documents to the Qdrant database\n",
      "Uploaded: 25 documents to the Qdrant database\n",
      "Uploaded: 25 documents to the Qdrant database\n",
      "Uploaded: 25 documents to the Qdrant database\n",
      "Uploaded: 25 documents to the Qdrant database\n",
      "Uploaded: 25 documents to the Qdrant database\n",
      "Uploaded: 25 documents to the Qdrant database\n",
      "Uploaded: 25 documents to the Qdrant database\n",
      "Uploaded: 25 documents to the Qdrant database\n",
      "Uploaded: 25 documents to the Qdrant database\n",
      "Uploaded: 25 documents to the Qdrant database\n",
      "Uploaded: 25 documents to the Qdrant database\n",
      "Uploaded: 25 documents to the Qdrant database\n",
      "Uploaded: 25 documents to the Qdrant database\n",
      "Uploaded: 25 documents to the Qdrant database\n",
      "Uploaded: 25 documents to the Qdrant database\n",
      "Uploaded: 25 documents to the Qdrant database\n",
      "Uploaded: 25 documents to the Qdrant database\n",
      "Uploaded: 25 documents to the Qdrant database\n",
      "Uploaded: 25 documents to the Qdrant database\n",
      "Uploaded: 25 documents to the Qdrant database\n",
      "Uploaded: 25 documents to the Qdrant database\n",
      "Uploaded: 25 documents to the Qdrant database\n",
      "Uploaded: 25 documents to the Qdrant database\n",
      "Uploaded: 25 documents to the Qdrant database\n",
      "Uploaded: 25 documents to the Qdrant database\n",
      "Uploaded: 25 documents to the Qdrant database\n",
      "Uploaded: 25 documents to the Qdrant database\n",
      "Uploaded: 25 documents to the Qdrant database\n",
      "Uploaded: 25 documents to the Qdrant database\n",
      "Uploaded: 25 documents to the Qdrant database\n",
      "Uploaded: 25 documents to the Qdrant database\n",
      "Uploaded: 25 documents to the Qdrant database\n",
      "Uploaded: 25 documents to the Qdrant database\n",
      "Uploaded: 25 documents to the Qdrant database\n",
      "Uploaded: 25 documents to the Qdrant database\n",
      "Uploaded: 25 documents to the Qdrant database\n",
      "Uploaded: 25 documents to the Qdrant database\n",
      "Uploaded: 25 documents to the Qdrant database\n",
      "Uploaded: 25 documents to the Qdrant database\n",
      "Uploaded: 25 documents to the Qdrant database\n",
      "Uploaded: 25 documents to the Qdrant database\n",
      "Uploaded: 25 documents to the Qdrant database\n",
      "Uploaded: 25 documents to the Qdrant database\n",
      "Uploaded: 25 documents to the Qdrant database\n",
      "Uploaded: 25 documents to the Qdrant database\n",
      "Uploaded: 25 documents to the Qdrant database\n",
      "Uploaded: 25 documents to the Qdrant database\n",
      "Uploaded: 25 documents to the Qdrant database\n",
      "Uploaded: 25 documents to the Qdrant database\n",
      "Uploaded: 25 documents to the Qdrant database\n",
      "Uploaded: 25 documents to the Qdrant database\n",
      "Uploaded: 25 documents to the Qdrant database\n",
      "Uploaded: 25 documents to the Qdrant database\n",
      "Uploaded: 25 documents to the Qdrant database\n",
      "Successfully uploaded 8000 documents to the Qdrant database\n"
     ]
    }
   ],
   "source": [
    "def upload_documents_to_Qdrant(data, collection=\"news_articles\"):\n",
    "    # Get the current number of vectors in the collection\n",
    "    collection_info = client.get_collection(collection)\n",
    "    current_num_vectors = collection_info.vectors_count\n",
    "    \n",
    "    # Prepare points with payloads\n",
    "    points = [\n",
    "        models.PointStruct(\n",
    "            id=new_id,\n",
    "            vector=embedding,\n",
    "            payload={\n",
    "                \"title\": title,\n",
    "                \"content\": content\n",
    "            }\n",
    "        )\n",
    "        for new_id, (title, content, embedding) in zip(range(current_num_vectors + 1, current_num_vectors + 1 + len(data[\"embedding\"])), zip(data[\"Title\"], data[\"Content\"], data[\"embedding\"]))\n",
    "    ]\n",
    "\n",
    "    # Upload points to Qdrant\n",
    "    client.upload_points(\n",
    "        collection_name=collection,\n",
    "        points=points\n",
    "    )\n",
    "\n",
    "    print(\"Uploaded:\", len(data[\"embedding\"]), \"documents to the Qdrant database\")\n",
    "\n",
    "# Iterate through the dataset in batches\n",
    "batch_size = 25\n",
    "for i in range(0, len(small_set), batch_size):\n",
    "    data = small_set[i:i+batch_size]\n",
    "    upload_documents_to_Qdrant(data)\n",
    "\n",
    "print(f\"Successfully uploaded {len(small_set)} documents to the Qdrant database\")\n"
   ]
  },
  {
   "cell_type": "code",
   "execution_count": null,
   "metadata": {},
   "outputs": [
    {
     "data": {
      "text/plain": [
       "([Record(id=2, payload=None, vector=None, shard_key=None),\n",
       "  Record(id=3, payload=None, vector=None, shard_key=None),\n",
       "  Record(id=4, payload=None, vector=None, shard_key=None),\n",
       "  Record(id=5, payload=None, vector=None, shard_key=None),\n",
       "  Record(id=6, payload=None, vector=None, shard_key=None),\n",
       "  Record(id=7, payload=None, vector=None, shard_key=None),\n",
       "  Record(id=8, payload=None, vector=None, shard_key=None),\n",
       "  Record(id=9, payload=None, vector=None, shard_key=None),\n",
       "  Record(id=10, payload=None, vector=None, shard_key=None),\n",
       "  Record(id=11, payload=None, vector=None, shard_key=None)],\n",
       " 12)"
      ]
     },
     "execution_count": 64,
     "metadata": {},
     "output_type": "execute_result"
    }
   ],
   "source": [
    "client.scroll(\n",
    "    collection_name =COLLECTION_NAME , \n",
    "    limit =10 ,\n",
    "    with_payload=False , \n",
    "    with_vectors=False\n",
    ")"
   ]
  },
  {
   "cell_type": "code",
   "execution_count": null,
   "metadata": {},
   "outputs": [
    {
     "data": {
      "text/plain": [
       "('We’re going to close our borders. We’re going to drill baby drill.” He has upended and inverted yet another political convention: optimism. Not for him Ronald Reagan’s morning in America or Bill Clinton’s place called Hope or Barack Obama’s yes, we can. Instead only murder, mayhem and total darkness. If only he had still been running things, he lamented, Russia would not have invaded Ukraine, Israel would not have been attacked and Iran would be broke. Now inflation is “destroying the middle class, it’s destroying everything”. “Our cities are being overrun with migrant crime, and that’s Biden migrant crime,” Trump grimaced. “But it’s a new category and it’s violent, where they’ll stand in the middle of the street and have fistfights with police officers. And if they did that in their countries from where they came, they’d be killed instantly. They wouldn’t do that. So the world is laughing at us. The world is taking advantage of us.” Read more here: Trump’s Super Tuesday victory speech: grim visions of an American apocalypse Related: Trump’s Super Tuesday victory speech: grim visions of an American apocalypse Trump wins Utah in final call of Super Tuesday The AP declared Donald Trump the winner of Utah’s presidential caucuses, the last of the primary races to be called. Long lines and technical difficulties beset the contest. The Salt Lake Tribune reported that: The Republican party had urged caucus attendees to pre register through their website to make the checking process go smoothly. But chaos ensued Tuesday night, after digital systems crashed at multiple caucus locations. At several locations lack of internet slowed down and even stopped the process, leaving attendees stuck in long lines according to one Utah Republican source. It quoted one organiser saying “when people come up, either their voter ID doesn’t seem to load even though they’ve been voting for a long time, or when we try to look them up by their name and address that’s not coming up either.” Eventually vote counts began to be released in the early hours, with Trump outperforming Nikki Haley in yet another state. Interactive The victory of Jason Palmer in the Democratic contest in American Samoa was one of few eye-catching moments on Super Tuesday. Palmer, a Maryland resident, said “I found out that I had won because my phone started blowing up with friends and campaign staffers texting me.” Honored to announce my victory in the American Samoa presidential primary. Thank you to the incredible community for your support. ',\n",
       " [-0.06602068245410919,\n",
       "  -0.16564074158668518,\n",
       "  0.37824878096580505,\n",
       "  0.09481944143772125,\n",
       "  0.18270251154899597,\n",
       "  -0.06469552963972092,\n",
       "  0.0949196070432663])"
      ]
     },
     "execution_count": 65,
     "metadata": {},
     "output_type": "execute_result"
    }
   ],
   "source": [
    "query=small_set[1]['embedding']\n",
    "small_set[1]['Content'] , query[:7]"
   ]
  },
  {
   "cell_type": "code",
   "execution_count": null,
   "metadata": {},
   "outputs": [
    {
     "data": {
      "text/plain": [
       "ScoredPoint(id=12836, version=3156, score=0.95170057, payload={'content': 'Tova S, a Los Angeles native said she was voting “as libertarian as possible” in all of the races on her ballot. At the national level, she’s most interested in Vivek Ramaswamy as a presidential candidate because of his stance on ending financial aid to other countries and locally she’s voting for Gail Lightfoot, a libertarian running for a US Senate seat. “They’re very out there, I look at them as the middle ground,” Tova said. “They give out-of-the-box thinking. I just don’t want the same old same old. I really want someone to make changes.” She also made it a point to research each candidate’s background, upbringing, and prior decisions to weed out those within whom she could have hope from those who were all about one-liners and photo ops. To her disappointment, she found that most candidates, whether they were running for a judgeship, senate seat, or position on the county school board, did not have a website or any other way to learn about their stances and histories. “I had to go on Ballotopedia for most people,” she said. “If they’re not doing anything to market and show why someone should want them to represent their area what’s the point of voting for them?” she said. Polls have closed in Virginia and Vermont These are the first polls to close today, and we’ll be keeping a close eye on how quickly the Associated Press will call races here. How California voters are showing support for a Gaza ceasefire One thing we’re keeping an eye on today is the popularity of the “uncommitted” ballot option in state’s like Minnesota and Colorado, which pro-Palestinian groups are encouraging as a way to protest Joe Biden’s support of Israel amid the war in Gaza. But in California, where an uncommitted vote is not an option in the Democratic primaries, voters looking to mark their protest have been unsure what to do. In the Democratic presidential primary, only votes for Biden, the seven official candidates or six certified write-ins will be counted. Write-in votes for “uncommitted” or “ceasefire” will not count, the secretary of state’s office has said. Activists are asking supporters to instead cleave the presidential question blank and focus on down-ballot races, including the senate race. ', 'title': 'Trump and Biden pick up easy victories across the US in Super Tuesday primaries – as it happened'}, vector=None, shard_key=None)"
      ]
     },
     "execution_count": 66,
     "metadata": {},
     "output_type": "execute_result"
    }
   ],
   "source": [
    "result =client.search(\n",
    "    collection_name=COLLECTION_NAME ,\n",
    "    query_vector =query ,\n",
    "    limit=1\n",
    ")\n",
    "result[0]"
   ]
  },
  {
   "cell_type": "code",
   "execution_count": null,
   "metadata": {},
   "outputs": [],
   "source": [
    "def embed_query(query_text):\n",
    "    # Tokenize the query text\n",
    "    query_inputs = tokenizer(\n",
    "        query_text,\n",
    "        padding=True,\n",
    "        truncation=True,\n",
    "        return_tensors=\"pt\"\n",
    "    )\n",
    "    \n",
    "    # Embed the query\n",
    "    with torch.no_grad():\n",
    "        query_model_output = model(**query_inputs)\n",
    "    \n",
    "    query_embedding = mean_pooling(query_model_output, query_inputs[\"attention_mask\"])\n",
    "    \n",
    "    return query_embedding"
   ]
  },
  {
   "cell_type": "code",
   "execution_count": null,
   "metadata": {},
   "outputs": [],
   "source": [
    "query_embedding = embed_query(\"The Early Music Show, presented by Lucie Skeaping\")\n",
    "\n",
    "# Perform similarity search\n",
    "query_result = client.search(\n",
    "    collection_name=COLLECTION_NAME,\n",
    "    query_vector=query_embedding[0].tolist(),  # Convert tensor to list\n",
    "    limit=5\n",
    ")\n"
   ]
  }
 ],
 "metadata": {
  "kernelspec": {
   "display_name": "Python 3",
   "language": "python",
   "name": "python3"
  },
  "language_info": {
   "codemirror_mode": {
    "name": "ipython",
    "version": 3
   },
   "file_extension": ".py",
   "mimetype": "text/x-python",
   "name": "python",
   "nbconvert_exporter": "python",
   "pygments_lexer": "ipython3",
   "version": "3.12.1"
  }
 },
 "nbformat": 4,
 "nbformat_minor": 2
}
